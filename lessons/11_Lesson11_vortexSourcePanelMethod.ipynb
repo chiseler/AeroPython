{
<<<<<<< HEAD
 "cells": [
  {
   "cell_type": "raw",
   "metadata": {},
   "source": [
    "Content provided under a Creative Commons Attribution license, CC-BY 4.0; code under MIT license. (c)2014 Lorena A. Barba, Olivier Mesnard. Thanks: NSF for support via CAREER award #1149784."
   ]
  },
  {
   "cell_type": "markdown",
   "metadata": {},
   "source": [
    "[@LorenaABarba](https://twitter.com/LorenaABarba)"
   ]
  },
  {
   "cell_type": "markdown",
   "metadata": {},
   "source": [
    "##### Version 0.3 -- April 2014"
   ]
  },
  {
   "cell_type": "markdown",
   "metadata": {},
   "source": [
    "# Source-vortex panel method"
   ]
  },
  {
   "cell_type": "markdown",
   "metadata": {},
   "source": [
    "In [Lesson 9](http://nbviewer.ipython.org/urls/github.com/barbagroup/AeroPython/blob/master/lessons/09_Lesson09_flowOverCylinder.ipynb) of _AeroPython_, you learned to use a _source panel method_ to represent a circular cylinder, and in [Lesson 10](http://nbviewer.ipython.org/urls/github.com/barbagroup/AeroPython/blob/master/lessons/10_Lesson10_sourcePanelMethod.ipynb) we used it for a symmetric airfoil at zero angle of attack. But what if we want the airfoil to generate some lift? If we place the airfoil at a non-zero angle of attack, we _should_ get lift, but will a source-panel representation be able to give you lift? Remember the _Kutta-Joukowski theorem_?\n",
    "\n",
    "\n",
    "Historically, the first panel method ever developed was a source-sheet method. At the time, Douglas Aircraft Company was concerned with calculating the flow around bodies of revolution, and it was only later that the method was extended to lifting surfaces. (See the reference below for a nice historical account.)\n",
    "\n",
    "A *source-panel method* leads to a solution with no circulation, therefore no lift. The objective of this lesson is to start with the source panel method we implemented in the previous lesson and add some *circulation* so that we may have a lift force. We introduce an important concept: the **Kutta-condition** that allows us to determine what the right amount of circulation should be."
   ]
  },
  {
   "cell_type": "markdown",
   "metadata": {},
   "source": [
    "##### Reference\n",
    "\n",
    "* Smith, A.M.O., The Panel Method: Its Original Development. In _Applied Computational Aerodynamics_, Vol. 125, edited by P.A. Henne, published by AIAA (1990). [Read it on Google Books.](http://books.google.com/books?id=5Ov2tHj0wxoC&lpg=PA3&ots=SnUiqcdEnb&dq=The%20Panel%20Method%3A%20Its%20Original%20Development&pg=PA3#v=onepage&q&f=false)"
   ]
  },
  {
   "cell_type": "markdown",
   "metadata": {},
   "source": [
    "## A lifting-body panel method"
   ]
  },
  {
   "cell_type": "markdown",
   "metadata": {},
   "source": [
    "If we were to simply increase the angle of attack in the freestream and calculate the flow with a source sheet only, the rear stagnation point will not be located at the trailing edge. Instead, the flow will bend around the trailing edge and the stagnation point will be somewhere on the top surface of the airfoil. This is not a physically possible solution.\n",
    "\n",
    "For example, using the source-sheet panel method of [Lesson 10](http://nbviewer.ipython.org/github/barbagroup/AeroPython/blob/master/lessons/10_Lesson10_sourcePanelMethod.ipynb) with an angle of attack $\\alpha=4^\\circ$ (using 40 panels), and plotting the streamlines in an area close to the trailing edge, we get the following plot:\n",
    "\n",
    "<center>![image](files/resources/StreamlinesTrailingEdge.png)</center>"
   ]
  },
  {
   "cell_type": "markdown",
   "metadata": {},
   "source": [
    "As you can see, the streamlines behave strangely at the trailing edge. We know experimentally that the flow leaves the trailing edge of an airfoil smoothly, so this must be wrong. Well, it's just that we can't use purely sources to calculate potential flow of an airfoil at non-zero angle of attack—we need circulation. But how do we obtain circulation?\n",
    "\n",
    "### The Kutta condition\n",
    "\n",
    "The *Kutta-condition* states that the pressure below and above the airfoil trailing edge must be equal so that the flow does not bend around it, but leaves tangentially. The rear stagnation point must be exactly at the trailing edge.\n",
    "\n",
    "It's natural to be a little perplexed by this. How can we justify this seemingly arbitrary condition? Remember that potential-flow theory completely ignores fluid viscosity, so if we are leaving out this physical effect, we shouldn't be surprised that the theory needs some adjustment for those situations when viscosity does play a role. A real viscous fluid is not able to turn around a sharp corner like an airfoil trailing edge without separating there. The Kutta condition allows us to correct potential-flow theory so that it gives a solution closer to reality.\n",
    "\n",
    "Remember [Lesson 6](http://nbviewer.ipython.org/github/barbagroup/AeroPython/blob/master/lessons/06_Lesson06_vortexLift.ipynb), where we studied lift on a cylinder by combining a doublet and a freestream, plus a vortex. That's when we learned that **lift always requires circulation**. If you experimented with the circulation of the point vortex (which you *did*, right?), you found that the stagnation points moved along the cylinder.\n",
    "\n",
    "Like for the circular cylinder, the amount of circulation we add to an airfoil will move the stagnation points along the surface. And if we add just the right amount, the rear stagnation point can be made to coincide with the trailing edge. This amount of circulation makes the flow a physically relevant solution. And this amount gives the correct lift!\n",
    "\n",
    "To implement the Kutta-condition in our panel method we need to add one more equation to the system, giving the circulation that moves the stagnation point to the trailing edge. By placing a vortex-sheet with the same constant strength at every panel, we can add the circulation to the flow with just one more unknown.\n",
    "\n",
    "How do we enforce this in our code? We can re-use most of the code from Lesson 10, and enforce the Kutta-condition while adding circulation to the flow. Previously, we discretized the geometry into `N` panels, with a constant source strength on each one (varying from panel to panel), and applied a Neumann boundary condition of flow tangency at the `N` panel centers. This led to a linear system of `N` equations and `N` unknowns that we solved with the NumPy function `linalg.solve()`. In the lifting-body case, we will instead have `N+1` equations and `N+1` unknowns. Read on to find out how!\n"
   ]
  },
  {
   "cell_type": "markdown",
   "metadata": {},
   "source": [
    "### Discretization into panels"
   ]
  },
  {
   "cell_type": "markdown",
   "metadata": {},
   "source": [
    "Let's get the preliminaries out of the way. We need to import our favorite libraries, and the function `integrate` from SciPy, as in Lesson 10."
   ]
  },
  {
   "cell_type": "code",
   "execution_count": 8,
   "metadata": {
    "collapsed": false
   },
   "outputs": [],
   "source": [
    "import math\n",
    "import numpy\n",
    "from scipy import integrate\n",
    "from matplotlib import pyplot"
   ]
  },
  {
   "cell_type": "markdown",
   "metadata": {},
   "source": [
    "We start by importing the NACA0012 geometry from a data file, and we plot the airfoil:"
   ]
  },
  {
   "cell_type": "code",
   "execution_count": 9,
   "metadata": {
    "collapsed": false
   },
   "outputs": [
    {
     "data": {
      "image/png": [
       "iVBORw0KGgoAAAANSUhEUgAAAnEAAAB+CAYAAABLREfEAAAABHNCSVQICAgIfAhkiAAAAAlwSFlz\n",
       "AAALEgAACxIB0t1+/AAAG+JJREFUeJzt3Xu0XOV93vHvg7gKAZKQkIS4CBtqLr4IQgXEuAhDEwyx\n",
       "sZPWBLt2cJJlnLVwk9ZJsJ2s2Ekat7ghENdZmGBqcJyWpLYTk9hg0xgllAXEuFxryY4MAgldkBC6\n",
       "IAmhy69/vO/O2RrNnNnn6Jw9s2eez1rv2pfZM+c975kz+zfvVRGBmZmZmTXLQb3OgJmZmZmNnYM4\n",
       "MzMzswZyEGdmZmbWQA7izMzMzBrIQZyZmZlZAzmIMzMzM2ugg3udgbpJ8pwqZmZm1hgRoXbnhy6I\n",
       "g86F0c8k3RER1/Q6H8PEZV4/l3n9XOb1c5nXr8llPlrlk5tTzczMzBrIQVxzrOh1BobQil5nYAit\n",
       "6HUGhtCKXmdgCK3odQaG0IpeZ2AyOIhrjiW9zsAQWtLrDAyhJb3OwBBa0usMDKElvc7AEFrS6wxM\n",
       "BgdxZmZmZg3kIM7MzMysgRQxXDNuSIomjk41MzOz4TNa3OKaODMzM7MGGsp54ppI0uKIWNLrfAyT\n",
       "ustckoAppP/LTmmia5ED2A3sKm2LtCdqrqr3+7x+LvP6uczrN6hl7iDObBSSDgKmAUcDR7VsjwSm\n",
       "lrZT2xwfARwOHAocNko6hBTA9RVJ5cCuNchrd6443gnsGEN6NW9Pl7Sp3TURsWfSf2Ezswbpuz5x\n",
       "ki4Dbibd0L4YETe0ueZzwDuA7cA1EfFYPr8C2ALsAXZFxKI2z3WfuCGTa7imAccBs4FjgZnAjJxm\n",
       "ttkendO0mrO7hxQItUt7gL0T/PMOYqSW75CW1G/dLXYB24CtwCs5be2wrXJuW0TsrvdXMDMbm9Hi\n",
       "lr6qiZM0Bfg8cCnwAvA9SXdHxNLSNZcDp0bEaZLOA24Bzs8PB7A4IjbWnHXrAUlHAse3pHmkYK0I\n",
       "2Gbn/cMO4EcVN/0tLdtXSF8ktuXt9jbHO0i1Ut3Sa/Sg+XI0uRayHNy1C/RazxXHhzNSC3lEhVTl\n",
       "ukOA6TlN1O/4KulvuRXYBGwubTe3ObffNRGxa6LyY2Y2Fn0VxAGLgOURsQJA0l3AlcDS0jXvAu4E\n",
       "iIhHJE2XNCci1uXHB7KWbVDb8zuRdBhwInByTieVtkXAdvQYXnI78CKwHngJ2JjTyzltbNluBt4M\n",
       "fHtYm/EiYi8puHytrp/Z6X2ea1MPJTVVTyM1aU9r2R/tXKfHDs9p9gHkeTsdAry8v3GUtL3Xgfuw\n",
       "fbb0A5d5/Qa1zPstiJsPrCwdrwLOq3DNfGAdqSbuf0vaA9waEbdNYl7tAEmaCZzaJp0CzK3wEjuB\n",
       "1S1pDem9sJ6RoG19RGwbR/5OHdYArt/kQKeotZyQmvYcGB7BSB/HY3Ka3mXbeq7o/zhvHNl4TVIR\n",
       "0JW/XHRLW3sd/JlZ7/VbEFf1Q6lTbduFEbFa0mzgPknLIuKB/Z4s3cHIOmqbgMeLCF3SYgAfT9jx\n",
       "xaSAbCtwJvB2Um3aXFL/s072kAL0zaSg7B+B50k3zfXAN0g1ZhdVyM8C8pIrY8l/RCzpg/IbquPi\n",
       "XB0/LyJC0qI2j78UEV8bw+sdATxFCuouJtUWrszHZ5OCxG2kvpavy8eHkfpmHk76X6jypaVsj6SX\n",
       "SDXMm4HlwAZSMLkZeJj0f3JyPv6biNjR6fcp9Prv72MfT9Zxkz7Ps8Wke9eo+mpgg6TzgU9HxGX5\n",
       "+BPA3igNbpD0BWBJRNyVj5cBF8VIc2px3aeAVyLixpbzER7YMCkkzQAWkm5cC4GzgDNIN7l2XiHd\n",
       "fFrTs8DqcKdzG3CSjiAFd2NN4xlws50U6K3P2w1tjtczUov9cqQmdTProdHiln6riXsUOE3SAlLT\n",
       "2FXA1S3X3A1cB9yVg75NEbFO0lRgSkRsVerw/lPA79aW80lWrp3oBzlgW0Rq7j47p5M7XL4a+EEp\n",
       "LQV+CLwY/fQtokW/lfkwGLYyj4gdpEFcL4zleZIOJdXkzcppdpf92aRaupNyqmK3pCKge5FUI95u\n",
       "/0XS//KrY/kdhtmwvc/7waCWeV8FcRGxW9J1wLdJU4zcHhFLJV2bH781Ir4l6XJJy0lNFB/KT58L\n",
       "fF0SpN/rzyPiO/X/FoNHaZTiWcAFpJHAFwCnt7n0VeBJ4LGcngJ+EBGbasqq2VCIiNdI/T/XVLle\n",
       "+udpdtoFeueQRlEXx8Xo7umkfn6V+vpJ2sLowd7anNZExCtVXtPMRtdXzal1cHNqd/kD/0xS/56L\n",
       "Sf3Ojm25bCfwfeCRvH0M+JGbQM0Gg9II8WKKnuOAOV32x1IpsI0UgK5tsy3vrw8PLrIhN1rc4iDO\n",
       "AFAaKfrTwM8Al5A+mMtWAg8CD5E6TT8RETtrzaSZ9aX8xW86owd6xQCOeaQBHVXsJdXidQ34Yhwj\n",
       "0M2awEFcSVODuMloz5f0BuDdwBXAW9l3hv61wHeB+3N6pp/7r02GQe1D0c9c5vWru8xzwHc0KZib\n",
       "22Zb3p81hpfeSudAr5iC6AVSP2rPzTdkmlzmTRrYYJMsDxq5Cvh50gjSwm7SNBzfBO4BlvX6g87M\n",
       "Bk/+XCkmQ1422rV5AMdxdA74ytujcjqtSxZ2SHqBkaCuSOXj1bnfoVlfc03cEMijda8Cfpk0KKGw\n",
       "hTTf2t3AfRGxuQfZMzM7IKXm3E4BXrHKy3yqT8+ygX2DvHaB30v+smuTzc2pJcMUxEk6C/gI8AHS\n",
       "xKOQ5oq6G7gLuNf92sxsmEg6mhTMFUHd/DbHc0kzJHTzGi01eOwb5K0EXnCtnh0IB3ElTQ3ixtKe\n",
       "L+kC4LeBy0unHwZuBf6XOwBX0+Q+FE3lMq+fy3x/kqaQmnE7BXnF/vQKLxekqVZWkYK6laR1gJeU\n",
       "znly80nW5Pe5+8QNCUlvBX6PtLQVpFq3LwNfiIgnepYxM7MGydOaFPPwPdrputxVpdxU25pOzI8V\n",
       "AzbOLT39I6X9vZLWsG+gV6Ti3FpPt2KtXBM3ACTNBz4LvC+f2gJ8Hrg5Itb3LGNmZkNO0sGkfnkn\n",
       "kIK6IpWP50LHNcELu0nNte0CveeB53AfvYHk5tSSQQricmfejwKfIS26vRP4r8CNXiXBzKwZ8ijc\n",
       "eXQO8k4kNe92s42RgK6cinOrXZvXPA7iSpoaxLW250s6FvgS8M586q+Aj0XEsz3I3kBqch+KpnKZ\n",
       "189lXr/xlHleQaNooi0HeSeR1q0+mTT/3mh2k2ryOgV5zw/qGrhNfp+7T9yAkXQ68B3SP/Am4Bcj\n",
       "4q96myszM5sseSaBZ3JqS9IxjAR07dIcYEFOnV5jHZ2DvOfcytNfXBPXMJLeCPwdqWr9EeCqiHiu\n",
       "t7kyM7N+J+lw0pf/TkHeCXSv3NlCCuhW5PRsOUXElknI+lBzc2pJk4O4PIDhMdKi1PcB746I7b3N\n",
       "lZmZDYI8tco8Rq/Nm9rlZTbSEtiV0nOD2lw7mRzElTQ1iJN0MWnut7eT1jS9wv8Mk6vJfSiaymVe\n",
       "P5d5/Zpa5nkw3bGkYG4BcEpLWgAc3uVlVtM5yFs1WQMvmlrm0LA+cZIuA24mzZb9xYi4oc01nwPe\n",
       "QZoH7ZqIeKzqcxvsclIAtx54nwM4MzOrU56+ZENO3299PAd5c9g/uCvSSYzMq/fWNj9it6TnSf3+\n",
       "ftyaIuKVCf6VGq+vauJyVe4PgUtJS5Z8D7g6IpaWrrkcuC4iLpd0HvDHEXF+lefm5zeuJi7/YzwF\n",
       "nAV8ICK+0uMsmZmZjUmeM+8EOgd587q8xIuMBHWtgd66QZ0j74Br4iQ9BNwC/MUkr7W5CFgeESvy\n",
       "z70LuBIoB2LvAu4EiIhHJE2XNJf0Buj23KY6lxTArQP+ssd5MTMzG7O8tNiKnO5vfVzSEaSm2tcB\n",
       "r29JryMN6DsOuKDNy2+T1BrYFcfPRcSuif1t+kPV5tSdwB3ATZK+DNwaEcsmIT/zSbNPF1YB51W4\n",
       "pljLrttzm+qNeft3Xki5Pk3uQ9FULvP6uczr5zJvLyJ2AMty2oekg0j3+dbArtifCbwpp1Z7JP0I\n",
       "uCAiNk9O7nujUhAXEYvz3GQfBn4B+FVJ/wB8AfjaBEa4VatCG9UcOgFOztsVvcyEmZlZL0TEXlLl\n",
       "zCrg71sflzSdkYDuTOAS4ML88BTgDOCTwPV15LculQc25Jq3/yjpk8C/Ba4F/gewXtIdpNq5jpMQ\n",
       "VvQCaQ6bwomkP9ho15yQrzmkwnMByPldkQ83AY8X34okLQbos+NZOa/T+yQ/Q3EcEUv6KT/DcFyc\n",
       "65f8DMtxoV/y42MfdzuWNAN4L6l2biepVu4n8vFs2lf2nNiEz5dsMaNMylwY98AGSecANwFvy6eC\n",
       "tPTTdRGxdpyveTBpcMIlpGHI/8joAxvOJy3yfn6V5+bnRzRvYMM7gbuB/xMRb+t2vZmZWZOpffNp\n",
       "Oc0Y5el7SBMSt/aNWxIRGycx25NitLhlTFOMSJoKXA18hBTx/hD4NeCrwBXA75Jq594+noxGxG5J\n",
       "1wHfJlV/3h4RSyVdmx+/NSK+JelySctJi/1+aLTnjicffegB4FXgQklnDNDv1dfK39isHi7z+rnM\n",
       "6+cyT5SaQMtzzBX7r8/bw0Z5+jbaj1L9MWkN2H26eeUyb1wA103V0alvJjWfvp80W/M3gOsj4rul\n",
       "y26TtJYU0I1bRNwD3NNy7taW4+uqPncQRMQmSfeRFrv/A0k/F+OtQjUzM6uBpCPZf1Lg8vExXV6i\n",
       "PKVIa3rR98GKzamS9pKaKG8D/jQi1nS47kzgTyLi4gnN5QRqYnMqgKQFwJPAUcCHI+K2nmbIzMyG\n",
       "mqTDaL96Q3E8u8tLbCOt1LCCkVUbVpBq156JiK0Tn+vmGS1uqRrE/Rzw1zFJy2HUqalBHICk9wNf\n",
       "AXaTFr7/eo+zZGZmA0r7T867oGX/eNoPICi8xkiAVmzLwdoG16Z1d8BB3CBpahBX9KGQ9FngN0gd\n",
       "N68Jr94wadxvpX4u8/q5zOvXL2UuaRppKayT8/akluMTSH3MO9lDmp+1HJiVA7W1kaYG6bl+KfPx\n",
       "mLCBDdYXrgd2kea7+TNJFwL/IdIkiWZmZsXozrnsH5iVj0cb4VloXbB+BfsuWL97ovNu1bkmroEk\n",
       "iTRC+CbS6J2ngY9ExIM9zZiZmdUizxZxEu1r0E4izZV6SJeX2Qk8T5qO4/k2+6si4tXJyL9V5+bU\n",
       "kkEI4gqSFgJ/AfyLfOorpFHDq3uXKzMzOxCSpgBzSM2ZnQK1WR1fYMR62gdnxf5690nrfw7iSpoa\n",
       "xHVqz8/fxj4O/CapVm47cAtwY6dRxFZNk/tQNJXLvH4u83rlwQLvIa0odEKHdDzduzvtYiQoaxeo\n",
       "rYyI7ZPwKzRSk9/n7hM3wPI/6e8oLSV2I/Bu4GPAdZJuB26KiOU9zKKZ2VCQdCgpAOsUnJ0AzAMO\n",
       "qvBy60mB3kra16Kt65dBA9Y7rokbMHk5tN8CfrZ0+j7gC8DftM5ibWZm3eWJa49n9CBtDqNPuQFp\n",
       "icp1jARoq9qk1e6LZgU3p5YMehBXkHQW8OvAzwOH59NrgD8H7gL+r/tCmNmwyxPWzmMkQGtN8/P2\n",
       "6Aovt5f0OdspOFsFrImI1yb2t7BB5iCupKlB3Hjb8yXNAD5AGs16Rumh5aRg7i+Bpx3Q7a/JfSia\n",
       "ymVev0Etc0mHkGrGOgVnRTq24kvuJE23MVqQtrbKlBuDWub9rMll7j5xQywiXgY+J+m/ARcAVwPv\n",
       "BU4Ffjun5yT9LfC3wBJX45tZv8rB2XF0D9COo3vTJqQVcNaQArTR0sv+smv9xjVxQyiPjrqIFNC9\n",
       "i33Xt9sO3A98N2+fcOdZM5tMeUqNWaTAbG5Onfar1pwVfc+6BWfr/Rln/czNqSUO4vaVZ/U+F/gZ\n",
       "4ArgnJZLXgb+nhTQPQg86cERZtZNnpR8Jt0DszmkWrMqIzYh9TtbT/cAbZ1XE7BB4CCupKlBXF3t\n",
       "+ZKOBy4B3g5cTJpYsmwH8CjwEPAw8PCgzkfX5D4UTeUyr99Yyjx/6ZtJCrpmkwKwcjBWDtDm0H3F\n",
       "gLKXgLWk4Gxty3753IaI2DOG1+07fp/Xr8ll3og+cZJmklYfOJm0Ntt7I2JTm+suA24mLcr7xYi4\n",
       "IZ//NPDLpG9oAJ+IiHsnP+eDJa/28Gc5IekUUjB3EalP3WnA23IiX7MGeBx4LKfHgWfcRGHW33JQ\n",
       "doykM0lB2WxGArR2+8dSvcYMYDPVArP1HrFpNnZ9UxMn6bOkb1iflXQ9MCMiPt5yzRTgh8ClwAvA\n",
       "94CrI2KppE8BWyPij7r8nEbWxPULSbOA84Dzc1pE+6H3W4GngB+0pFXuHGw2OfIKLrNIwVaRZuU0\n",
       "EUEZpC4W64EX83YNHYI0D5IyO3CNqIkjdbC/KO/fCSwhLSdVtghYHhErACTdBVwJLM2POzibZBGx\n",
       "AfhmTsU3+VOAs4GFeXs2ad6ln8ypbKukpcCPSNOclNNGB3hm/9yf7BjaB2SjHR/e7vW6aA3KRtvf\n",
       "4D6xZv2jn4K4ORGxLu+vI/WnaDWfND9PYRWpVqjwUUkfJPXZ+li75tim6tf2/Nxk+uOcvlqclzQH\n",
       "OBM4K2+LNJsUjC9q83KbJC0HniUtLVNOz9f99+zXMh9kg1TmORCbCswopektx63nimBsJqnLyFi9\n",
       "SupbVqQNpW3boAx466CUeVMM0vu8KQa1zGsN4iTdR+r02uq3ygcREZLa1ciMVktzC/B7ef/3SeuI\n",
       "/lKHfNxB6ncHsAl4vPjjSlqc89BXx6W890V+Kh6vy3/Hp0uPX0nq9/gKaa66C0jB+TzSzezcnPYj\n",
       "aQvpprMBeJo0Am0a6Sb1nXz8BmBPn/z+Ph7jMbBQUl/kJwdhl5ECsf9H6jZwIXAk6b02A3gLcBRp\n",
       "ap4ZpPf2NFKN2HTG1rG/1RZgW94+S3qfH56Pv0/6PziB1O/sO/l4UcXf78nS8UJSy0fP//7Dclzo\n",
       "l/z4uL+Os8XAArropz5xy4DFEbFW0jzg/og4veWa84FPR8Rl+fgTwN7IgxtK1y0grRP6pjY/J8J9\n",
       "4vpOvmHOJg2cWEC6GRbppLydWuGlAtjIvjUOrdsNpCakjXm7NfrlH8EOSH4fHUoKtKaRAq/xpqMY\n",
       "e3+xVjtI77FNeVtO7c5tJAVrG8Md/c2M0eOWfmpOvRv4BeCGvP3rNtc8CpyWg7TVwFWkCWuRNC9G\n",
       "prp4D6lTvTVEDqJezOnB1sfzzflYUkBXnpV9XsvxHEaapE5vfZ0O9kgq30RfJtVubCEN0NjSYf8V\n",
       "Ug3MdlKNyXZglwPC/eW/38GkAOuwljQ1pyNLaWqH/SqPjacZspPtjPzNy3/71uCrbWAWETsnMC9m\n",
       "Zvvop5q4maR1PE+iNMWI0rxlt0XEFfm6dzAyxcjtEfGf8/kvk5oFgtT0cG2M9LEr/5xG1sRpQNvz\n",
       "J5rSahTleazKI/KKbdHnqOiHNG0Cs7CHkcBuO6kmZmeFtIs0ieme0rbTfrfHizm0DiL9n3TbVrnm\n",
       "IFLTYBF4tQvGuqW6/u92k4LqctA9nrQ1hmCyWH+21M9lXr8ml3kjauIiYiNp6pDW86tJKwkUx/cA\n",
       "97S57oOTmkFrhHzTLWr0KpF0KKn/UhHYzSQ1p51Lmj6h3LxWbI9hpBZoaikdkh8/akJ+ocGyl/YB\n",
       "7A5S0LUNOAJ4npGazW2ltL3C/rbw6EkzGxJ9UxNXl6bWxFkzKC3OPbUlVam5OpjOtWLdas3a7Yv2\n",
       "tXfdtt0eq1KrWE6vFfvDUKtlZjbRRotbHMSZmZmZ9anR4pYDHXllNWkdmm6Tz2VeP5d5/Vzm9XOZ\n",
       "129Qy9xBnJmZmVkDuTnVzMzMrE+5OdXMzMxswDiIa4hBbc/vZy7z+rnM6+cyr5/LvH6DWuYO4ppj\n",
       "Ya8zMIRc5vVzmdfPZV4/l3n9BrLMHcQ1x/ReZ2AIuczr5zKvn8u8fi7z+g1kmTuIMzMzM2sgB3HN\n",
       "saDXGRhCC3qdgSG0oNcZGEILep2BIbSg1xkYQgt6nYHJMJRTjPQ6D2ZmZmZVedktMzMzswHi5lQz\n",
       "MzOzBnIQZ2ZmZtZADuL6jKTLJC2T9E+Sru9wzefy409IOrvuPA6abmUu6f25rJ+U9KCkN/cin4Ok\n",
       "yvs8X/cvJe2W9LN15m8QVfxsWSzpMUlPS1pScxYHToXPllmS7pX0eC7za3qQzYEh6b9LWifpqVGu\n",
       "Gaj7p4O4PiJpCvB54DLgTOBqSWe0XHM5cGpEnAZ8GLil9owOkCplDjwD/KuIeDPw+8Cf1pvLwVKx\n",
       "zIvrbgDuBbze8QGo+NkyHfgT4J0R8Ubg39Se0QFS8X1+HfBYRCwEFgM3Sjq41owOli+RyrutQbx/\n",
       "OojrL4uA5RGxIiJ2AXcBV7Zc8y7gToCIeASYLmlOvdkcKF3LPCIeiojN+fAR4ISa8zhoqrzPAT4K\n",
       "fBVYX2fmBlSVMn8f8LWIWAUQERtqzuOgqVLma4Cj8/7RwEsRsbvGPA6UiHgAeHmUSwbu/ukgrr/M\n",
       "B1aWjlflc92ucVAxflXKvOyXgG9Nao4GX9cylzSfdMMrvil7GP2BqfI+Pw2YKel+SY9K+kBtuRtM\n",
       "Vcr8NuAsSauBJ4BfrSlvw2rg7p+utu0vVW9UrU1LvsGNX+Wyk3Qx8IvAWycvO0OhSpnfDHw8IkKS\n",
       "cHPqgapS5ocA5wCXAFOBhyQ9HBH/NKk5G1xVyvyTwOMRsVjS64H7JL0lIrZOct6G2UDdPx3E9ZcX\n",
       "gBNLxyeSvimMds0J+ZyNT5UyJw9muA24LCJGq6637qqU+U8Ad6X4jVnAOyTtioi768niwKlS5iuB\n",
       "DRGxA9gh6R+AtwAO4sanSpn/JPAHABHxY0nPAm8AHq0lh8Nn4O6fbk7tL48Cp0laIOlQ4Cqg9aZ1\n",
       "N/BBAEnnA5siYl292RwoXctc0knA14F/FxHLe5DHQdO1zCPidRFxSkScQuoX9ysO4A5Ilc+WbwAX\n",
       "SpoiaSpwHvCDmvM5SKqU+TLgUoDcN+sNpIFUNjkG7v7pmrg+EhG7JV0HfBuYAtweEUslXZsfvzUi\n",
       "viXpcknLgW3Ah3qY5carUubA7wAzgFtyzdCuiFjUqzw3XcUytwlU8bNlmaR7gSeBvcBtEeEgbpwq\n",
       "vs8/A3xJ0hOkSpXfjIiNPct0w0n6n8BFwCxJK4FPkboJDOz908tumZmZmTWQm1PNzMzMGshBnJmZ\n",
       "mVkDOYgzMzMzayAHcWZmZmYN5CDOzMzMrIEcxJmZmZk1kIM4MzMzswZyEGdmZmbWQA7izMzMzBrI\n",
       "QZyZ2ThIOlLSMkmPSDq4dP6nJO2V9Cu9zJ+ZDT4vu2VmNk6SFgIPAzdFxCfyIuZPAA9FxHt6mzsz\n",
       "G3QO4szMDoCkXwP+EPhp4DeAs4C3eCFzM5tsDuLMzA6QpG8ClwAHA/86Iu7vcZbMbAi4T5yZ2YH7\n",
       "CnAo8IQDODOri4M4M7MDIGku8MfA94GFkv59j7NkZkPCQZyZ2ThJEnAnsAO4FLgZuEHSm3qaMTMb\n",
       "Cu4TZ2Y2TpJ+HfgvwMUR8YCkQ0ijVQ8Dzo2IV3uaQTMbaK6JMzMbB0nnAP8J+ExEPAAQEbuAq4EF\n",
       "wI29y52ZDQPXxJmZmZk1kGvizMzMzBrIQZyZmZlZAzmIMzMzM2sgB3FmZmZmDeQgzszMzKyBHMSZ\n",
       "mZmZNZCDODMzM7MGchBnZmZm1kAO4szMzMwa6P8DoIuJHDteSiYAAAAASUVORK5CYII=\n"
      ],
      "text/plain": [
       "<matplotlib.figure.Figure at 0x7f7fd67e8610>"
      ]
     },
     "metadata": {},
     "output_type": "display_data"
    }
   ],
   "source": [
    "# reads of the geometry from a data file\n",
    "with open ('./resources/naca0012.dat') as file_name:\n",
    "    x, y = numpy.loadtxt(file_name, dtype=float, delimiter='\\t', unpack=True)\n",
    "\n",
    "# plots the geometry\n",
    "%matplotlib inline\n",
    "\n",
    "val_x, val_y = 0.1, 0.2\n",
    "x_min, x_max = x.min(), x.max()\n",
    "y_min, y_max = y.min(), y.max()\n",
    "x_start, x_end = x_min-val_x*(x_max-x_min), x_max+val_x*(x_max-x_min)\n",
    "y_start, y_end = y_min-val_y*(y_max-y_min), y_max+val_y*(y_max-y_min)\n",
    "\n",
    "size = 10\n",
    "pyplot.figure(figsize=(size, (y_end-y_start)/(x_end-x_start)*size))\n",
    "pyplot.grid(True)\n",
    "pyplot.xlabel('x', fontsize=16)\n",
    "pyplot.ylabel('y', fontsize=16)\n",
    "pyplot.xlim(x_start, x_end)\n",
    "pyplot.ylim(y_start, y_end)\n",
    "pyplot.plot(x, y, color='k', linestyle='-', linewidth=2);"
   ]
  },
  {
   "cell_type": "markdown",
   "metadata": {},
   "source": [
    "The contour defining the airfoil will be partitioned into `N` panels, using the same method as in the [Lesson 10](http://nbviewer.ipython.org/github/barbagroup/AeroPython/blob/master/lessons/10_Lesson10_sourcePanelMethod.ipynb)."
   ]
  },
  {
   "cell_type": "markdown",
   "metadata": {},
   "source": [
    "We define a class `Panel`  that will store all information about one panel: start and end points, center point, length, orientation, source strength, tangential velocity and pressure coefficient. We don't save the vortex-sheet strength because all panels will have the same value."
   ]
  },
  {
   "cell_type": "code",
   "execution_count": 10,
   "metadata": {
    "collapsed": false
   },
   "outputs": [],
   "source": [
    "class Panel:\n",
    "    \"\"\"Contains information related to one panel.\"\"\"\n",
    "    def __init__(self, xa, ya, xb, yb):\n",
    "        \"\"\"Creates a panel.\n",
    "        \n",
    "        Arguments\n",
    "        ---------\n",
    "        xa, ya -- Cartesian coordinates of the first end-point.\n",
    "        xb, yb -- Cartesian coordinates of the second end-point.\n",
    "        \"\"\"\n",
    "        self.xa, self.ya = xa, ya\n",
    "        self.xb, self.yb = xb, yb\n",
    "        \n",
    "        self.xc, self.yc = (xa+xb)/2, (ya+yb)/2       # control-point (center-point)\n",
    "        self.length = math.sqrt((xb-xa)**2+(yb-ya)**2)     # length of the panel\n",
    "        \n",
    "        # orientation of the panel (angle between x-axis and panel's normal)\n",
    "        if xb-xa <= 0.:\n",
    "            self.beta = math.acos((yb-ya)/self.length)\n",
    "        elif xb-xa > 0.:\n",
    "            self.beta = math.pi + math.acos(-(yb-ya)/self.length)\n",
    "        \n",
    "        # location of the panel\n",
    "        if self.beta <= math.pi:\n",
    "            self.loc = 'extrados'\n",
    "        else:\n",
    "            self.loc = 'intrados'\n",
    "        \n",
    "        self.sigma = 0.                             # source strength\n",
    "        self.vt = 0.                                # tangential velocity\n",
    "        self.cp = 0.                                # pressure coefficient"
   ]
  },
  {
   "cell_type": "markdown",
   "metadata": {},
   "source": [
    "Like before, we call the function `define_panels()` to discretize the airfoil geometry in `N` panels. The function will return a NumPy array of `N` objects of the type `Panel`."
   ]
  },
  {
   "cell_type": "code",
   "execution_count": 11,
   "metadata": {
    "collapsed": false
   },
   "outputs": [],
   "source": [
    "def define_panels(x, y, N=40):\n",
    "    \"\"\"Discretizes the geometry into panels using 'cosine' method.\n",
    "    \n",
    "    Arguments\n",
    "    ---------\n",
    "    x, y -- Cartesian coordinates of the geometry (1D arrays).\n",
    "    N - number of panels (default 40).\n",
    "    \n",
    "    Returns\n",
    "    -------\n",
    "    panels -- Numpy array of panels.\n",
    "    \"\"\"\n",
    "    R = (x.max()-x.min())/2                                    # radius of the circle\n",
    "    x_center = (x.max()+x.min())/2                             # x-coord of the center\n",
    "    x_circle = x_center + R*numpy.cos(numpy.linspace(0, 2*math.pi, N+1))  # x-coord of the circle points\n",
    "    \n",
    "    x_ends = numpy.copy(x_circle)      # projection of the x-coord on the surface\n",
    "    y_ends = numpy.empty_like(x_ends)  # initialization of the y-coord Numpy array\n",
    "\n",
    "    x, y = numpy.append(x, x[0]), numpy.append(y, y[0])    # extend arrays using numpy.append\n",
    "    \n",
    "    # computes the y-coordinate of end-points\n",
    "    I = 0\n",
    "    for i in range(N):\n",
    "        while I < len(x)-1:\n",
    "            if (x[I] <= x_ends[i] <= x[I+1]) or (x[I+1] <= x_ends[i] <= x[I]):\n",
    "                break\n",
    "            else:\n",
    "                I += 1\n",
    "        a = (y[I+1]-y[I])/(x[I+1]-x[I])\n",
    "        b = y[I+1] - a*x[I+1]\n",
    "        y_ends[i] = a*x_ends[i] + b\n",
    "    y_ends[N] = y_ends[0]\n",
    "    \n",
    "    panels = numpy.empty(N, dtype=object)\n",
    "    for i in range(N):\n",
    "        panels[i] = Panel(x_ends[i], y_ends[i], x_ends[i+1], y_ends[i+1])\n",
    "    \n",
    "    return panels"
   ]
  },
  {
   "cell_type": "markdown",
   "metadata": {},
   "source": [
    "Now we can use our new function to define the geometry for the airfoil panels, and then plot the panel nodes on the geometry."
   ]
  },
  {
   "cell_type": "code",
   "execution_count": 12,
   "metadata": {
    "collapsed": false
   },
   "outputs": [
    {
     "data": {
      "image/png": [
       "iVBORw0KGgoAAAANSUhEUgAAAnEAAAB+CAYAAABLREfEAAAABHNCSVQICAgIfAhkiAAAAAlwSFlz\n",
       "AAALEgAACxIB0t1+/AAAIABJREFUeJzt3XmYI3d54PHvW1VqqdX3fc7ladv4tsHYxuYYBwjGhCUQ\n",
       "NothNwsbCCR4DIGwBuILe9bBnL6Cl9gssJtAEpZsCMExcQgOxBceA8ZgD/bYc7jv+75UVe/+UdWe\n",
       "HrVmpudodUv9fp6nHqmkkvTq19XSq98pqooxxhhjjCkszmoHYIwxxhhjjp4lccYYY4wxBciSOGOM\n",
       "McaYAmRJnDHGGGNMAbIkzhhjjDGmAFkSZ4wxxhhTgLzVDiDfRMTmVDHGGGNMwVBVyXX7ukvi4NCF\n",
       "sZaJyNdU9d2rHcd6YmWef1bm+Wdlnn9W5vlXyGV+uMona041xhhjjClAlsQVjr2rHcA6tHe1A1iH\n",
       "9q52AOvQ3tUOYB3au9oBrEN7VzuAlWBJXOF4YLUDWIceWO0A1qEHVjuAdeiB1Q5gHXpgtQNYhx5Y\n",
       "7QBWgiVxxhhjjDEFyJI4Y4wxxpgCJKrra8YNEdFCHJ1qjDHGmPXncHnLupxixJhC0JGUy5tcuSrt\n",
       "kJoOme0L9Pbdc3rveo3DGGPMwSyJKxAisk1VH1jtONYTEdm2tYT0aiQwHUm5/Oyk3HZNo9excNtN\n",
       "/f7Wk0qEPRn+6US+lh6mOj5XHDv6/a0dSWElymE557kllSeWfbbkn5V5/hVrmVsSZ8whVDtceHZS\n",
       "3rs4gbmx3z+lNSH/o8fnZ0AZkF50mc6xXwqkBEpKhFRKSKeEVNKhNCmkkiLJEiFZIiRKBK9E8JKC\n",
       "1+5Rfk2j5y6O59pGr+PqXv97r0wLC1mXLtpe3NeDb8s+biFnW9h/a6UTAkGurd2j8ppGr2RxHNc0\n",
       "eh3buzPfvCjtPDWnZOaUuZlQ52aVuZmQuRllNqPMKsyQe5s9xO0zQK2IVMfHzGUnmPlOKo0xZi1b\n",
       "c33iROQy4FbABe5R1VtyHHM78EZgGni3qv4svn0vME70BZRR1QtyPNb6xBW4Y62JEREPqAfqgFqg\n",
       "Jt4WrtemhLo6l6ZaV2oqHD31jtZEafbzXNfnc16pQ4lAMt5KFl868uL1xbcrMKfRNh/Glwpzqouu\n",
       "R5c7p0M+2bj0N9an+n22lhw4fSVrQxZdJ8d1kYNuW/IccvBtP5/JHcfnBnwuq3BIiUTv0zm4HASW\n",
       "vKfofeuBMsi+P1xSDppR/IzqfAbmMsrcVKhVt7Uk0tnxvLcr8/zPZrkHmAAmj3C5JDk8HlYzaIxZ\n",
       "SQXTJ05EXOBO4HVAF/CYiPyDqj696JjLgQ5VPVlELgTuAi6K71Zgm6oO5zl0kye5amJu7Pdf0uTJ\n",
       "Hf0Be4EWoBFoTAiNtS4t1Q5Nla7U/UaZVFa7QrUDVS4sXK9euO5GVWajAYyG8PdjQc4YFPw989rj\n",
       "KzM+zPqq0xllel6ZykTbxJwyOadMTIU6MRkyOREyNavMAHOH2OYBf2G7qFS+AVya/dqDAfd9ZzB4\n",
       "44kqTxERos8BD0hkbd4FpfJ14FXZj3t2nse+2RVcl+NxHpBICulyh4oyh/KUUJ4SKUs5lJcI6US0\n",
       "lSagtERIJUSSnpBMCEkPSjwhUe6QSAhOUkiUiJMoEcqSAo/NhDnfx/kpOen2FvfmqRCiTXnxumbt\n",
       "h4RvrnRmZ0OmZ5Tp6ZCJqVDHJ0OGx0OGpkKGFMaIttFDXI6pqm81g8aY1bSmkjjgAmC3qu4FEJG/\n",
       "Bt4CPL3omP8AfB1AVR8VkWoRaVLVvvj+oqxlK9b2/MMRkRJgA7AJ2AhsOi/FH1zT6LUuPu66Rm/T\n",
       "DX3+515b7ryYkFU5kHZgLICxEEYDZTSAyZDZqVCnJkMmBgMdnQx0eCxkYCSgt9fX7j6f7hBGgLGT\n",
       "S7gLODM7rtGQf/nexIlLpHLpSMrndvT7G7L6xD3X5+sdJ/J14hqpTLzN5Ijj0zv6/ZbsOEZCvUFV\n",
       "7zuRscDB53n8o6508XZBqXwVeEX243bO6rPf3u9/r8qhusKRmjKHqjKHipRDRalIutSJmrGrHJLN\n",
       "Hm6Z46TLHNJlDpQ5QplAdB08YXHCFyWAmrUfwu/VuPMbPXGuafQO+hy9ptHreG9X5k4RuZso6RvO\n",
       "sY2fyNrA47EeP1tWm5V5/hVrma+1JK4NeGHRfidw4TKOaQP6iGri/kVEAuDLqnr3CsZqDmG5zUtx\n",
       "LVAD0LGwCXTUuZzclpDNl5VLXXtCZENCaPegPSF86xC1YxmY/dep8ImpkO7RgM7+QPf3ZNjvQz/R\n",
       "NgAMq2ruJ8ihxpW/3NHvv3elE6lcds/pvR1JYXuPvz0tlE4rM32+3pHv2p3VjCP+W03GGwAdSdmx\n",
       "o9/PHvDx3HjIh4f85cUU/zgoAyqA8viyEqgCqlJCba1LQ5UrDWUOdWmhptShKiVUpkTKU3FCWO9S\n",
       "MuXmfo3zU7Lli83uzWMhjAXKeBj9oBgPlfEAxkPC3650pqZCxidDRsZDhkYD7R/w6cnAELkTv2Gi\n",
       "GsDDnsPWvGvM+rHWkrjl/jI9VG3bK1W1W0QagPtFZJeq/vgExbaqCuUXxCFGVXa0JGRTr88QcLoD\n",
       "p7V5nH5BqZzU6pFuTwjtCWEhWQuBzozS6aP9vo4/O6e9/z6l+/ZndFeZI68FTs9+3fGQBx6cCk9o\n",
       "7dhIoLd0JOXJ1Uqk4tdZ9S/ffMZxpPP8RCSVqjpP1Hw9cqxxxj9Ayi8sle8Cr8m+f+csz36307+3\n",
       "1pWmKof6Cpe6MqGm3JHKtENZs0ey0nUqqhwqKl3aqhyhyoUKB2bDqPZ4/KAEUKPbAvStlc70ouRv\n",
       "cDTQnqGA7lmlv8ah+ZIy+U+favSaF2K56QjNu4Xy2VJMrMzzr1jLfK0lcV1EzWcLNhDVtB3umPb4\n",
       "NlS1O74cEJH/R9Q8uySJE5GvcWAx3FHg54uacLbFz2H7R7kvInJKCTdfVuG8mMDtnAl5Y4WzdV7D\n",
       "L/1mucNooNS50JF06MwoD05rpjOjYyMBz/xgMnz68RmdGA7ZA3yH6O/6ysWvV+PK1du7M9vvaE20\n",
       "LTz/10aC7v6AO1bi/T03z/Rz83rL4vuzmvzWTPmvo/3p3XNRwr5w/4I8xzNR48o/be/OdGSfj+Mh\n",
       "H+7J6L2HejzwEFANXEZUC7gPqBW4oFyobS+RTJVD41yoW0odyk8qcUrSDuVzqqlqV8peUyZllQ4t\n",
       "L2SUMkd4dZnDnMKN/T5vrjiwEE/8/9cxHobfeVOF07Mvo/MTAcNzyq8GA7qCqPZxjOhzchDYCoyq\n",
       "6j+vQnnavu3b/gHbgM0cwZoanSrR6MFfA68FuoGfAFfo0oENV6rq5SJyEXCrql4kImnAVdUJESkD\n",
       "/hn41MKH0aLHqxbg6NTFicNaICIOcDJRc/d5zR4XnpGUc8qE9PVNS38bXNfnZxLCz/p8fvHsvD46\n",
       "GPAksJuoifOoTsKOpFze5MmK146ttTJfDwqxzPN1PgJI1E+wmmiEdR3RaOt6gYZal9YzkvLOL7Z4\n",
       "DdmP29Hvc3HaocaFGleodaM+o6MB/PtUSEtCGAlgJFCGo36kcxOhjowHDI4E2jsY0Dkc0KkHuif0\n",
       "ceD6sKrmHnGCNe/mUojneaEr5DI/XN6ypmriVNUXkSuB7xNNMfIVVX1aRN4f3/9lVb1XRC4Xkd3A\n",
       "FPCe+OHNwN9JNEeCB/xVdgJnjp2IVBElbBd5cPFpSXnFmUmpPDslnJ0SKhx4clb53kQYEP3tDjIS\n",
       "8oMT1dy5VpoZjYG8NzcHRH3mhnLdf0naeQnwhuzbe3x++LG+4EPESR/QUCo0NXu0u8IZmxOSqHKl\n",
       "rsKhqtyhoi0hyRpXmmtcmmtdObPajaaPGQ6ixG84TvZGA2UkIPydKndiIh4kNBpod5/PC2Mh3bUO\n",
       "TRdHzbstC7HY6F1jTpw1VROXD4VaE7fSsn8td/p6z/4Ms8CltS6vOz0pZ52VEjknJZyWFPp9eHpO\n",
       "p/fO665dc/rjx2b0/gz8bEuCc89NLekT99yTc3qVfWgbs7IO0Sf1qP7/JPolXEk0VU9TfNlY6dDW\n",
       "7LGxxpXWKpfmSkfqyh2qKx1Ka12Ja/lg4boCdw0HfKR+aV3BH/dkZgPkyUFfu7p89kyGdAI9QG+8\n",
       "9RAN4lhfX1DG5HC4vMWSOENHUi4/Kym3XXvwBz91jnB5pUO9B0/Nqj6f0e698/zk57Phd5+d5wfA\n",
       "C7k+ZPPZvGSMOVi+//8kGu3bwKKkT6Cx2qH9rBTv+mJLoj77MZ8e8Lm8wqHeFepcyCgMBjAYKIN+\n",
       "dDkS4I8FOjIaMjgc0N3v6/5enz16IMlbSPj6VDVzpDitWdcUKkviFinUJG4l2vPjJtLLzk3xxa+0\n",
       "JVqy77+615+eV/7qJzP6rVnl31V1yTxixayQ+1AUKivz/FvJMr8k7dx3R6u3pHn3D7v9B38yozuA\n",
       "ZoGWBpdNzZ5srvVoqXZorHKlpsYluZDk1XtCvQspB4bjJG8wgCE/uhwNmBwPdWgkoHcw0M6uDHtm\n",
       "lS7iRK/F4+QLS+Xj1zZ6Jy3EsKPf3/2LOf3QaiRydp7nXyGXecH0iTMrLx708VsC7zgnJW+6vFwS\n",
       "ff4hE/nH/m0q/IM8hmeMKSJ9gd6+o9/fmt28OxTozXqEyaJFpJyor3Mz0UoszWUO7W0eW+pcaa9x\n",
       "aa5ypa7KofKUpJTXuVJe77KpzpMLa91oYubBAAZ95fuTIddmLR93TaPX8b5oUubPE42E7yIaUNen\n",
       "qv4JLgpjVoTVxK0DcR+XS4H3tnu85Y0VTvpNFQ6Bwo+mwr2Pzmj4560HfqEu2N7j33ei514zxqwv\n",
       "K928G89q0MCihM+FlhaPLY2ebKx1aXXhlJubvUT2Y+8a8nlHtUu/DwO+0h/AgK86EjA2Emj/UEBX\n",
       "j6/P9/k8rweSvIWEb9mrblhTrjke1py6SLEncYs/LCZDgl1z+nwAl762TLa+qcJhS4nw0LT2PjYT\n",
       "fuOfJ/Xzs6F2n4jO0MYYs1Ydqln3vV2Z3UMBDzd5sqXOpbXalYYal4pGV2j0oMETGl1ISFSr1+9r\n",
       "lPBFfffmR0MdGg7oGfB1/wsZds8qnRxI8rqA7q0l/GaO9XVXrSnXFB5L4hYp1CRuOe35uZKxzw5E\n",
       "80MFMPPErH7nganw+j3z+kyux9pghIMVch+KQmVlnn/rocyP5odqPFCjBWglWtKxrcphc3tCTmpw\n",
       "2Vjj0lztSl29S6LBO5Ds1bkwEXKgVs9XBgL02Tn1P99ycC3gzpmQe4bDRx6b1bcDvXoUywGaY1PI\n",
       "57n1iVsn6l35+OIPKYCPNXh8sNv/xSMz+rLD9fOwudeMMcXqaJZr02hZtn3xltOiaVja4q3Vg/b2\n",
       "BB1NnmypdWmrcaWh2qWq1mVJMy7ASSVc9IYKt7PP1/DtVe7IcKA9Az7792f0mfFo1ZoX4q0T6D/c\n",
       "hMpm/bKauCIQD1b45KtK+cStrYkl7+3qXv/f7p8Mt+U/MmOMWb9EpOTCUrn/S63eq7Pv+3BPZro1\n",
       "4QR1LhVNntDsQVPcfDuj0OtDn6/0RU24wXCgw0MB3X2+7t2f4Zk5ZR8HEr19wIiqqvW/Kz5WE1fE\n",
       "ROQtHtz57hqnfS7MnZBPK+tqahBjjFkLVHW+Iym37Oj3W7Obcrt9rvrRVHCviKSIavPagQ0CG9o8\n",
       "TmlNyEn1LhtqXWms8yg7ucRpaPJoaPbknDovWjmjz1d6fej1lUGfuVenZfz0Eqm4oclLLbzWDX3+\n",
       "Ge0J+WSXzzes2bb4WE1cgchuz4//8T+7JcGVn2p0mVfGvzQc3LopIe+0AQonRiH3oShUVub5Z2W+\n",
       "8rL7HD81qw+MBHrLch8frw3eBmwANpQImzZ4nNySkJNqXTbUuNLY4JLcPa9LplIBuKHPpzUh4VDA\n",
       "0FCgXb0+z++d16dmlD1EtXj7gf2qOres91KANX2FfJ5bTVyRWPjnSTlUnpnkjE0JqfzjepcfTum3\n",
       "7psIr3h8RoOOpDy6nH4fxhhj8iO7z7GIbDuax6vqNPBsvC0R99Gr2paW+4Hzs++fVwIB96yUNLR4\n",
       "0tDiybn1Hm8bDaDHV3oy0eUV1e74kK/dfQF7983rrrGQ3RxI8vZtLeGSHCNtbS3cVWQ1cQUi1+iq\n",
       "Lwz6+vw8Ox6aDq9bzdiMMcasvkNNpbK9x7/voWl9G1FN3iZgU4mweUOC01o82Vrv0lbnSm1zQpwW\n",
       "D1riPnqzCj0+9GSUHl95YlbDzzR7TvbzxytwvElVx/LwNtcdq4krAk2uXJU98vQj9Z5s7/Ffvlox\n",
       "GWOMWTsOtUJGn693xMsmPhNvS8STJrcSJXkbBTa1e7ykNSEnN3hR37wKJ/dI200JLrkk7Yy+q9qd\n",
       "Hgq0p8/n+T3z+tRYyDPAnnjbq6qzix9XqE2za4klcQViKtTmXLenhdJ8x7JeFHIfikJlZZ5/Vub5\n",
       "t1JlfjRTqWSLp6DaH29LiIhcVCo/IFr95yB9vs6mHXE3JkhflHa2tnqytcXj9dMK3RmlK26ufUeV\n",
       "OzYYaFePz+5+X2cvLJVtNzZ5jQvPs5JNs8V6nq+5JE5ELgNuBVzgHtWlnT9F5HbgjcA08G5V/dly\n",
       "H1uopkLKct1uI0+NMcYsWKk5P+PpSz63o9/fkF3T1+Vz1Y+mw38CGoEtwBYXTmpPcFqbJ6c2eGxs\n",
       "8KT+lKRUbfOkqjUhp//9eMCVdUvXs93enfnGxhL5x84Mv1R4jnhb3FRrNXgHLKtPnIg8DNwF/M1y\n",
       "Rq8cczAiLvBr4HVES5Y8Blyhqk8vOuZy4EpVvVxELgRuU9WLlvPY+PEF2SeuwpGnLquQ0z7RcOCk\n",
       "t5Gnxhhj8ulYV/eJm2vbiJO8i0vl+jtavU3Zx31h0Oc9NS4pgS4fOjNKV0bp85kaCLRr/7yObS2R\n",
       "jhubvJqFx9zU7+9+MmsZs2JK9I572S0ReQB4NTAC/G/gy6q660QGGb/OK4DrVfWyeP/jAKr66UXH\n",
       "/E/gh6r6N/H+LmAb0Ylx2MfGtxdUEteRlMvrXPmkql6yISG8kNFfVbkyaCNPjTHGFKpDDcJ4f5e/\n",
       "c+esfrXO5bRNCTmjyWNrgyctrR6JtoTw8FTIRxuWNiJ+pCczO6vy2L6M/nIuhFeWyW/f0Oi1/HQm\n",
       "5JFp5YWMhuOhTvb7fOG5ef1UXt7kCXLcAxtUdZuIvAT4A+C/Ah8SkR8B/xP4tqpmTlCsbUSzTy/o\n",
       "BC5cxjFtRB0yj/TYgrJ4ROrOmZDzSx129PvJX8zpZyx5W3nF2odiLbMyzz8r8/yzMj/0IIyRUK9X\n",
       "XbKerQDNwNZXpuVu4CXZz9foSeq3K91XtSd41VeGA15V5nBTn48r8MlGj50zoXN+qVN5U7//p1tL\n",
       "hEJL5A5l2X3i4pq3j4jIJ4H/CLwf+AYwICJfI6qde/4441nufCcFU5N2PHKNSL2m0evY3uNvx9Y5\n",
       "NcYYU6COcj1bBXqAnkvSzr6fzoQveWRacQUChYvSwr4MD76r0/+iwNaXpvi4J1pT5wl/VOce9FzX\n",
       "NnqJ7d3+lcD6SuIWxEOE/4+I/Ar4IvAq4GPAn4jI/yPqr9Z7jPF0Ec1js2ADUY3a4Y5pj49JLOOx\n",
       "AMRJ5954dxT4+cKvooVJGNfCftohtXMmWvP4/NJoap6dMyFTgbYsei9rJt5i21fVB9ZSPOthf+G2\n",
       "tRLPetlfsFbisf31sf/cPNPPzesti+8/0v9/vUPP9ybCzLWNXmLh+/EfJ8Jg37zONbh8sMFjY0qo\n",
       "/mCdy/V9PgutWOeXOiwcn46nSlnt93+E/8dtwGaO4Kgm+5Vo6Y8rgA8ALyMaSHAX8H+BNxFltrtU\n",
       "9TeW/aQHP78XP+drgW7gJxx+YMNFwK0aDWw44mPjx6sWSJ+4w03c+OBU+MbViMkYY4w5EY40+ECi\n",
       "AYvtwFZga1o45cyUvPuuVq8++7nuHPK5osql01f+bizkU00eXxoKltTEAWzv9gcfnA4bVvK9nUiH\n",
       "y1uWVRMnImcTNZ++C0gD3wGuVtV/XXTY3SLSS5TQHRNV9UXkSuD7RNOEfEVVnxaR98f3f1lV7xWR\n",
       "y0VkNzAFvOdwjz3WWNaCxX0GFn5N3Nzv9/b5esdqx7YeLP5FaPLDyjz/rMzzz8o89ypE1/b5L9uY\n",
       "kMfbElLR5LHl92ucxjZP3LYEtHtCrQd3DQU5n++ZeTp/c59/E/DchaVyHfDqi9LCnw8FfLDOfbFG\n",
       "7qZ+P9Pr6515epsrbrmjU0Oi2q27gb9Q1Z5DHHc68OequmQywLWikGri4MBw7mFfL6x2qKn1ZH5e\n",
       "ebjQh0wXAvugzT8r8/yzMs+/Qi7zo526Q0TKiZoFtwBbKhw6Nifk9CpXL76tJbFksvrbh3xeV+bQ\n",
       "5bMwtcjYQKD7uzP6zJ4MT56VlLf9RZt3dvbjFrdQLU4QfzoT8siM8sRMGHrCRL/PFwttUMPh8pbl\n",
       "JnG/A/y9quZOgQtIoSVxC1oS8kdnJ+XOP2v2Xox9R7+/+xdZc+MYY4wxKyFX7dlN/f5zj87oZ3p8\n",
       "9gFbksLWzQlOa0lIR4MrbY0e5a2e0JaI1mStcKL1WP92LOC/55gq5Koe/7kHp/WjRJP8Pq+q08uJ\n",
       "IXvO1GOdz24tOu4krpgUahJn/eOMMcbkW9zffAOw5aUpue3uNu/M7GNu6PN5c6VDW9zkOehDt//i\n",
       "clv+oK8DgwH7uzL6zL4Mvwrg+QtK5SN3tXoXZT/Xcr7TiilBW47j7hNnVp+tnZp/hdzkUaiszPPP\n",
       "yjz/VrLMj6G5swzYuLClhS1bSuS0Jo+T6l1p/UCNU9eSEGn24KGpMOdzZJTMN8fCX3Zn9Nl9GX41\n",
       "qzxHNAPEHqBXVZc8sCMpUzv6/SU1asvp830sS4sV63luSVyBmFXmc90ucOrryx3n/skw93+XMcaY\n",
       "dSFXU+ON/f6pTZ7c1h/QBWyscdm6MSGnNLpsrvek+apap6wlIbR4UXNnpQv9PvT6Sk+8cP2Tszry\n",
       "QKCdUyFNROujHmRc+cHRtggdzTxx5tCsObVA5PrnvKbP54JSh/YEA/86pb/1jdHgJ6sZozHGmPwR\n",
       "kVKips6NwMbzUnzynrbE1uzjdvT7vL3KpcWDpER90np8pScaOBAMBjo4GNDZndHnXsiwy4d9wP54\n",
       "26fxmunL7Y9mTizrE7dIoSZxsLQfwDNz+vBYwPb31jj1b6t0+NZ4+Hffnwz/ss2T9xfDor/GGFMM\n",
       "jmUxdhFxgHriBE1gY5PHKW2enFLvsbHGleY6l4pmT2jyoMkTvjse8Id1SxvYPtHrz46FPNKZ0We7\n",
       "fX6tBydp/bmaOw/7XtZRf7S1wJK4RQo1iTtUe76INAOfOSMp/+UdlQ6/mgv1Yw02gvVEKNY+FGuZ\n",
       "lXn+WZmvrFy1V1d2Z7peyPDxTp9fE01m217lsGVjQk5u8thU60pLjUtNoyduc5ygNXsQAL0+9PlK\n",
       "nw/9vobDAUNDgXYP+OxJip5zd1tiS3YMNgCusM9zG9hQxDRa4uz3ROTL3xoP7v1qe6Jy8f221qox\n",
       "xuRPPJqzmTg5Oy8lN2Wvgf3uGrftu+Ph//mTcoemuCYtKVFftL5A6c1EidquOZ1+aFr7BgP2dWb0\n",
       "2aGA3Rxci9a7eOqvjqRcfqyDBUxhspq4IvL6cueBW5q912Tffk2fP/rUnL5p77w+tBpxGWNMMRCR\n",
       "EqCFOEETaG/16Gj2ZGudx4ZqR5pqXKobPJEGFxo94f7JgA/maOL80z4/ENi30Bet22e3Rut9L2xd\n",
       "qjp1tDFac2fxsZq4dWI6ZDbX7WmH6q+2eQ9+utkb/PmM/uX3J8NbRgLtzXd8xhizWg7XLy2uPWsE\n",
       "Whe2tLBhY4KtDZ5sqnVpqXal/o/rnLIGV2j0oMETGlyYU+gPYMBX+v3ocve8ju8MtG8ooBPVk4mS\n",
       "voOMh9y/Ek2cxzL9hilcVhNXIJbTnp+r78UNff7+f5vSx0tdLn1DuVP9WxUOKYEHp8PnH5zWe/59\n",
       "Wr+sqsPH0vG22BVyH4pCZWWef8Vc5guDA5pcfveCtHzyhkavZeG+G/r8mQFfhzeUOOU1LpUNnkij\n",
       "GyVnjR6UOzDkQ39wIDkbCAhHAh0bCegdDNjfmdHdEyF7ObgGrVtVX5wS6hB94rr7A9633j9j86mQ\n",
       "z3Mb2LBIMSdxcOiq9Hgo+lsFrji1hMveVOF4byh36PSVb4+FnQLpTzV5tQvPYwMiCvufvlBZmedf\n",
       "IZa5iAhQw6KaMw/a2hJsrXdlU61La5UrjZUO1XUezrNzyrWNSxuebh7wOTPpMBAoIwHjI4EODgV0\n",
       "9/m6tyvD8wF0Ea0bvrANHMvyk9mfy0/N6gMjgd5yXIVgjkohnucLLIlbpFCTuBNJRGqBtybgnRem\n",
       "ZVudi3Ndjg+4D3b7P3h4Onxd/iM0xhSL5dbyx4lZBdGggGagCWiucGhvT8jmOpf2GpemKkfqKl0q\n",
       "61xx6l2o94R6F6pdGA+j2rPBQBn0YShQRgOm+nz1/qzZS2a/5kd6/J/+27S+BehT1cxKl4Uxx8L6\n",
       "xJmDqOow8BXgKyJS/aq0PAicnn3cpgSvvarO7dmX0Qd/OqN/2+nzr6o6mPeAjTEFqSMpl5+VlDuu\n",
       "bfROWrjtuj7/pTWu3J9ymG/yZGOtS2u1Q927q52aGhev3hXqPah3o+QsITAURAnZYJygDQXw9JzO\n",
       "jAU6OBLSM+jr/h6fPXMaNWcu2npVdfaStHMfsGTt6Uw0R1pn3grEmBNszdTExbVDfwNsIlpz7XdV\n",
       "dTTHcZcBtwIucI9qVCUtIjcA7wUG4kM/oar35Xh8QdbErWRV8CVp5747Wr0lH3Af7snoS0sdOTsp\n",
       "nJoU9mXgmTkd25vRJ3fN6T8/PqP/6MOTquovflyx9K8r5Or3QmVlnn/HUuYikgYaiGrLmoDmEqGl\n",
       "yWNTvSsbqhyaK1wapkIaP9vsOdmPv3PI5/eqXQYDGPSjpGwwatKcHwt0ZCRgYCSgp9fX/QMB+xT6\n",
       "gN546yOqOcs5kCuXtbbSgJ3n+VfIZV4oNXEfB+5X1c+IyNXx/scXHyAiLnAn8DqivgqPicg/qOrT\n",
       "gAJfUNUv5DnugtcX6O07+v2t2R9wL2T4kx9Ph2PApUlh26klcsFZKak6OyWvfEeV80oHbvzlnAYf\n",
       "rHO7np3X1Nf9AAAPhUlEQVTTx38yo/+SEkpekZYrr230Xlz6ZUe/v7UjKRRiImdMoTnG1QEWkrIG\n",
       "olGaDS40NnlsaPSkvdqludKhocKRmgqHiqvrnZJaV6h2odYVat1oIMB4CCMBjATKcACPTudeCOCZ\n",
       "OfZfute/hQNJWS9RYjZ5QgsjZut0mmK1lmridgGvUdW+eBWCB1T1JVnHvAK4XlUvi/c/DqCqnxaR\n",
       "64FJVf38EV6nIGviVtpy5hYSkQRwFvAKgYvaPF51eko2nZMUzkoJJ5UItw8FXN2w9LfBH3X7P350\n",
       "Rn8ju9bOGHPixM2Xt1276AfZ9f1+z4NT+s3RkJ56l/ZGTzbUujRXODRUulJb4VBR5VBSEydjNa5Q\n",
       "E/cxm8pKykai2jJGQvyJQMfGQ4bHAnoGA+0a8NnnQw+Las1eUSpfurPV+43sOG0FAWOWryAGNojI\n",
       "iKrWxNcFGF7YX3TM24E3qOr74v3/DFyoqtvjJO49wBiwE/joIZpjLYk7gUSkDjgXOK/c4WUvT8lv\n",
       "f67FS2Uf99kBn5OTTjgY6MCwz3N9gf7q2Tl9vMvnl8Buor4pa+NkNOYorGT3gfiHUy1QF2/1QJ0L\n",
       "9fUeLbWutFY5NJY71JU71IwHNH22xXOzn+fWQZ8/qnOZ1ygpG15IxuLrYwHBeKhjEyHDowEDQ4F2\n",
       "9/t0zil9QD9RN5WBRdcnlvP/utaaMY0pRGumOVVE7icadZTtTxfvqKqKSK4PiMN9aNwF3Bhfvwn4\n",
       "PPD7xxLnWrRW2/NVdQj4QbxxqA7E+zM6n0FL2hM0nV8qTRsSzsVtCd43p9CZUboy+B+tdweHAl7o\n",
       "9/XZPfP65DPz/DKMlpjZp6rjC8+Vrz53a7XMi1mhlXmuJCW7+0D8o7ScaEqM6viyBqhJQG2DR1O9\n",
       "K81VLg3lDvVljtSmHSrLhPKP1TmpSleodKDKhUpHqIqbLmdCGAthLFDGQxgL4LGZ3M2XezM6+Lo9\n",
       "/jemlF6WJmWnAv+0Ej+irBkzt0I7z4tBsZZ5XpM4VX39oe4TkT4RaVbVXhFpIfpwydYFbFi0v4Fo\n",
       "ckVU9cXjReQe4LuHea2vEQ2eABgFfr7wxxWRbfHzran9RbGviXgOtf/UnP5we3fmzDtaE20AO2dC\n",
       "vjYSdPcHvO+hmfBHwLuIBq/4Ah1VDi+vd2k9NSnp9oQ0u9B8dkpe/tF6lxKB+ydCBgL4aL07N+Az\n",
       "+NhM6De4NN7R6pUuPP9XR4LzNiTkjzt9/hp49VoqD9s/un3gXBE57PHVDheenpRL0w6pFzKa7vP5\n",
       "9sKcWyv4//cIUEnUH7cMeB6o2Zrgs5dVOJvjY9g5E3JZhdMxEAR/+ztV7sR4oNVvLpeSl6TEqXKE\n",
       "fl9JO3BR2qHSgV1zIbMhnJR0GAuUnTPKVAh1HowH8Pis6kwYzpQ6MjQZMtKdUX8iZHg65IlMlITV\n",
       "E7U+/AgYPKWEv9o5E557fqnzYjwAAbJzMgw/dIj3d4rqiwnnSpTf9O65qOm00D7P1vvnue2v6vmx\n",
       "DdjMEayl5tTPAEOqeotEfd2qVTV7YIMH/Bp4LdHw8Z8AV6jq0yLSoqo98XF/DLxcVd+Z43VUrTl1\n",
       "RR3L2n0SjU7uAE4mOnE3VTuctCEhJzV7tLUlpKQ9IeyaC/lEjj53N/X7nJFywqlQp6ZDRidDRqZC\n",
       "HZgI6R0L6Oz1dV+Pz/4w+uIbBEaAMVXNXXWx+L0UwUjbYnGImq+cE1OLiBAlXJW5NoHKGpf6aoe6\n",
       "Cldqyxxq0kJVqUNlSqQ8JZSlHEpLhVSpg1PmCGVOVAtW5ghpge9OBFyZY13Mzwz4nJlyGA+U0RAm\n",
       "Q+anQp2cDBmfDBkdD3RoOGBgOKDfh2Gi83GE6PoQ0Tk6xDLO0SOVjzVfGlPYDpe3rKUkrhb4W2Aj\n",
       "i6YYEZFW4G5VfVN83Bs5MMXIV1T1z+Lb/zdR3ywF9gDvV9W+HK9jSVyBib+M64BNr0rL129t8c7I\n",
       "PubqXj+ocsWtjpudquORc9XOgeslAqNBvIXKWAATIXOToU5PhkxMhoxNBDo8FjIwEjA44mvleaXy\n",
       "+hubvIaF1/lUv9/52Izu6PH5HjAJTOuiJXZOpLWSQK5UHPHftQRIx1vZoi2d6/p5Kf7bPW2JLdnP\n",
       "9eGezFStK0NpR0pLhVTKIVkqJNKOSJR0LWxCmUTX0w7Ma9R5fzKEqVCZztqfCmE6hKmQYFZ1eiZk\n",
       "akaZmg0ZnVKGy0TP/HJboiU7ng90+Y88NqvvJkrMRlfqHMnFFkA3prgURBKXL4WaxEmRtucfrUPN\n",
       "abe9x7/voWl9K9DComkSFl9PCc21Ls3VrtRXOFRVOpTlSvaqXaHagduHfG5uTiyJ4eYBn4vTDvPK\n",
       "whb6qn5GyfjKvA9zvjLnK7MZZTYDcxllbl51NqPMzikzc8rMXMj0rDI9E+rUZMjMRMjcrJJRCGsc\n",
       "Trs4Lb97Y5PXuPC61/f5fQ/P6NeGAh4HgngLD3EdwCH6sXOky0PeV+Nw5sVp+Y83Nnn1C3Fc1+eP\n",
       "/HRGf5Rw6E8J6ZRIaYlDaVJIJYRUfJksESlJQDIhJDwhUSIkEoIXb24C3KQjJCVKsJMCe+aVs1JC\n",
       "SoQSgRKHg+6/ZzjgA4eo+Ton5TClMB1qnITBTKjzM8r0rDI5EzI5FTI2FeroeMjweMBwJmqKHD/S\n",
       "pqpzuc7HYqj5ss+W/LMyz79CLvPD5S1raZ44Y47oUHPa9fl6h0aTf+6JtyOKmue1imj0X03WZeVp\n",
       "JXyIaCLTg4wEzN07EU4nDiQrTolQkhRKSoSypES1PCUCSUdeTECSC4nJouvJrCRFiBLDvxgO+FD9\n",
       "wf+en2rymj4/6F/9O5VuFP/CFj/uoNsW7SMH337QfYsen+s5vjoScFVWHDc2eTV3DPlveVe1y3wI\n",
       "cxpt86rxZXxbuHBdX0x45zSq5Vq4ntEwyCjzvjI7r8wM+MoDUzKUgal5ZWou1MlZZWJGGZ8OmTg9\n",
       "KW8janI/yPPzPPo348EHgClgOr6c1BWe0sY67htjVpPVxJmCk6/mosPV+i3McRU3CSY40CS40PS3\n",
       "eD9J1GyYPMzmAW4CvLRD4qyUvPm2Fm9JAvmRHn94KGBnGNWUOaGqo+CEIApuqDgKjgIKgYAqBBrX\n",
       "0imEqlGtnYKvEEp0PVi0hWh0/ZQSeeNtrd6S5sLt3f7zD83oHcDcEbb5w913NP29oDhqvowx5mhY\n",
       "TZwpKvGX9Yp/YR+u1m9hX6NfQfPxtmRewmN1mLUef/LkbP4mSY3jWJLEITyjqrfmK44FVvNljDEH\n",
       "WE1cgSjk9vxCJSLbtpaQXo1O4mulxinfcdh5nn9W5vlnZZ5/hVzmVhNnzDHKV61frtddCzVOayUO\n",
       "Y4wxS1lNnDHGGGPMGnW4vMXJdzDGGGOMMeb4WRJXILKXazErz8o8/6zM88/KPP+szPOvWMvckrjC\n",
       "ce5qB7AOWZnnn5V5/lmZ55+Vef4VZZlbElc4qlc7gHXIyjz/rMzzz8o8/6zM868oy9ySOGOMMcaY\n",
       "AmRJXOHYvNoBrEObVzuAdWjzagewDm1e7QDWoc2rHcA6tHm1A1gJ63KKkdWOwRhjjDFmuQ41xci6\n",
       "S+KMMcYYY4qBNacaY4wxxhQgS+KMMcYYYwqQJXFrjIhcJiK7RORZEbn6EMfcHt//hIicl+8Yi82R\n",
       "ylxE3hWX9S9E5EEROXs14iwmyznP4+NeLiK+iLwtn/EVo2V+tmwTkZ+JyC9F5IE8h1h0lvHZUi8i\n",
       "94nIz+Myf/cqhFk0ROR/iUifiDx5mGOK6vvTkrg1RERc4E7gMuB04AoROS3rmMuBDlU9GfgD4K68\n",
       "B1pEllPmwPPAq1X1bOAm4C/yG2VxWWaZLxx3C3AfYOsdH4dlfrZUA38OvFlVzwTenvdAi8gyz/Mr\n",
       "gZ+p6rnANuDzIuLlNdDi8lWi8s6pGL8/LYlbWy4AdqvqXlXNAH8NvCXrmP8AfB1AVR8FqkWkKb9h\n",
       "FpUjlrmqPqyqY/Huo0B7nmMsNss5zwG2A/8XGMhncEVqOWX+TuDbqtoJoKqDeY6x2CynzHuAyvh6\n",
       "JTCkqn4eYywqqvpjYOQwhxTd96clcWtLG/DCov3O+LYjHWNJxbFbTpkv9vvAvSsaUfE7YpmLSBvR\n",
       "F97CL2UbRn98lnOenwzUisgPRWSniPyXvEVXnJZT5ncDZ4hIN/AE8KE8xbZeFd33p1Xbri3L/aLK\n",
       "blqyL7hjt+yyE5FLgf8GXLJy4awLyynzW4GPq6qKiGDNqcdrOWWeAF4KvBZIAw+LyCOq+uyKRla8\n",
       "llPmnwR+rqrbRGQrcL+InKOqEysc23pWVN+flsStLV3AhkX7G4h+KRzumPb4NnNsllPmxIMZ7gYu\n",
       "U9XDVdebI1tOmb8M+Osof6MeeKOIZFT1H/ITYtFZTpm/AAyq6gwwIyI/As4BLIk7Nssp84uB/wGg\n",
       "qs+JyB7gVGBnXiJcf4ru+9OaU9eWncDJIrJZREqA/wRkf2n9A/B7ACJyETCqqn35DbOoHLHMRWQj\n",
       "8HfAf1bV3asQY7E5Ypmr6kmqukVVtxD1i/tDS+COy3I+W74DvFJEXBFJAxcCT+U5zmKynDLfBbwO\n",
       "IO6bdSrRQCqzMoru+9Nq4tYQVfVF5Erg+4ALfEVVnxaR98f3f1lV7xWRy0VkNzAFvGcVQy54yylz\n",
       "4DqgBrgrrhnKqOoFqxVzoVtmmZsTaJmfLbtE5D7gF0AI3K2qlsQdo2We5zcDXxWRJ4gqVf67qg6v\n",
       "WtAFTkS+CbwGqBeRF4DriboJFO33py27ZYwxxhhTgKw51RhjjDGmAFkSZ4wxxhhTgCyJM8YYY4wp\n",
       "QJbEGWOMMcYUIEvijDHGGGMKkCVxxhhjjDEFyJI4Y4wxxpgCZEmcMcYYY0wBsiTOGGOMMaYAWRJn\n",
       "jDHHQETKRGSXiDwqIt6i239TREIR+cPVjM8YU/xs2S1jjDlGInIu8AjwRVX9RLyI+RPAw6r61tWN\n",
       "zhhT7CyJM8aY4yAiHwY+B7wB+BhwBnCOLWRujFlplsQZY8xxEpHvAa8FPOD1qvrDVQ7JGLMOWJ84\n",
       "Y4w5fn8JlABPWAJnjMkXS+KMMeY4iEgzcBvwOHCuiFy1yiEZY9YJS+KMMeYYiYgAXwdmgNcBtwK3\n",
       "iMhZqxqYMWZdsD5xxhhzjETkT4BPA5eq6o9FJEE0WjUJnK+qs6saoDGmqFlNnDHGHAMReSmwA7hZ\n",
       "VX8MoKoZ4ApgM/D51YvOGLMeWE2cMcYYY0wBspo4Y4wxxpgCZEmcMcYYY0wBsiTOGGOMMaYAWRJn\n",
       "jDHGGFOALIkzxhhjjClAlsQZY4wxxhQgS+KMMcYYYwqQJXHGGGOMMQXIkjhjjDHGmAL0/wHCaV40\n",
       "MwWQ/wAAAABJRU5ErkJggg==\n"
      ],
      "text/plain": [
       "<matplotlib.figure.Figure at 0x7f7fd6884650>"
      ]
     },
     "metadata": {},
     "output_type": "display_data"
    }
   ],
   "source": [
    "N = 40                            # number of panels\n",
    "panels = define_panels(x, y, N)  # discretizes of the geometry into panels\n",
    "\n",
    "# plots the geometry and the panels\n",
    "val_x, val_y = 0.1, 0.2\n",
    "x_min, x_max = min( panel.xa for panel in panels ), max( panel.xa for panel in panels )\n",
    "y_min, y_max = min( panel.ya for panel in panels ), max( panel.ya for panel in panels )\n",
    "x_start, x_end = x_min-val_x*(x_max-x_min), x_max+val_x*(x_max-x_min)\n",
    "y_start, y_end = y_min-val_y*(y_max-y_min), y_max+val_y*(y_max-y_min)\n",
    "\n",
    "size = 10\n",
    "pyplot.figure(figsize=(size, (y_end-y_start)/(x_end-x_start)*size))\n",
    "pyplot.grid(True)\n",
    "pyplot.xlabel('x', fontsize=16)\n",
    "pyplot.ylabel('y', fontsize=16)\n",
    "pyplot.xlim(x_start, x_end)\n",
    "pyplot.ylim(y_start, y_end)\n",
    "pyplot.plot(x, y, color='k', linestyle='-', linewidth=2)\n",
    "pyplot.plot(numpy.append([panel.xa for panel in panels], panels[0].xa), \n",
    "         numpy.append([panel.ya for panel in panels], panels[0].ya), \n",
    "         linestyle='-', linewidth=1, marker='o', markersize=6, color='#CD2305');"
   ]
  },
  {
   "cell_type": "markdown",
   "metadata": {},
   "source": [
    "### Free-stream conditions"
   ]
  },
  {
   "cell_type": "markdown",
   "metadata": {},
   "source": [
    "The airfoil is immersed in a free-stream ($U_\\infty$,$\\alpha$) where $U_\\infty$ and $\\alpha$ are the velocity magnitude and angle of attack, respectively. Like before, we create a class for the free stream, even though we will only have one object that uses this class. It makes it easier to pass the free stream to other functions later on."
   ]
  },
  {
   "cell_type": "code",
   "execution_count": 13,
   "metadata": {
    "collapsed": false
   },
   "outputs": [],
   "source": [
    "class Freestream:\n",
    "    \"\"\"Freestream conditions.\"\"\"\n",
    "    def __init__(self, u_inf=1.0, alpha=0.0):\n",
    "        \"\"\"Sets the freestream conditions.\n",
    "        \n",
    "        Arguments\n",
    "        ---------\n",
    "        u_inf -- Farfield speed (default 1.0).\n",
    "        alpha -- Angle of attack in degrees (default 0.0).\n",
    "        \"\"\"\n",
    "        self.u_inf = u_inf\n",
    "        self.alpha = alpha*math.pi/180          # degrees --> radians"
   ]
  },
  {
   "cell_type": "code",
   "execution_count": 14,
   "metadata": {
    "collapsed": false
   },
   "outputs": [],
   "source": [
    "# defines and creates the object freestream\n",
    "u_inf = 1.0                                # freestream spee\n",
    "alpha = 0.0                                # angle of attack (in degrees)\n",
    "freestream = Freestream(u_inf, alpha)      # instantiation of the object freestream"
   ]
  },
  {
   "cell_type": "markdown",
   "metadata": {},
   "source": [
    "### Flow tangency boundary condition"
   ]
  },
  {
   "cell_type": "markdown",
   "metadata": {},
   "source": [
    "A constant vortex strength $\\gamma$ will be added to each panel (all panels have the same, constant vortex-sheet strength). Thus, using the principle of superposition, the velocity potential becomes:\n",
    "\n",
    "$$\n",
    "\\begin{align*}\n",
    "\\phi\\left(x_{c_i},y_{c_i}\\right) &= V_\\infty x_{c_i} \\cos \\alpha + V_\\infty y_{c_i} \\sin \\alpha \\\\\n",
    "&+ \\sum_{j=1}^N \\frac{\\sigma_j}{2\\pi} \\int_j \\ln \\left(\\sqrt{(x_{c_i}-x_j(s_j))^2+(y_{c_i}-y_j(s_j))^2} \\right) {\\rm d}s_j \\\\\n",
    "&- \\sum_{j=1}^N \\frac{\\gamma}{2\\pi} \\int_j \\tan^{-1} \\left(\\frac{y_{c_i}-y_j(s_j)}{x_{c_i}-x_j(s_j)}\\right) {\\rm d}s_j\n",
    "\\end{align*}\n",
    "$$"
   ]
  },
  {
   "cell_type": "markdown",
   "metadata": {},
   "source": [
    "The flow tangency boundary condition is applied at every panel center:\n",
    "\n",
    "$$0 = \\underline{V}\\cdot\\underline{n}_i = \\frac{\\partial}{\\partial n_i} \\left\\{ \\phi\\left(x_{c_i},y_{c_i}\\right) \\right\\}$$\n",
    "\n",
    "i.e.\n",
    "\n",
    "$$\n",
    "\\begin{align*}\n",
    "0 &= V_\\infty \\cos \\left(\\alpha-\\beta_i\\right) + \\frac{\\sigma_i}{2} \\\\\n",
    "&+ \\sum_{j=1,j\\neq i}^N \\frac{\\sigma_j}{2\\pi} \\int_j \\frac{\\partial}{\\partial n_i} \\ln \\left(\\sqrt{(x_{c_i}-x_j(s_j))^2+(y_{c_i}-y_j(s_j))^2} \\right) {\\rm d}s_j \\\\\n",
    "&- \\sum_{j=1,j\\neq i}^N \\frac{\\gamma}{2\\pi} \\int_j \\frac{\\partial}{\\partial n_i} \\tan^{-1} \\left(\\frac{y_{c_i}-y_j(s_j)}{x_{c_i}-x_j(s_j)}\\right) {\\rm d}s_j\n",
    "\\end{align*}\n",
    "$$"
   ]
  },
  {
   "cell_type": "markdown",
   "metadata": {},
   "source": [
    "We already worked the first integral in the previous lesson:\n",
    "\n",
    "$$\\frac{\\partial}{\\partial n_i} \\ln \\left(\\sqrt{(x_{c_i}-x_j(s_j))^2+(y_{c_i}-y_j(s_j))^2} \\right) = \\frac{\\left(x_{c_i}-x_j\\right)\\frac{\\partial x_{c_i}}{\\partial n_i} + \\left(y_{c_i}-y_j\\right)\\frac{\\partial y_{c_i}}{\\partial n_i}}{\\left(x_{c_i}-x_j\\right)^2 + \\left(x_{c_i}-x_j\\right)^2}$$\n",
    "\n",
    "where $\\frac{\\partial x_{c_i}}{\\partial n_i} = \\cos \\beta_i$ and $\\frac{\\partial y_{c_i}}{\\partial n_i} = \\sin \\beta_i$, and:\n",
    "\n",
    "$$x_j(s_j) = x_{b_j} - s_j \\sin \\beta_j$$\n",
    "\n",
    "$$y_j(s_j) = y_{b_j} + s_j \\cos \\beta_j$$\n",
    "\n",
    "We now need to derive the last integral of the boundary equation:\n",
    "\n",
    "$$\\frac{\\partial}{\\partial n_i} \\tan^{-1} \\left(\\frac{y_{c_i}-y_j(s_j)}{x_{c_i}-x_j(s_j)}\\right)= \\frac{\\left(x_{c_i}-x_j\\right)\\frac{\\partial y_{c_i}}{\\partial n_i} - \\left(y_{c_i}-y_j\\right)\\frac{\\partial x_{c_i}}{\\partial n_i}}{\\left(x_{c_i}-x_j\\right)^2 + \\left(y_{c_i}-y_j\\right)^2}$$\n",
    "\n",
    "where $\\frac{\\partial x_{c_i}}{\\partial n_i} = \\cos \\beta_i$ and $\\frac{\\partial y_{c_i}}{\\partial n_i} = \\sin \\beta_i$."
   ]
  },
  {
   "cell_type": "markdown",
   "metadata": {},
   "source": [
    "### Enforcing the Kutta-condition"
   ]
  },
  {
   "cell_type": "markdown",
   "metadata": {},
   "source": [
    "To enforce the *Kutta-condition*, we state that the pressure coefficient on the fisrt panel must be equal to that on the last panel:\n",
    "\n",
    "$$C_{p_1} = C_{p_{N}}$$\n",
    "\n",
    "Using the definition of the pressure coefficient $C_p = 1-\\left(\\frac{V}{U_\\infty}\\right)^2$, the Kutta-condition implies that the magnitude of the velocity at the first panel center must equal the magnitude of the last panel center:\n",
    "\n",
    "$$V_1^2 = V_N^2$$\n",
    "\n",
    "Since the flow tangency condition requires that $V_{n_1} = V_{n_N} = 0$, we end up with the following *Kutta-condition*:\n",
    "\n",
    "$$V_{t_1} = - V_{t_N}$$\n",
    "\n",
    "(the minus sign comes from the reference axis we chose for the normal and tangential vectors).\n"
   ]
  },
  {
   "cell_type": "markdown",
   "metadata": {},
   "source": [
    "Therefore, we need to evaluate the tangential velocity at the first and last panels. Let's derive it for every panel, since it will be useful to compute the pressure coefficient.\n",
    "\n",
    "$$V_{t_i} = \\frac{\\partial}{\\partial t_i} \\left(\\phi\\left(x_{c_i},y_{c_i}\\right)\\right)$$\n",
    "\n",
    "i.e.,\n",
    "\n",
    "$$\n",
    "\\begin{align*}\n",
    "V_{t_i} &= V_\\infty \\sin \\left(\\alpha-\\beta_i\\right) \\\\\n",
    "&+ \\sum_{j=1,j\\neq i}^N \\frac{\\sigma_j}{2\\pi} \\int_j \\frac{\\partial}{\\partial t_i} \\ln \\left(\\sqrt{(x_{c_i}-x_j(s_j))^2+(y_{c_i}-y_j(s_j))^2} \\right) {\\rm d}s_j \\\\\n",
    "&- \\sum_{j=1,j\\neq i}^N \\frac{\\gamma}{2\\pi} \\int_j \\frac{\\partial}{\\partial t_i} \\tan^{-1} \\left(\\frac{y_{c_i}-y_j(s_j)}{x_{c_i}-x_j(s_j)}\\right) {\\rm d}s_j\n",
    "\\end{align*}\n",
    "$$\n",
    "\n",
    "\n",
    "which gives\n",
    "\n",
    "$$\n",
    "\\begin{align*}\n",
    "V_{t_i} &= V_\\infty \\sin \\left(\\alpha-\\beta_i\\right) \\\\\n",
    "&+ \\sum_{j=1,j\\neq i}^N \\frac{\\sigma_j}{2\\pi} \\int_j \\frac{\\left(x_{c_i}-x_j\\right)\\frac{\\partial x_{c_i}}{\\partial t_i} + \\left(y_{c_i}-y_j\\right)\\frac{\\partial y_{c_i}}{\\partial t_i}}{\\left(x_{c_i}-x_j\\right)^2 + \\left(x_{c_i}-x_j\\right)^2} {\\rm d}s_j \\\\\n",
    "&- \\sum_{j=1,j\\neq i}^N \\frac{\\gamma}{2\\pi} \\int_j \\frac{\\left(x_{c_i}-x_j\\right)\\frac{\\partial y_{c_i}}{\\partial t_i} - \\left(y_{c_i}-y_j\\right)\\frac{\\partial x_{c_i}}{\\partial t_i}}{\\left(x_{c_i}-x_j\\right)^2 + \\left(x_{c_i}-x_j\\right)^2} {\\rm d}s_j \n",
    "\\end{align*}\n",
    "$$\n",
    "\n",
    "where $\\frac{\\partial x_{c_i}}{\\partial t_i} = -\\sin \\beta_i$ and $\\frac{\\partial y_{c_i}}{\\partial t_i} = \\cos \\beta_i$"
   ]
  },
  {
   "cell_type": "markdown",
   "metadata": {},
   "source": [
    "### Building the linear system"
   ]
  },
  {
   "cell_type": "markdown",
   "metadata": {},
   "source": [
    "Here, we build and solve the linear system of equations of the form\n",
    "\n",
    "$$[A][\\sigma,\\gamma] = [b]$$\n",
    "\n",
    "where the $N+1 \\times N+1$ matrix $[A]$ contains three blocks: an $N \\times N$ source matrix (the same one of Lesson 10), an $N \\times 1$ vortex array to store the weight of the variable $\\gamma$ at each panel, and a $1 \\times N+1$ Kutta array that repesents our Kutta-condition."
   ]
  },
  {
   "cell_type": "markdown",
   "metadata": {},
   "source": [
    "We are going to re-use the function `integral()` from Lesson 10 to compute the different integrals with the NumPy function `integrate.quad()`:"
   ]
  },
  {
   "cell_type": "code",
   "execution_count": 15,
   "metadata": {
    "collapsed": false
   },
   "outputs": [],
   "source": [
    "def integral(x, y, panel, dxdz, dydz):\n",
    "    \"\"\"Evaluates the contribution of a panel at one point.\n",
    "    \n",
    "    Arguments\n",
    "    ---------\n",
    "    x, y -- Cartesian coordinates of the point.\n",
    "    panel -- panel which contribution is evaluated.\n",
    "    dxdz -- derivative of x in the z-direction.\n",
    "    dydz -- derivative of y in the z-direction.\n",
    "    \n",
    "    Returns\n",
    "    -------\n",
    "    Integral over the panel of the influence at one point.\n",
    "    \"\"\"\n",
    "    def func(s):\n",
    "        return ( ((x - (panel.xa - math.sin(panel.beta)*s))*dxdz \n",
    "                  + (y - (panel.ya + math.cos(panel.beta)*s))*dydz)\n",
    "                / ((x - (panel.xa - math.sin(panel.beta)*s))**2 \n",
    "                   + (y - (panel.ya + math.cos(panel.beta)*s))**2) )\n",
    "    return integrate.quad(lambda s:func(s), 0., panel.length)[0]"
   ]
  },
  {
   "cell_type": "markdown",
   "metadata": {},
   "source": [
    "We first build the source matrix:"
   ]
  },
  {
   "cell_type": "code",
   "execution_count": 16,
   "metadata": {
    "collapsed": false
   },
   "outputs": [],
   "source": [
    "def source_matrix(panels):\n",
    "    \"\"\"Builds the source matrix.\n",
    "    \n",
    "    Arguments\n",
    "    ---------\n",
    "    panels -- array of panels.\n",
    "    \n",
    "    Returns\n",
    "    -------\n",
    "    A -- NxN matrix (N is the number of panels).\n",
    "    \"\"\"\n",
    "    N = len(panels)\n",
    "    A = numpy.empty((N, N), dtype=float)\n",
    "    numpy.fill_diagonal(A, 0.5)\n",
    "    \n",
    "    for i, p_i in enumerate(panels):\n",
    "        for j, p_j in enumerate(panels):\n",
    "            if i != j:\n",
    "                A[i,j] = 0.5/math.pi*integral(p_i.xc, p_i.yc, p_j, math.cos(p_i.beta), math.sin(p_i.beta))\n",
    "    \n",
    "    return A"
   ]
  },
  {
   "cell_type": "markdown",
   "metadata": {},
   "source": [
    "then the vortex array:"
   ]
  },
  {
   "cell_type": "code",
   "execution_count": 17,
   "metadata": {
    "collapsed": false
   },
   "outputs": [],
   "source": [
    "def vortex_array(panels):\n",
    "    \"\"\"Builds the vortex array.\n",
    "    \n",
    "    Arguments\n",
    "    ---------\n",
    "    panels - array of panels.\n",
    "    \n",
    "    Returns\n",
    "    -------\n",
    "    a -- 1D array (Nx1, N is the number of panels).\n",
    "    \"\"\"\n",
    "    a = numpy.zeros(len(panels), dtype=float)\n",
    "    \n",
    "    for i, p_i in enumerate(panels):\n",
    "        for j, p_j in enumerate(panels):\n",
    "            if i != j:\n",
    "                a[i] -= 0.5/math.pi*integral(p_i.xc, p_i.yc, p_j, +math.sin(p_i.beta), -math.cos(p_i.beta))\n",
    "    \n",
    "    return a"
   ]
  },
  {
   "cell_type": "markdown",
   "metadata": {},
   "source": [
    "and finally the Kutta array:"
   ]
  },
  {
   "cell_type": "code",
   "execution_count": 18,
   "metadata": {
    "collapsed": false
   },
   "outputs": [],
   "source": [
    "def kutta_array(panels):\n",
    "    \"\"\"Builds the Kutta-condition array.\n",
    "    \n",
    "    Arguments\n",
    "    ---------\n",
    "    panels -- array of panels.\n",
    "    \n",
    "    Returns\n",
    "    -------\n",
    "    a -- 1D array (Nx1, N is the number of panels).\n",
    "    \"\"\"\n",
    "    N = len(panels)\n",
    "    a = numpy.zeros(N+1, dtype=float)\n",
    "    \n",
    "    a[0] = 0.5/math.pi*integral(panels[N-1].xc, panels[N-1].yc, panels[0], \n",
    "                           -math.sin(panels[N-1].beta), +math.cos(panels[N-1].beta))\n",
    "    a[N-1] = 0.5/math.pi*integral(panels[0].xc, panels[0].yc, panels[N-1], \n",
    "                             -math.sin(panels[0].beta), +math.cos(panels[0].beta))\n",
    "    \n",
    "    for i, panel in enumerate(panels[1:N-1]):\n",
    "        a[i] = 0.5/math.pi*(integral(panels[0].xc, panels[0].yc, panel, \n",
    "                               -math.sin(panels[0].beta), +math.cos(panels[0].beta))\n",
    "                     + integral(panels[N-1].xc, panels[N-1].yc, panel, \n",
    "                               -math.sin(panels[N-1].beta), +math.cos(panels[N-1].beta)) )\n",
    "\n",
    "        a[N] -= 0.5/math.pi*(integral(panels[0].xc, panels[0].yc, panel, \n",
    "                               +math.cos(panels[0].beta), +math.sin(panels[0].beta))\n",
    "                     + integral(panels[N-1].xc, panels[N-1].yc, panel, \n",
    "                               +math.cos(panels[N-1].beta), +math.sin(panels[N-1].beta)) )\n",
    "    \n",
    "    return a"
   ]
  },
  {
   "cell_type": "markdown",
   "metadata": {},
   "source": [
    "Now that the three blocks have be defined, we can assemble the matrix $[A]$:"
   ]
  },
  {
   "cell_type": "code",
   "execution_count": 19,
   "metadata": {
    "collapsed": false
   },
   "outputs": [],
   "source": [
    "def build_matrix(panels):\n",
    "    \"\"\"Builds the matrix of the linear system.\n",
    "    \n",
    "    Arguments\n",
    "    ---------\n",
    "    panels -- array of panels.\n",
    "    \n",
    "    Returns\n",
    "    -------\n",
    "    A -- (N+1)x(N+1) matrix (N is the number of panels).\n",
    "    \"\"\"\n",
    "    N = len(panels)\n",
    "    A = numpy.empty((N+1, N+1), dtype=float)\n",
    "    \n",
    "    AS = source_matrix(panels)\n",
    "    av = vortex_array(panels)\n",
    "    ak = kutta_array(panels)\n",
    "    \n",
    "    A[0:N,0:N], A[0:N,N], A[N,:] = AS[:,:], av[:], ak[:]\n",
    "    \n",
    "    return A"
   ]
  },
  {
   "cell_type": "markdown",
   "metadata": {},
   "source": [
    "On the right hand-side, we store the free-stream conditions that do not depend on the unknowns strengths:"
   ]
  },
  {
   "cell_type": "code",
   "execution_count": 20,
   "metadata": {
    "collapsed": false
   },
   "outputs": [],
   "source": [
    "def build_rhs(panels, freestream):\n",
    "    \"\"\"Builds the RHS of the linear system.\n",
    "    \n",
    "    Arguments\n",
    "    ---------\n",
    "    panels -- array of panels.\n",
    "    freestream -- farfield conditions.\n",
    "    \n",
    "    Returns\n",
    "    -------\n",
    "    b -- 1D array ((N+1)x1, N is the number of panels).\n",
    "    \"\"\"\n",
    "    N = len(panels)\n",
    "    b = numpy.empty(N+1,dtype=float)\n",
    "    \n",
    "    for i, panel in enumerate(panels):\n",
    "        b[i] = - freestream.u_inf * math.cos(freestream.alpha - panel.beta)\n",
    "    b[N] = -freestream.u_inf*( math.sin(freestream.alpha-panels[0].beta)\n",
    "                              +math.sin(freestream.alpha-panels[N-1].beta) )\n",
    "    \n",
    "    return b"
   ]
  },
  {
   "cell_type": "markdown",
   "metadata": {},
   "source": [
    "All in all, the system has been defined with the functions `source_matrix()`, `vortex_array()`, `kutta_array()` and `build_rhs()`, which we have to call to build the complete system:"
   ]
  },
  {
   "cell_type": "code",
   "execution_count": 21,
   "metadata": {
    "collapsed": false
   },
   "outputs": [],
   "source": [
    "A = build_matrix(panels)                  # calculates the singularity matrix\n",
    "b = build_rhs(panels, freestream)         # calculates the freestream RHS"
   ]
  },
  {
   "cell_type": "markdown",
   "metadata": {},
   "source": [
    "The linear system is then solved using the NumPy function `linalg.solve()`and we store the results in the attribute `sigma` of each object. We also create a variable `gamma` to store the value of the constant vortex strength. "
   ]
  },
  {
   "cell_type": "code",
   "execution_count": 28,
   "metadata": {
    "collapsed": false
   },
   "outputs": [],
   "source": [
    "# solves the linear system\n",
    "variables = numpy.linalg.solve(A, b)\n",
    "\n",
    "for i, panel in enumerate(panels):\n",
    "    panel.sigma = variables[i]\n",
    "gamma = variables[-1]"
   ]
  },
  {
   "cell_type": "markdown",
   "metadata": {},
   "source": [
    "### Surface pressure coefficient"
   ]
  },
  {
   "cell_type": "markdown",
   "metadata": {},
   "source": [
    "The pressure coefficient at the $i$-th panel center is:\n",
    "\n",
    "$$C_{p_i} = 1 - \\left(\\frac{V_{t_i}}{U_\\infty}\\right)^2$$\n",
    "\n",
    "So, we have to compute the tangential velocity at each panel center using the function `get_tangential_velocity()`:"
   ]
  },
  {
   "cell_type": "code",
   "execution_count": 23,
   "metadata": {
    "collapsed": false
   },
   "outputs": [],
   "source": [
    "def get_tangential_velocity(panels, freestream, gamma):\n",
    "    \"\"\"Computes the tangential velocity on the surface.\n",
    "    \n",
    "    Arguments\n",
    "    ---------\n",
    "    panels -- array of panels.\n",
    "    freestream -- farfield conditions.\n",
    "    gamma -- circulation density.\n",
    "    \"\"\"\n",
    "    N = len(panels)\n",
    "    A = numpy.empty((N, N+1), dtype=float)\n",
    "    numpy.fill_diagonal(A, 0.0)\n",
    "    \n",
    "    for i, p_i in enumerate(panels):\n",
    "        for j, p_j in enumerate(panels):\n",
    "            if i != j:\n",
    "                A[i,j] = 0.5/math.pi*integral(p_i.xc, p_i.yc, p_j, -math.sin(p_i.beta), +math.cos(p_i.beta))\n",
    "                A[i,N] -= 0.5/math.pi*integral(p_i.xc, p_i.yc, p_j, +math.cos(p_i.beta), +math.sin(p_i.beta))\n",
    "\n",
    "    b = freestream.u_inf * numpy.sin([freestream.alpha - panel.beta for panel in panels])\n",
    "    \n",
    "    var = numpy.append([panel.sigma for panel in panels], gamma)\n",
    "    \n",
    "    vt = numpy.dot(A, var) + b\n",
    "    for i, panel in enumerate(panels):\n",
    "        panel.vt = vt[i]"
   ]
  },
  {
   "cell_type": "code",
   "execution_count": 24,
   "metadata": {
    "collapsed": false
   },
   "outputs": [],
   "source": [
    "# computes the tangential velocity at each panel center.\n",
    "get_tangential_velocity(panels, freestream, gamma)"
   ]
  },
  {
   "cell_type": "markdown",
   "metadata": {},
   "source": [
    "And we define a function `get_pressure_coefficient()` to compute the surface pressure coefficient:"
   ]
  },
  {
   "cell_type": "code",
   "execution_count": 25,
   "metadata": {
    "collapsed": false
   },
   "outputs": [],
   "source": [
    "def get_pressure_coefficient(panels, freestream):\n",
    "    \"\"\"Computes the surface pressure coefficients.\n",
    "    \n",
    "    Arguments\n",
    "    ---------\n",
    "    panels -- array of panels.\n",
    "    freestream -- farfield conditions.\n",
    "    \"\"\"\n",
    "    for panel in panels:\n",
    "        panel.cp = 1.0 - (panel.vt/freestream.u_inf)**2"
   ]
  },
  {
   "cell_type": "code",
   "execution_count": 26,
   "metadata": {
    "collapsed": false
   },
   "outputs": [
    {
     "name": "stderr",
     "output_type": "stream",
     "text": [
      "/home/nd/anaconda/envs/py3k/lib/python3.3/site-packages/IPython/kernel/__main__.py:10: RuntimeWarning: overflow encountered in double_scalars\n"
=======
 "metadata": {
  "name": "",
  "signature": "sha256:fc91852ef4248b15d605d5513f948bd5496d03055b6dea91be90e4b274359323"
 },
 "nbformat": 3,
 "nbformat_minor": 0,
 "worksheets": [
  {
   "cells": [
    {
     "cell_type": "raw",
     "metadata": {},
     "source": [
      "Content provided under a Creative Commons Attribution license, CC-BY 4.0; code under MIT license. (c)2014 Lorena A. Barba, Olivier Mesnard. Thanks: NSF for support via CAREER award #1149784."
     ]
    },
    {
     "cell_type": "markdown",
     "metadata": {},
     "source": [
      "[@LorenaABarba](https://twitter.com/LorenaABarba)"
     ]
    },
    {
     "cell_type": "heading",
     "level": 5,
     "metadata": {},
     "source": [
      "Version 0.5 -- April 2015"
     ]
    },
    {
     "cell_type": "heading",
     "level": 1,
     "metadata": {},
     "source": [
      "Vortex-source panel method"
     ]
    },
    {
     "cell_type": "markdown",
     "metadata": {},
     "source": [
      "In [Lesson 9](http://nbviewer.ipython.org/urls/github.com/barbagroup/AeroPython/blob/master/lessons/09_Lesson09_flowOverCylinder.ipynb) of _AeroPython_, you learned to use a _source panel method_ to represent a circular cylinder, and in [Lesson 10](http://nbviewer.ipython.org/urls/github.com/barbagroup/AeroPython/blob/master/lessons/10_Lesson10_sourcePanelMethod.ipynb) we used it for a symmetric airfoil at zero angle of attack. But what if we want the airfoil to generate some lift? If we place the airfoil at a non-zero angle of attack, we _should_ get lift, but will a source-panel representation be able to give you lift? Remember the [_Kutta-Joukowski theorem_](http://en.wikipedia.org/wiki/Kutta%E2%80%93Joukowski_theorem)?\n",
      "\n",
      "\n",
      "Historically, the first panel method ever developed was a source-sheet method. At the time, Douglas Aircraft Company was concerned with calculating the flow around bodies of revolution, and it was only later that the method was extended to lifting surfaces. (See the reference below for a nice historical account.)\n",
      "\n",
      "A *source-panel method* leads to a solution with no circulation, therefore no lift. The objective of this lesson is to start with the source panel method we implemented in the previous lesson and add some *circulation* so that we may have a lift force. We introduce an important concept: the **Kutta-condition** that allows us to determine what the right amount of circulation should be."
     ]
    },
    {
     "cell_type": "markdown",
     "metadata": {},
     "source": [
      "##### Reference\n",
      "\n",
      "* Smith, A.M.O., The Panel Method: Its Original Development. In _Applied Computational Aerodynamics_, Vol. 125, edited by P.A. Henne, published by AIAA (1990). [Read it on Google Books.](http://books.google.com/books?id=5Ov2tHj0wxoC&lpg=PA3&ots=SnUiqcdEnb&dq=The%20Panel%20Method%3A%20Its%20Original%20Development&pg=PA3#v=onepage&q&f=false)"
     ]
    },
    {
     "cell_type": "heading",
     "level": 2,
     "metadata": {},
     "source": [
      "A lifting-body panel method"
     ]
    },
    {
     "cell_type": "markdown",
     "metadata": {},
     "source": [
      "If we were to simply increase the angle of attack in the freestream and calculate the flow with a source sheet only, the rear stagnation point will not be located at the trailing edge. Instead, the flow will bend around the trailing edge and the stagnation point will be somewhere on the top surface of the airfoil. This is not a physically possible solution.\n",
      "\n",
      "For example, using the source-sheet panel method of [Lesson 10](http://nbviewer.ipython.org/github/barbagroup/AeroPython/blob/master/lessons/10_Lesson10_sourcePanelMethod.ipynb) with an angle of attack $\\alpha=4^\\circ$ (using 40 panels), and plotting the streamlines in an area close to the trailing edge, we get the following plot:\n",
      "\n",
      "<center><img src=\"./resources/StreamlinesTrailingEdge.png\" width=\"600\"></center>"
     ]
    },
    {
     "cell_type": "markdown",
     "metadata": {},
     "source": [
      "As you can see, the streamlines behave strangely at the trailing edge. We know experimentally that the flow leaves the trailing edge of an airfoil smoothly, so this must be wrong. Well, it's just that we can't use purely sources to calculate potential flow of an airfoil at non-zero angle of attack\u2014we need circulation. But how do we obtain circulation?\n",
      "\n",
      "### The Kutta condition\n",
      "\n",
      "The *Kutta-condition* states that the pressure below and above the airfoil trailing edge must be equal so that the flow does not bend around it, but leaves tangentially. The rear stagnation point must be exactly at the trailing edge.\n",
      "\n",
      "It's natural to be a little perplexed by this. How can we justify this seemingly arbitrary condition? Remember that potential-flow theory completely ignores fluid viscosity, so if we are leaving out this physical effect, we shouldn't be surprised that the theory needs some adjustment for those situations when viscosity does play a role. A real viscous fluid is not able to turn around a sharp corner like an airfoil trailing edge without separating there. The Kutta condition allows us to correct potential-flow theory so that it gives a solution closer to reality.\n",
      "\n",
      "Remember [Lesson 6](http://nbviewer.ipython.org/github/barbagroup/AeroPython/blob/master/lessons/06_Lesson06_vortexLift.ipynb), where we studied lift on a cylinder by combining a doublet and a freestream, plus a vortex. That's when we learned that **lift always requires circulation**. If you experimented with the circulation of the point vortex (which you *did*, right?), you found that the stagnation points moved along the cylinder.\n",
      "\n",
      "Like for the circular cylinder, the amount of circulation we add to an airfoil will move the stagnation points along the surface. And if we add just the right amount, the rear stagnation point can be made to coincide with the trailing edge. This amount of circulation makes the flow a physically relevant solution. And this amount gives the correct lift!\n",
      "\n",
      "To implement the Kutta-condition in our panel method we need to add one more equation to the system, giving the circulation that moves the stagnation point to the trailing edge. By placing a vortex-sheet with the same constant strength at every panel, we can add the circulation to the flow with just one more unknown.\n",
      "\n",
      "How do we enforce this in our code? We can re-use most of the code from Lesson 10, and enforce the Kutta-condition while adding circulation to the flow. Previously, we discretized the geometry into `N` panels, with a constant source strength on each one (varying from panel to panel), and applied a Neumann boundary condition of flow tangency at the `N` panel centers. This led to a linear system of `N` equations and `N` unknowns that we solved with the NumPy function `linalg.solve()`. In the lifting-body case, we will instead have `N+1` equations and `N+1` unknowns. Read on to find out how!\n"
     ]
    },
    {
     "cell_type": "heading",
     "level": 3,
     "metadata": {},
     "source": [
      "Discretization into panels"
     ]
    },
    {
     "cell_type": "markdown",
     "metadata": {},
     "source": [
      "Let's get the preliminaries out of the way. We need to import our favorite libraries, and the function `integrate` from SciPy, as in Lesson 10."
     ]
    },
    {
     "cell_type": "code",
     "collapsed": false,
     "input": [
      "import math\n",
      "import numpy\n",
      "from scipy import integrate\n",
      "from matplotlib import pyplot"
     ],
     "language": "python",
     "metadata": {},
     "outputs": [],
     "prompt_number": 1
    },
    {
     "cell_type": "markdown",
     "metadata": {},
     "source": [
      "We start by importing the NACA0012 geometry from a data file, and we plot the airfoil:"
     ]
    },
    {
     "cell_type": "code",
     "collapsed": false,
     "input": [
      "# reads of the geometry from a data file\n",
      "with open ('./resources/naca0012.dat') as file_name:\n",
      "    x, y = numpy.loadtxt(file_name, dtype=float, delimiter='\\t', unpack=True)\n",
      "\n",
      "# plots the geometry\n",
      "%matplotlib inline\n",
      "\n",
      "val_x, val_y = 0.1, 0.2\n",
      "x_min, x_max = x.min(), x.max()\n",
      "y_min, y_max = y.min(), y.max()\n",
      "x_start, x_end = x_min-val_x*(x_max-x_min), x_max+val_x*(x_max-x_min)\n",
      "y_start, y_end = y_min-val_y*(y_max-y_min), y_max+val_y*(y_max-y_min)\n",
      "\n",
      "size = 10\n",
      "pyplot.figure(figsize=(size, (y_end-y_start)/(x_end-x_start)*size))\n",
      "pyplot.grid(True)\n",
      "pyplot.xlabel('x', fontsize=16)\n",
      "pyplot.ylabel('y', fontsize=16)\n",
      "pyplot.xlim(x_start, x_end)\n",
      "pyplot.ylim(y_start, y_end)\n",
      "pyplot.plot(x, y, color='k', linestyle='-', linewidth=2);"
     ],
     "language": "python",
     "metadata": {},
     "outputs": [
      {
       "metadata": {},
       "output_type": "display_data",
       "png": "iVBORw0KGgoAAAANSUhEUgAAAnEAAAB+CAYAAABLREfEAAAABHNCSVQICAgIfAhkiAAAAAlwSFlz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\nQmCC\n",
       "text": [
        "<matplotlib.figure.Figure at 0x109e59890>"
       ]
      }
     ],
     "prompt_number": 2
    },
    {
     "cell_type": "markdown",
     "metadata": {},
     "source": [
      "The contour defining the airfoil will be partitioned into `N` panels, using the same method as in the [Lesson 10](http://nbviewer.ipython.org/github/barbagroup/AeroPython/blob/master/lessons/10_Lesson10_sourcePanelMethod.ipynb)."
     ]
    },
    {
     "cell_type": "markdown",
     "metadata": {},
     "source": [
      "We define a class `Panel`  that will store all information about one panel: start and end points, center point, length, orientation, source strength, tangential velocity and pressure coefficient. We don't save the vortex-sheet strength because all panels will have the same value."
     ]
    },
    {
     "cell_type": "code",
     "collapsed": false,
     "input": [
      "class Panel:\n",
      "    \"\"\"Contains information related to one panel.\"\"\"\n",
      "    def __init__(self, xa, ya, xb, yb):\n",
      "        \"\"\"Creates a panel.\n",
      "        \n",
      "        Arguments\n",
      "        ---------\n",
      "        xa, ya -- Cartesian coordinates of the first end-point.\n",
      "        xb, yb -- Cartesian coordinates of the second end-point.\n",
      "        \"\"\"\n",
      "        self.xa, self.ya = xa, ya\n",
      "        self.xb, self.yb = xb, yb\n",
      "        \n",
      "        self.xc, self.yc = (xa+xb)/2, (ya+yb)/2       # control-point (center-point)\n",
      "        self.length = math.sqrt((xb-xa)**2+(yb-ya)**2)     # length of the panel\n",
      "        \n",
      "        # orientation of the panel (angle between x-axis and panel's normal)\n",
      "        if xb-xa <= 0.:\n",
      "            self.beta = math.acos((yb-ya)/self.length)\n",
      "        elif xb-xa > 0.:\n",
      "            self.beta = math.pi + math.acos(-(yb-ya)/self.length)\n",
      "        \n",
      "        # location of the panel\n",
      "        if self.beta <= math.pi:\n",
      "            self.loc = 'extrados'\n",
      "        else:\n",
      "            self.loc = 'intrados'\n",
      "        \n",
      "        self.sigma = 0.                             # source strength\n",
      "        self.vt = 0.                                # tangential velocity\n",
      "        self.cp = 0.                                # pressure coefficient"
     ],
     "language": "python",
     "metadata": {},
     "outputs": [],
     "prompt_number": 3
    },
    {
     "cell_type": "markdown",
     "metadata": {},
     "source": [
      "Like before, we call the function `define_panels()` to discretize the airfoil geometry in `N` panels. The function will return a NumPy array of `N` objects of the type `Panel`."
     ]
    },
    {
     "cell_type": "code",
     "collapsed": false,
     "input": [
      "def define_panels(x, y, N=40):\n",
      "    \"\"\"Discretizes the geometry into panels using 'cosine' method.\n",
      "    \n",
      "    Arguments\n",
      "    ---------\n",
      "    x, y -- Cartesian coordinates of the geometry (1D arrays).\n",
      "    N - number of panels (default 40).\n",
      "    \n",
      "    Returns\n",
      "    -------\n",
      "    panels -- Numpy array of panels.\n",
      "    \"\"\"\n",
      "    R = (x.max()-x.min())/2                                    # radius of the circle\n",
      "    x_center = (x.max()+x.min())/2                             # x-coord of the center\n",
      "    x_circle = x_center + R*numpy.cos(numpy.linspace(0, 2*math.pi, N+1))  # x-coord of the circle points\n",
      "    \n",
      "    x_ends = numpy.copy(x_circle)      # projection of the x-coord on the surface\n",
      "    y_ends = numpy.empty_like(x_ends)  # initialization of the y-coord Numpy array\n",
      "\n",
      "    x, y = numpy.append(x, x[0]), numpy.append(y, y[0])    # extend arrays using numpy.append\n",
      "    \n",
      "    # computes the y-coordinate of end-points\n",
      "    I = 0\n",
      "    for i in xrange(N):\n",
      "        while I < len(x)-1:\n",
      "            if (x[I] <= x_ends[i] <= x[I+1]) or (x[I+1] <= x_ends[i] <= x[I]):\n",
      "                break\n",
      "            else:\n",
      "                I += 1\n",
      "        a = (y[I+1]-y[I])/(x[I+1]-x[I])\n",
      "        b = y[I+1] - a*x[I+1]\n",
      "        y_ends[i] = a*x_ends[i] + b\n",
      "    y_ends[N] = y_ends[0]\n",
      "    \n",
      "    panels = numpy.empty(N, dtype=object)\n",
      "    for i in xrange(N):\n",
      "        panels[i] = Panel(x_ends[i], y_ends[i], x_ends[i+1], y_ends[i+1])\n",
      "    \n",
      "    return panels"
     ],
     "language": "python",
     "metadata": {},
     "outputs": [],
     "prompt_number": 4
    },
    {
     "cell_type": "markdown",
     "metadata": {},
     "source": [
      "Now we can use our new function to define the geometry for the airfoil panels, and then plot the panel nodes on the geometry."
     ]
    },
    {
     "cell_type": "code",
     "collapsed": false,
     "input": [
      "N = 40                            # number of panels\n",
      "panels = define_panels(x, y, N)  # discretizes of the geometry into panels\n",
      "\n",
      "# plots the geometry and the panels\n",
      "val_x, val_y = 0.1, 0.2\n",
      "x_min, x_max = min( panel.xa for panel in panels ), max( panel.xa for panel in panels )\n",
      "y_min, y_max = min( panel.ya for panel in panels ), max( panel.ya for panel in panels )\n",
      "x_start, x_end = x_min-val_x*(x_max-x_min), x_max+val_x*(x_max-x_min)\n",
      "y_start, y_end = y_min-val_y*(y_max-y_min), y_max+val_y*(y_max-y_min)\n",
      "\n",
      "size = 10\n",
      "pyplot.figure(figsize=(size, (y_end-y_start)/(x_end-x_start)*size))\n",
      "pyplot.grid(True)\n",
      "pyplot.xlabel('x', fontsize=16)\n",
      "pyplot.ylabel('y', fontsize=16)\n",
      "pyplot.xlim(x_start, x_end)\n",
      "pyplot.ylim(y_start, y_end)\n",
      "pyplot.plot(x, y, color='k', linestyle='-', linewidth=2)\n",
      "pyplot.plot(numpy.append([panel.xa for panel in panels], panels[0].xa), \n",
      "         numpy.append([panel.ya for panel in panels], panels[0].ya), \n",
      "         linestyle='-', linewidth=1, marker='o', markersize=6, color='#CD2305');"
     ],
     "language": "python",
     "metadata": {},
     "outputs": [
      {
       "metadata": {},
       "output_type": "display_data",
       "png": "iVBORw0KGgoAAAANSUhEUgAAAnEAAAB+CAYAAABLREfEAAAABHNCSVQICAgIfAhkiAAAAAlwSFlz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\nVNS2ojzLAAAAAElFTkSuQmCC\n",
       "text": [
        "<matplotlib.figure.Figure at 0x10a170bd0>"
       ]
      }
     ],
     "prompt_number": 5
    },
    {
     "cell_type": "heading",
     "level": 3,
     "metadata": {},
     "source": [
      "Free-stream conditions"
     ]
    },
    {
     "cell_type": "markdown",
     "metadata": {},
     "source": [
      "The airfoil is immersed in a free-stream ($U_\\infty$,$\\alpha$) where $U_\\infty$ and $\\alpha$ are the velocity magnitude and angle of attack, respectively. Like before, we create a class for the free stream, even though we will only have one object that uses this class. It makes it easier to pass the free stream to other functions later on."
     ]
    },
    {
     "cell_type": "code",
     "collapsed": false,
     "input": [
      "class Freestream:\n",
      "    \"\"\"Freestream conditions.\"\"\"\n",
      "    def __init__(self, u_inf=1.0, alpha=0.0):\n",
      "        \"\"\"Sets the freestream conditions.\n",
      "        \n",
      "        Arguments\n",
      "        ---------\n",
      "        u_inf -- Farfield speed (default 1.0).\n",
      "        alpha -- Angle of attack in degrees (default 0.0).\n",
      "        \"\"\"\n",
      "        self.u_inf = u_inf\n",
      "        self.alpha = alpha*math.pi/180          # degrees --> radians"
     ],
     "language": "python",
     "metadata": {},
     "outputs": [],
     "prompt_number": 6
    },
    {
     "cell_type": "code",
     "collapsed": false,
     "input": [
      "# defines and creates the object freestream\n",
      "u_inf = 1.0                                # freestream spee\n",
      "alpha = 4.0                                # angle of attack (in degrees)\n",
      "freestream = Freestream(u_inf, alpha)      # instantiation of the object freestream"
     ],
     "language": "python",
     "metadata": {},
     "outputs": [],
     "prompt_number": 7
    },
    {
     "cell_type": "heading",
     "level": 3,
     "metadata": {},
     "source": [
      "Flow tangency boundary condition"
     ]
    },
    {
     "cell_type": "markdown",
     "metadata": {},
     "source": [
      "A constant vortex strength $\\gamma$ will be added to each panel (all panels have the same, constant vortex-sheet strength). Thus, using the principle of superposition, the velocity potential becomes:\n",
      "\n",
      "$$\n",
      "\\begin{align*}\n",
      "\\phi\\left(x_{c_i},y_{c_i}\\right) &= V_\\infty x_{c_i} \\cos \\alpha + V_\\infty y_{c_i} \\sin \\alpha \\\\\n",
      "&+ \\sum_{j=1}^N \\frac{\\sigma_j}{2\\pi} \\int_j \\ln \\left(\\sqrt{(x_{c_i}-x_j(s_j))^2+(y_{c_i}-y_j(s_j))^2} \\right) {\\rm d}s_j \\\\\n",
      "&- \\sum_{j=1}^N \\frac{\\gamma}{2\\pi} \\int_j \\tan^{-1} \\left(\\frac{y_{c_i}-y_j(s_j)}{x_{c_i}-x_j(s_j)}\\right) {\\rm d}s_j\n",
      "\\end{align*}\n",
      "$$"
     ]
    },
    {
     "cell_type": "markdown",
     "metadata": {},
     "source": [
      "The flow tangency boundary condition is applied at every panel center:\n",
      "\n",
      "$$0 = \\underline{V}\\cdot\\underline{n}_i = \\frac{\\partial}{\\partial n_i} \\left\\{ \\phi\\left(x_{c_i},y_{c_i}\\right) \\right\\}$$\n",
      "\n",
      "i.e.\n",
      "\n",
      "$$\n",
      "\\begin{align*}\n",
      "0 &= V_\\infty \\cos \\left(\\alpha-\\beta_i\\right) + \\frac{\\sigma_i}{2} \\\\\n",
      "&+ \\sum_{j=1,j\\neq i}^N \\frac{\\sigma_j}{2\\pi} \\int_j \\frac{\\partial}{\\partial n_i} \\ln \\left(\\sqrt{(x_{c_i}-x_j(s_j))^2+(y_{c_i}-y_j(s_j))^2} \\right) {\\rm d}s_j \\\\\n",
      "&- \\sum_{j=1,j\\neq i}^N \\frac{\\gamma}{2\\pi} \\int_j \\frac{\\partial}{\\partial n_i} \\tan^{-1} \\left(\\frac{y_{c_i}-y_j(s_j)}{x_{c_i}-x_j(s_j)}\\right) {\\rm d}s_j\n",
      "\\end{align*}\n",
      "$$"
     ]
    },
    {
     "cell_type": "markdown",
     "metadata": {},
     "source": [
      "We already worked the first integral in the previous lesson:\n",
      "\n",
      "$$\\frac{\\partial}{\\partial n_i} \\ln \\left(\\sqrt{(x_{c_i}-x_j(s_j))^2+(y_{c_i}-y_j(s_j))^2} \\right) = \\frac{\\left(x_{c_i}-x_j\\right)\\frac{\\partial x_{c_i}}{\\partial n_i} + \\left(y_{c_i}-y_j\\right)\\frac{\\partial y_{c_i}}{\\partial n_i}}{\\left(x_{c_i}-x_j\\right)^2 + \\left(x_{c_i}-x_j\\right)^2}$$\n",
      "\n",
      "where $\\frac{\\partial x_{c_i}}{\\partial n_i} = \\cos \\beta_i$ and $\\frac{\\partial y_{c_i}}{\\partial n_i} = \\sin \\beta_i$, and:\n",
      "\n",
      "$$x_j(s_j) = x_{b_j} - s_j \\sin \\beta_j$$\n",
      "\n",
      "$$y_j(s_j) = y_{b_j} + s_j \\cos \\beta_j$$\n",
      "\n",
      "We now need to derive the last integral of the boundary equation:\n",
      "\n",
      "$$\\frac{\\partial}{\\partial n_i} \\tan^{-1} \\left(\\frac{y_{c_i}-y_j(s_j)}{x_{c_i}-x_j(s_j)}\\right)= \\frac{\\left(x_{c_i}-x_j\\right)\\frac{\\partial y_{c_i}}{\\partial n_i} - \\left(y_{c_i}-y_j\\right)\\frac{\\partial x_{c_i}}{\\partial n_i}}{\\left(x_{c_i}-x_j\\right)^2 + \\left(y_{c_i}-y_j\\right)^2}$$\n",
      "\n",
      "where $\\frac{\\partial x_{c_i}}{\\partial n_i} = \\cos \\beta_i$ and $\\frac{\\partial y_{c_i}}{\\partial n_i} = \\sin \\beta_i$."
     ]
    },
    {
     "cell_type": "heading",
     "level": 3,
     "metadata": {},
     "source": [
      "Enforcing the Kutta-condition"
     ]
    },
    {
     "cell_type": "markdown",
     "metadata": {},
     "source": [
      "To enforce the *Kutta-condition*, we state that the pressure coefficient on the first panel must be equal to that on the last panel:\n",
      "\n",
      "$$C_{p_1} = C_{p_{N}}$$\n",
      "\n",
      "Using the definition of the pressure coefficient $C_p = 1-\\left(\\frac{V}{U_\\infty}\\right)^2$, the Kutta-condition implies that the magnitude of the velocity at the first panel center must equal the magnitude of the last panel center:\n",
      "\n",
      "$$V_1^2 = V_N^2$$\n",
      "\n",
      "Since the flow tangency condition requires that $V_{n_1} = V_{n_N} = 0$, we end up with the following *Kutta-condition*:\n",
      "\n",
      "$$V_{t_1} = - V_{t_N}$$\n",
      "\n",
      "(the minus sign comes from the reference axis we chose for the normal and tangential vectors).\n"
     ]
    },
    {
     "cell_type": "markdown",
     "metadata": {},
     "source": [
      "Therefore, we need to evaluate the tangential velocity at the first and last panels. \n",
      "\n",
      "In [Lesson 8](http://nbviewer.ipython.org/github/barbagroup/AeroPython/blob/master/lessons/08_Lesson08_sourceSheet.ipynb), we saw that the normal velocity induced by a source sheet panel on itself is $\\frac{\\sigma}{2}$. In a similar fashion, we can show that the tangential velocity induced by a vortex sheet panel on itself is $-\\frac{\\gamma}{2}$.\n",
      "\n",
      "Let's derive the tangential velocity for every panel, since it will be useful to compute the pressure coefficient.\n",
      "\n",
      "$$V_{t_i} = \\frac{\\partial}{\\partial t_i} \\left(\\phi\\left(x_{c_i},y_{c_i}\\right)\\right)$$\n",
      "\n",
      "i.e.,\n",
      "\n",
      "$$\n",
      "\\begin{align*}\n",
      "V_{t_i} &= V_\\infty \\sin \\left(\\alpha-\\beta_i\\right) \\\\\n",
      "&+ \\sum_{j=1,j\\neq i}^N \\frac{\\sigma_j}{2\\pi} \\int_j \\frac{\\partial}{\\partial t_i} \\ln \\left(\\sqrt{(x_{c_i}-x_j(s_j))^2+(y_{c_i}-y_j(s_j))^2} \\right) {\\rm d}s_j \\\\\n",
      "&- \\sum_{j=1,j\\neq i}^N \\frac{\\gamma}{2\\pi} \\int_j \\frac{\\partial}{\\partial t_i} \\tan^{-1} \\left(\\frac{y_{c_i}-y_j(s_j)}{x_{c_i}-x_j(s_j)}\\right) {\\rm d}s_j \\\\\n",
      "&-\\frac{\\gamma}{2}\n",
      "\\end{align*}\n",
      "$$\n",
      "\n",
      "\n",
      "which gives\n",
      "\n",
      "$$\n",
      "\\begin{align*}\n",
      "V_{t_i} &= V_\\infty \\sin \\left(\\alpha-\\beta_i\\right) \\\\\n",
      "&+ \\sum_{j=1,j\\neq i}^N \\frac{\\sigma_j}{2\\pi} \\int_j \\frac{\\left(x_{c_i}-x_j\\right)\\frac{\\partial x_{c_i}}{\\partial t_i} + \\left(y_{c_i}-y_j\\right)\\frac{\\partial y_{c_i}}{\\partial t_i}}{\\left(x_{c_i}-x_j\\right)^2 + \\left(x_{c_i}-x_j\\right)^2} {\\rm d}s_j \\\\\n",
      "&- \\sum_{j=1,j\\neq i}^N \\frac{\\gamma}{2\\pi} \\int_j \\frac{\\left(x_{c_i}-x_j\\right)\\frac{\\partial y_{c_i}}{\\partial t_i} - \\left(y_{c_i}-y_j\\right)\\frac{\\partial x_{c_i}}{\\partial t_i}}{\\left(x_{c_i}-x_j\\right)^2 + \\left(x_{c_i}-x_j\\right)^2} {\\rm d}s_j \\\\\n",
      "&-\\frac{\\gamma}{2}\n",
      "\\end{align*}\n",
      "$$\n",
      "\n",
      "where $\\frac{\\partial x_{c_i}}{\\partial t_i} = -\\sin \\beta_i$ and $\\frac{\\partial y_{c_i}}{\\partial t_i} = \\cos \\beta_i$."
     ]
    },
    {
     "cell_type": "heading",
     "level": 3,
     "metadata": {},
     "source": [
      "Building the linear system"
     ]
    },
    {
     "cell_type": "markdown",
     "metadata": {},
     "source": [
      "Here, we build and solve the linear system of equations of the form\n",
      "\n",
      "$$[A][\\sigma,\\gamma] = [b]$$\n",
      "\n",
      "where the $N+1 \\times N+1$ matrix $[A]$ contains three blocks: an $N \\times N$ source matrix (the same one of Lesson 10), an $N \\times 1$ vortex array to store the weight of the variable $\\gamma$ at each panel, and a $1 \\times N+1$ Kutta array that repesents our Kutta-condition."
     ]
    },
    {
     "cell_type": "markdown",
     "metadata": {},
     "source": [
      "We are going to re-use the function `integral()` from Lesson 10 to compute the different integrals with the NumPy function `integrate.quad()`:"
     ]
    },
    {
     "cell_type": "code",
     "collapsed": false,
     "input": [
      "def integral(x, y, panel, dxdz, dydz):\n",
      "    \"\"\"Evaluates the contribution of a panel at one point.\n",
      "    \n",
      "    Arguments\n",
      "    ---------\n",
      "    x, y -- Cartesian coordinates of the point.\n",
      "    panel -- panel which contribution is evaluated.\n",
      "    dxdz -- derivative of x in the z-direction.\n",
      "    dydz -- derivative of y in the z-direction.\n",
      "    \n",
      "    Returns\n",
      "    -------\n",
      "    Integral over the panel of the influence at one point.\n",
      "    \"\"\"\n",
      "    def func(s):\n",
      "        return ( ((x - (panel.xa - math.sin(panel.beta)*s))*dxdz \n",
      "                  + (y - (panel.ya + math.cos(panel.beta)*s))*dydz)\n",
      "                / ((x - (panel.xa - math.sin(panel.beta)*s))**2 \n",
      "                   + (y - (panel.ya + math.cos(panel.beta)*s))**2) )\n",
      "    return integrate.quad(lambda s:func(s), 0., panel.length)[0]"
     ],
     "language": "python",
     "metadata": {},
     "outputs": [],
     "prompt_number": 8
    },
    {
     "cell_type": "markdown",
     "metadata": {},
     "source": [
      "We first build the source matrix:"
     ]
    },
    {
     "cell_type": "code",
     "collapsed": false,
     "input": [
      "def source_matrix(panels):\n",
      "    \"\"\"Builds the source matrix.\n",
      "    \n",
      "    Arguments\n",
      "    ---------\n",
      "    panels -- array of panels.\n",
      "    \n",
      "    Returns\n",
      "    -------\n",
      "    A -- NxN matrix (N is the number of panels).\n",
      "    \"\"\"\n",
      "    A = numpy.empty((panels.size, panels.size), dtype=float)\n",
      "    numpy.fill_diagonal(A, 0.5)\n",
      "    \n",
      "    for i, p_i in enumerate(panels):\n",
      "        for j, p_j in enumerate(panels):\n",
      "            if i != j:\n",
      "                A[i,j] = 0.5/math.pi*integral(p_i.xc, p_i.yc, \n",
      "                                              p_j, \n",
      "                                              math.cos(p_i.beta), math.sin(p_i.beta))\n",
      "    \n",
      "    return A"
     ],
     "language": "python",
     "metadata": {},
     "outputs": [],
     "prompt_number": 9
    },
    {
     "cell_type": "markdown",
     "metadata": {},
     "source": [
      "then the vortex array:"
     ]
    },
    {
     "cell_type": "code",
     "collapsed": false,
     "input": [
      "def vortex_array(panels):\n",
      "    \"\"\"Builds the vortex array.\n",
      "    \n",
      "    Arguments\n",
      "    ---------\n",
      "    panels - array of panels.\n",
      "    \n",
      "    Returns\n",
      "    -------\n",
      "    a -- 1D array (Nx1, N is the number of panels).\n",
      "    \"\"\"\n",
      "    a = numpy.zeros(panels.size, dtype=float)\n",
      "    \n",
      "    for i, p_i in enumerate(panels):\n",
      "        for j, p_j in enumerate(panels):\n",
      "            if i != j:\n",
      "                a[i] -= 0.5/math.pi*integral(p_i.xc, p_i.yc, \n",
      "                                             p_j, \n",
      "                                             math.sin(p_i.beta), -math.cos(p_i.beta))\n",
      "    return a"
     ],
     "language": "python",
     "metadata": {},
     "outputs": [],
     "prompt_number": 10
    },
    {
     "cell_type": "markdown",
     "metadata": {},
     "source": [
      "and finally the Kutta array:"
     ]
    },
    {
     "cell_type": "code",
     "collapsed": false,
     "input": [
      "def kutta_array(panels):\n",
      "    \"\"\"Builds the Kutta-condition array.\n",
      "    \n",
      "    Arguments\n",
      "    ---------\n",
      "    panels -- array of panels.\n",
      "    \n",
      "    Returns\n",
      "    -------\n",
      "    a -- 1D array (Nx1, N is the number of panels).\n",
      "    \"\"\"\n",
      "    N = panels.size\n",
      "    a = numpy.zeros(N+1, dtype=float)\n",
      "    # contribution from the source sheet of the first panel on the last one\n",
      "    a[0] = 0.5/math.pi*integral(panels[N-1].xc, panels[N-1].yc, panels[0], \n",
      "                           -math.sin(panels[N-1].beta), +math.cos(panels[N-1].beta))\n",
      "    # contribution from the source sheet of the last panel on the first one\n",
      "    a[N-1] = 0.5/math.pi*integral(panels[0].xc, panels[0].yc, panels[N-1], \n",
      "                             -math.sin(panels[0].beta), +math.cos(panels[0].beta))\n",
      "    # contribution from the vortex sheet of the first panel on the last one\n",
      "    a[N] -= 0.5/math.pi*integral(panels[-1].xc, panels[-1].yc, panels[0], \n",
      "                               +math.cos(panels[-1].beta), math.sin(panels[-1].beta))\n",
      "    # contribution from the vortex sheet of the last panel on the first one\n",
      "    a[N] -= 0.5/math.pi*integral(panels[0].xc, panels[0].yc, panels[-1], \n",
      "                               +math.cos(panels[0].beta), math.sin(panels[0].beta))\n",
      "    # contribution from the vortex sheet of the first panel on itself\n",
      "    a[N] -= 0.5\n",
      "    # contribution from the vortex sheet of the last panel on itself\n",
      "    a[N] -= 0.5\n",
      " \n",
      "    # contribution from the other panels on the first and last ones\n",
      "    for i, panel in enumerate(panels[1:-1]):\n",
      "        # contribution from the source sheet\n",
      "        a[i+1] = 0.5/math.pi*(integral(panels[0].xc, panels[0].yc, panel, \n",
      "                               -math.sin(panels[0].beta), +math.cos(panels[0].beta))\n",
      "                     + integral(panels[N-1].xc, panels[N-1].yc, panel, \n",
      "                               -math.sin(panels[N-1].beta), +math.cos(panels[N-1].beta)) )\n",
      "\n",
      "        # contribution from the vortex sheet\n",
      "        a[N] -= 0.5/math.pi*(integral(panels[0].xc, panels[0].yc, panel, \n",
      "                               +math.cos(panels[0].beta), math.sin(panels[0].beta))\n",
      "                             + integral(panels[-1].xc, panels[-1].yc, panel, \n",
      "                               +math.cos(panels[-1].beta), math.sin(panels[-1].beta)) )\n",
      "        \n",
      "    return a"
     ],
     "language": "python",
     "metadata": {},
     "outputs": [],
     "prompt_number": 11
    },
    {
     "cell_type": "markdown",
     "metadata": {},
     "source": [
      "Now that the three blocks have be defined, we can assemble the matrix $[A]$:"
     ]
    },
    {
     "cell_type": "code",
     "collapsed": false,
     "input": [
      "def build_matrix(panels):\n",
      "    \"\"\"Builds the matrix of the linear system.\n",
      "    \n",
      "    Arguments\n",
      "    ---------\n",
      "    panels -- array of panels.\n",
      "    \n",
      "    Returns\n",
      "    -------\n",
      "    A -- (N+1)x(N+1) matrix (N is the number of panels).\n",
      "    \"\"\"\n",
      "    N = len(panels)\n",
      "    A = numpy.empty((N+1, N+1), dtype=float)\n",
      "    \n",
      "    AS = source_matrix(panels)\n",
      "    av = vortex_array(panels)\n",
      "    ak = kutta_array(panels)\n",
      "    \n",
      "    A[0:N,0:N], A[0:N,N], A[N,:] = AS[:,:], av[:], ak[:]\n",
      "    \n",
      "    return A"
     ],
     "language": "python",
     "metadata": {},
     "outputs": [],
     "prompt_number": 12
    },
    {
     "cell_type": "markdown",
     "metadata": {},
     "source": [
      "On the right hand-side, we store the free-stream conditions that do not depend on the unknowns strengths:"
     ]
    },
    {
     "cell_type": "code",
     "collapsed": false,
     "input": [
      "def build_rhs(panels, freestream):\n",
      "    \"\"\"Builds the RHS of the linear system.\n",
      "    \n",
      "    Arguments\n",
      "    ---------\n",
      "    panels -- array of panels.\n",
      "    freestream -- farfield conditions.\n",
      "    \n",
      "    Returns\n",
      "    -------\n",
      "    b -- 1D array ((N+1)x1, N is the number of panels).\n",
      "    \"\"\"\n",
      "    N = len(panels)\n",
      "    b = numpy.empty(N+1,dtype=float)\n",
      "    \n",
      "    for i, panel in enumerate(panels):\n",
      "        b[i] = - freestream.u_inf * math.cos(freestream.alpha - panel.beta)\n",
      "    b[N] = -freestream.u_inf*( math.sin(freestream.alpha-panels[0].beta)\n",
      "                              +math.sin(freestream.alpha-panels[N-1].beta) )\n",
      "    \n",
      "    return b"
     ],
     "language": "python",
     "metadata": {},
     "outputs": [],
     "prompt_number": 13
    },
    {
     "cell_type": "markdown",
     "metadata": {},
     "source": [
      "All in all, the system has been defined with the functions `source_matrix()`, `vortex_array()`, `kutta_array()` and `build_rhs()`, which we have to call to build the complete system:"
     ]
    },
    {
     "cell_type": "code",
     "collapsed": false,
     "input": [
      "A = build_matrix(panels)                  # calculates the singularity matrix\n",
      "b = build_rhs(panels, freestream)         # calculates the freestream RHS"
     ],
     "language": "python",
     "metadata": {},
     "outputs": [],
     "prompt_number": 14
    },
    {
     "cell_type": "markdown",
     "metadata": {},
     "source": [
      "The linear system is then solved using the NumPy function `linalg.solve()`and we store the results in the attribute `sigma` of each object. We also create a variable `gamma` to store the value of the constant vortex strength. "
     ]
    },
    {
     "cell_type": "code",
     "collapsed": false,
     "input": [
      "# solves the linear system\n",
      "variables = numpy.linalg.solve(A, b)\n",
      "\n",
      "for i, panel in enumerate(panels):\n",
      "    panel.sigma = variables[i]\n",
      "gamma = variables[-1]"
     ],
     "language": "python",
     "metadata": {},
     "outputs": [],
     "prompt_number": 15
    },
    {
     "cell_type": "heading",
     "level": 3,
     "metadata": {},
     "source": [
      "Surface pressure coefficient"
     ]
    },
    {
     "cell_type": "markdown",
     "metadata": {},
     "source": [
      "The pressure coefficient at the $i$-th panel center is:\n",
      "\n",
      "$$C_{p_i} = 1 - \\left(\\frac{V_{t_i}}{U_\\infty}\\right)^2$$\n",
      "\n",
      "So, we have to compute the tangential velocity at each panel center using the function `get_tangential_velocity()`:"
     ]
    },
    {
     "cell_type": "code",
     "collapsed": false,
     "input": [
      "def get_tangential_velocity(panels, freestream, gamma):\n",
      "    \"\"\"Computes the tangential velocity on the surface.\n",
      "    \n",
      "    Arguments\n",
      "    ---------\n",
      "    panels -- array of panels.\n",
      "    freestream -- farfield conditions.\n",
      "    gamma -- circulation density.\n",
      "    \"\"\"\n",
      "    N = len(panels)\n",
      "    A = numpy.empty((N, N+1), dtype=float)\n",
      "    numpy.fill_diagonal(A, 0.0)\n",
      "    \n",
      "    for i, p_i in enumerate(panels):\n",
      "        # contribution from vortex on itself\n",
      "        A[i, N] = -0.5\n",
      "        for j, p_j in enumerate(panels):\n",
      "            if i != j:\n",
      "                # contribution from the sources\n",
      "                A[i,j] = 0.5/math.pi*integral(p_i.xc, p_i.yc, \n",
      "                                              p_j, \n",
      "                                              -math.sin(p_i.beta), math.cos(p_i.beta))\n",
      "                # contribution the vortices\n",
      "                A[i,N] -= 0.5/math.pi*integral(p_i.xc, p_i.yc, \n",
      "                                               p_j, \n",
      "                                               math.cos(p_i.beta), math.sin(p_i.beta))\n",
      "\n",
      "    b = freestream.u_inf * numpy.sin([freestream.alpha - panel.beta for panel in panels])\n",
      "    \n",
      "    var = numpy.append([panel.sigma for panel in panels], gamma)\n",
      "    \n",
      "    vt = numpy.dot(A, var) + b\n",
      "    for i, panel in enumerate(panels):\n",
      "        panel.vt = vt[i]"
     ],
     "language": "python",
     "metadata": {},
     "outputs": [],
     "prompt_number": 16
    },
    {
     "cell_type": "code",
     "collapsed": false,
     "input": [
      "# computes the tangential velocity at each panel center.\n",
      "get_tangential_velocity(panels, freestream, gamma)"
     ],
     "language": "python",
     "metadata": {},
     "outputs": [],
     "prompt_number": 17
    },
    {
     "cell_type": "markdown",
     "metadata": {},
     "source": [
      "And we define a function `get_pressure_coefficient()` to compute the surface pressure coefficient:"
     ]
    },
    {
     "cell_type": "code",
     "collapsed": false,
     "input": [
      "def get_pressure_coefficient(panels, freestream):\n",
      "    \"\"\"Computes the surface pressure coefficients.\n",
      "    \n",
      "    Arguments\n",
      "    ---------\n",
      "    panels -- array of panels.\n",
      "    freestream -- farfield conditions.\n",
      "    \"\"\"\n",
      "    for panel in panels:\n",
      "        panel.cp = 1.0 - (panel.vt/freestream.u_inf)**2"
     ],
     "language": "python",
     "metadata": {},
     "outputs": [],
     "prompt_number": 18
    },
    {
     "cell_type": "code",
     "collapsed": false,
     "input": [
      "# computes surface pressure coefficient\n",
      "get_pressure_coefficient(panels, freestream)"
     ],
     "language": "python",
     "metadata": {},
     "outputs": [],
     "prompt_number": 19
    },
    {
     "cell_type": "markdown",
     "metadata": {},
     "source": [
      "Time to plot the result!"
     ]
    },
    {
     "cell_type": "code",
     "collapsed": false,
     "input": [
      "# plots the surface pressure coefficient\n",
      "val_x, val_y = 0.1, 0.2\n",
      "x_min, x_max = min( panel.xa for panel in panels ), max( panel.xa for panel in panels )\n",
      "cp_min, cp_max = min( panel.cp for panel in panels ), max( panel.cp for panel in panels )\n",
      "x_start, x_end = x_min-val_x*(x_max-x_min), x_max+val_x*(x_max-x_min)\n",
      "y_start, y_end = cp_min-val_y*(cp_max-cp_min), cp_max+val_y*(cp_max-cp_min)\n",
      "\n",
      "pyplot.figure(figsize=(10, 6))\n",
      "pyplot.grid(True)\n",
      "pyplot.xlabel('x', fontsize=16)\n",
      "pyplot.ylabel('$C_p$', fontsize=16)\n",
      "pyplot.plot([panel.xc for panel in panels if panel.loc == 'extrados'], \n",
      "         [panel.cp for panel in panels if panel.loc == 'extrados'], \n",
      "         color='r', linestyle='-', linewidth=2, marker='o', markersize=6)\n",
      "pyplot.plot([panel.xc for panel in panels if panel.loc == 'intrados'], \n",
      "         [panel.cp for panel in panels if panel.loc == 'intrados'], \n",
      "         color='b', linestyle='-', linewidth=1, marker='o', markersize=6)\n",
      "pyplot.legend(['extrados', 'intrados'], loc='best', prop={'size':14})\n",
      "pyplot.xlim(x_start, x_end)\n",
      "pyplot.ylim(y_start, y_end)\n",
      "pyplot.gca().invert_yaxis()\n",
      "pyplot.title('Number of panels : %d' % N);"
     ],
     "language": "python",
     "metadata": {},
     "outputs": [
      {
       "metadata": {},
       "output_type": "display_data",
       "png": "iVBORw0KGgoAAAANSUhEUgAAAnAAAAGOCAYAAAAXYz5XAAAABHNCSVQICAgIfAhkiAAAAAlwSFlz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\n",
       "text": [
        "<matplotlib.figure.Figure at 0x10a14bbd0>"
       ]
      }
     ],
     "prompt_number": 20
    },
    {
     "cell_type": "heading",
     "level": 5,
     "metadata": {},
     "source": [
      "Accuracy check"
     ]
    },
    {
     "cell_type": "markdown",
     "metadata": {},
     "source": [
      "For a closed body, the sum of all the source strengths must be zero. If not, it means the body would be adding or absorbing mass from the flow! Therfore, we should have\n",
      "\n",
      "$$\\sum_{i=1}^{N} \\sigma_i l_i = 0$$\n",
      "\n",
      "where $l_i$ is the length of the $i^{\\text{th}}$ panel.\n",
      "\n",
      "With this, we can get a measure of the accuracy of the source panel method."
     ]
    },
    {
     "cell_type": "code",
     "collapsed": false,
     "input": [
      "# calculates the accuracy\n",
      "accuracy = sum([panel.sigma*panel.length for panel in panels])\n",
      "print '--> sum of source/sink strengths:', accuracy"
     ],
     "language": "python",
     "metadata": {},
     "outputs": [
      {
       "output_type": "stream",
       "stream": "stdout",
       "text": [
        "--> sum of source/sink strengths: 0.00460578431939\n"
       ]
      }
     ],
     "prompt_number": 21
    },
    {
     "cell_type": "heading",
     "level": 3,
     "metadata": {},
     "source": [
      "Lift coefficient"
     ]
    },
    {
     "cell_type": "markdown",
     "metadata": {},
     "source": [
      "The lift  is given by the Kutta-Joukowski theorem, $L = \\rho \\Gamma U_\\infty$, \n",
      "where $\\rho$ is the fluid density. The total circulation $\\Gamma$ is given by:\n",
      "\n",
      "$$\\Gamma = \\sum_{i=1}^N \\gamma l_i$$\n",
      "\n",
      "Finally, the lift coefficient is given by:\n",
      "\n",
      "$$C_l = \\frac{\\sum_{i=1}^N \\gamma l_i}{\\frac{1}{2}U_\\infty c}$$\n",
      "\n",
      " with $c$ the chord-length of the airoil"
     ]
    },
    {
     "cell_type": "code",
     "collapsed": false,
     "input": [
      "# calculates of the lift\n",
      "cl = gamma*sum(panel.length for panel in panels)/(0.5*freestream.u_inf*(x_max-x_min))\n",
      "print '--> Lift coefficient: Cl = %.3f' % cl"
     ],
     "language": "python",
     "metadata": {},
     "outputs": [
      {
       "output_type": "stream",
       "stream": "stdout",
       "text": [
        "--> Lift coefficient: Cl = 0.506\n"
       ]
      }
     ],
     "prompt_number": 22
    },
    {
     "cell_type": "heading",
     "level": 5,
     "metadata": {},
     "source": [
      "Challenge task"
     ]
    },
    {
     "cell_type": "markdown",
     "metadata": {},
     "source": [
      "Based on what has been done in the previous notebook, compute and plot the streamlines and the pressure coefficient on a Cartesian grid."
>>>>>>> upstream/master
     ]
    }
   ],
   "source": [
    "# computes surface pressure coefficient\n",
    "get_pressure_coefficient(panels, freestream)"
   ]
  },
  {
   "cell_type": "markdown",
   "metadata": {},
   "source": [
    "Time to plot the result!"
   ]
  },
  {
   "cell_type": "code",
   "execution_count": 27,
   "metadata": {
    "collapsed": false
   },
   "outputs": [
    {
     "data": {
      "image/png": [
       "iVBORw0KGgoAAAANSUhEUgAAAoQAAAGOCAYAAAAOxBK0AAAABHNCSVQICAgIfAhkiAAAAAlwSFlz\n",
       "AAALEgAACxIB0t1+/AAAIABJREFUeJzt3XuYJGV99vH7loOKYJCg4C7oGgEBUcEDEk3MikiWTSJq\n",
       "YgxRo6hoJICHmBdQ41mCiTEqKBJiXEwUwhWNkshBYthX4isQDWAQVljIylFUDnJwkcP+3j+qBnub\n",
       "ntma2ZlfVz/P93Nde+1WdVV3zc3DzD1VT1c7IgQAAIB6PWTcBwAAAIDxohACAABUjkIIAABQOQoh\n",
       "AABA5SiEAAAAlaMQAgAAVI5CCKBatlfY/sAYX/+ztm+xff64jmGY7aW2rx33cQDIRSEE0Bu219i+\n",
       "yfYWA+teb/vcBXrJaP+ks/3rkvaTtCgi9hnHMYyD7W1s/9j2eUPr97T9Hdt32f627aeN6xiBGlEI\n",
       "AfTNQyS9OfH1PC9PYs/2++njJa2JiLvn4/UnyIclXaaBIm57c0lfkfQ5SVtLOlnSV2xvNpYjBCpE\n",
       "IQTQJyHpI5LebvuXhh+0vcT2usHyZXul7de1/36N7W/a/qjtW22vtv0c2wfbvqY9+/hHQ0+7re2v\n",
       "2b69fa7HDTz3rrbPsX2z7VW2Xzbw2ArbJ9g+w/adkpaOON5Ftk9v97/S9uvb9a+TdJKkX7V9h+33\n",
       "jNh36ms5zvZtti+3ve/A4wfbvqw97qtsv2HgsaW2r7P9tvZrvsH2awYef6jtj9j+ge0ftl/Hw0b9\n",
       "B7F9ZPtct7cZ7Dtquy5sP0fSkyV9VusX8aWSNomIj0fEvRFxXPv4nF8LwOxQCAH0zbclrZT09o7b\n",
       "D1/23VvSJZK2kXSKpNMkPV3SEyW9UtLxA5ekLekVkt4vaVtJF0v6vCTZfoSkcyT9o6RHS/oDSZ+y\n",
       "vdvAax0k6QMRsaWkb444tlMlXSPpsZJ+T9Ixtp8fEZ+R9MeSvhURW0XE+6b52vaWtFrSL0t6j6Qv\n",
       "2X5U+9hNkn4rIh4p6WBJf2N7r4F9t5P0SEmLJL1O0icHSvaxknaS9LT278WS3j384rafJOlPJD2z\n",
       "fZ39Ja0ZdaC2/9D2JdN8HbK9iaTj2ucb9mRJ3x1ad0m7HkACCiGAvgk15eRw29vOYf//jYiTo/mg\n",
       "9tPUFKL3t2eezpF0j5oSNOXfIuI/I+IeSe9Uc9ZuB0m/PfBc6yLiYklfkvSygX2/HBHfkqSI+Png\n",
       "QdjeUdJzJB0ZEfdExCWS/k7S1BnKLpeqf9SeNbs/Ik6T9H1Jv9W+3hkR8b/tv78h6WuSfn1g33vb\n",
       "r/v+iDhT0p2SnmTbkg6R9LaIuC0i7pT0F2oK77D7JT1U0pNtbxYR10TE1aMONCK+EBEzzfs7QtL5\n",
       "EXHRiMe2lPTToXW3S9pqhucDMI82HfcBAMCwiPie7X+TdJSky2e5+00D/17bPt+Ph9ZtOfVSkq4b\n",
       "eN27bN+ipkQ+XtKzbd86sO+maua5PWjfERZJuiUi7hpYd42kZ3b/UnT90PIP1JxtlO0D1Jw13FnN\n",
       "L/dbaP2zbDdHxLqB5Z+p+bof3W77naYbSmrK6YNOEETEattvkfReNaXwbDVF8sZZfA2yvUjS4ZKe\n",
       "Mc0md6g5mznol9SUQgAJOEMIoK/eo+ZM1uKBdVPlaouBddtvxGtY0o4PLNhbqrnUfL2a8vZ/I+JR\n",
       "A3+2iohRlzxHuUHSNu1zTnmcZi6RwxYPLT9e0g22Hyrpi5L+UtJjIuJRks5Qt7OOP1FTincf+Lq2\n",
       "bi8JP0hEnBIRv96+dqh5U8hs7a2myF5m+0ZJH5O0dzu30WreZPLUoX2eKul7c3gtAHNAIQTQSxFx\n",
       "laR/0sA7jtszfddLepXtTWy/Vs3cwI2x3PZz23e6fkDNvL7rJX1V0i62X2l7s/bPs2zv2u43Y/mK\n",
       "iGsl/T9Jf9G+ieOpkl6rZk5iV4+xfUT72i+TtKua4rd5++cnkta1Zwv37/KE7VnDkyR9zPajJcn2\n",
       "YtsP2t/2Lrb3bQvozyXdreYy8mydoaZQPq39825JF0nas720f66k+9uv9aG2j5C0TtJ/zOG1AMwB\n",
       "hRBAn71fzdnAwTeNHCLpz9SUod21/ps5Rt1XcKb7DIaaN5G8R9LNkvZS88YTRcQdakrWH6gpoTeq\n",
       "mWu3+QyvNewgSUvUnC38kqR3R8RUyemy/wVqLgn/WE1Z/d2IuLU9tiPUzJG8pX2dr4z42qZzpJo3\n",
       "q5xv+6dq3jyzy4h9H6rma/6xmq9/W0lHj3pC26+wfemox9o5lD+a+qNmvuA97b8VEfdKerGa+ZW3\n",
       "tn+/OCLum+FrADCP3Pxy1l+2t1FzluDxat7d9vsRcduI7ZapuQyxiaS/i4gPz7R/u/6LaubzrIiI\n",
       "wwee6xmSVkh6mKQzIiLznmgAoPY2Ma9rL9cCwIKahDOER0k6JyJ2kfT1dnk97e0Mjpe0TM0Zg4MG\n",
       "bg0x3f53S3qXRt/a4gQ134h3lrRzWzYBAACKNAmF8EVq7lqv9u8Xj9hmb0mrI2JNe+nhVEkHzrR/\n",
       "RPwsIr6pZl7MA2w/VtJWEXFhu+pz07wmACyksX2sHoD6TEIh3C4ipm4jcZOam60OWyxp8MPYr9Mv\n",
       "3p23of2Hv+Eu1vrvArxeD36nHwAsqPb+h88b93EAqEMv7kNo+xyNvnXEOwcXIiJsj/qNeXidR6yb\n",
       "aX8AAIBq9aIQRsQLp3us/RzO7SPih+3l3B+N2Ox6DdxLTNIO+sUNXbvsP/xcO0zzXMPHRrkEAAAT\n",
       "IyJG3jKrF4VwA06X9Go1N0N9taQvj9jm22re/LFEze0dXq7mNgxd9l8vmIi4sf0Q92dLulDSqyR9\n",
       "YrqDmy7YPrP93oh47/D6D/pdl1+nHXb9tN60v5qP+MI8mS5zLBwyz0fm+VIzt98h6UOSjlXE0c0q\n",
       "/YGkl0To5SnHMBfNZ5ffJWmtIrbY0OYbfrrJHecznciahDmEx0p6oe0rJO3bLsv2IttflaT2XlWH\n",
       "STpbzR3v/ykiLp9p//Y51kj6a0mvsX3twA1nD1XzmaNXqnmzylkL+yWmWzLuA6jQknEfQIWWjPsA\n",
       "KrRk3AdQoSWJrzVVJjy0buJOjGykJeM+gIXQ+zOEEXGLpP1GrL9B7Ye8t8tnSjqz6/7tY0umWf8d\n",
       "SU+Z2xEDAFAkCmHBJuEMIebfinEfQIVWjPsAKrRi3AdQoRXjPoAKrUh8LQphY8W4D2AhUAgrFBEr\n",
       "x30MtSHzfGSej8zzJWdOIVS545xCWCHbS8d9DLUh83xkno/M8yVnTiFUueOcQggAALqY7j7AVRXC\n",
       "UlEIK1Tq6e4+I/N8ZJ6PzPONKfOqzxCWOs4phAAAoAsuGReMQlihUuc/9BmZ5yPzfGSejzmE+Uod\n",
       "5xRCAADQBYWwYBTCCpU6/6HPyDwfmecj83w9ue1MVUod5xRCAADQxahCOGoZE4hCWKFS5z/0GZnn\n",
       "I/N8ZJ6POYT5Sh3nFEIAANAF9yEsGIWwQqXOf+gzMs9H5vnIPB/3IcxX6jinEAIAgC64ZFwwCmGF\n",
       "Sp3/0Gdkno/M85F5PuYQ5it1nFMIAQBAFxTCglEIK1Tq/Ic+I/N8ZJ6PzPP15D6EVRXCUsc5hRAA\n",
       "AHRBISwYhbBCpc5/6DMyz0fm+cg8H3MI85U6zimEAACgC+5DWDAKYYVKnf/QZ2Sej8zzkXm+ntyH\n",
       "sCqljnMKIQAA6ILPMi4YhbBCpc5/6DMyz0fm+cg8H3MI85U6zimEAACgCwphwSiEFSp1/kOfkXk+\n",
       "Ms9H5vm4D2G+Usc5hRAAAHRBISwYhbBCpc5/6DMyz0fm+cg8H3MI85U6zimEAACgC+5DWDAKYYVK\n",
       "nf/QZ2Sej8zzkXm+ntyHsKpCWOo4pxACAIAuuGRcMAphhUqd/9BnZJ6PzPOReT7mEOYrdZxTCAEA\n",
       "QBcUwoJRCCtU6vyHPiPzfGSej8zzcR/CfKWOcwohAADoYrpCiAJQCCtU6vyHPiPzfGSej8zzjWkO\n",
       "4YMOI/EYxq7UcU4hBAAAs1H1JeNSUQgrVOr8hz4j83xkno/M8zGHMF+p45xCCAAAuqAQFoxCWKFS\n",
       "5z/0GZnnI/N8ZJ6P+xDmK3WcUwgBAEAXFMKCUQgrVOr8hz4j83xkno/M8zGHMF+p45xCCAAAuqAQ\n",
       "FoxCWKFS5z/0GZnnI/N8ZJ6vB/chrK4QljrOKYQAAGA2OENYIAphhUqd/9BnZJ6PzPOReT7mEOYr\n",
       "dZxTCAEAQBd8lnHBKIQVKnX+Q5+ReT4yz0fm+XpwH8JRy0UrdZxTCAEAQBdcMi4YhbBCpc5/6DMy\n",
       "z0fm+cg8H3MI85U6zimEAACgCwphwSiEFSp1/kOfkXk+Ms9H5vm4D2G+Usc5hRAAAMwGZwgLRCGs\n",
       "UKnzH/qMzPOReT4yz8ccwnyljnMKIQAA6IJCWDAKYYVKnf/QZ2Sej8zzkXm+HtyHsLpCWOo4pxAC\n",
       "AIAuKIQFoxBWqNT5D31G5vnIPB+Z52MOYb5SxzmFEAAAdEEhLBiFsEKlzn/oMzLPR+b5yDxfT+5D\n",
       "WJVSxzmFEAAAzMbwGUHOEBaAQlihUuc/9BmZ5yPzfGSejzmE+Uod5xRCAADQBYWwYBTCCpU6/6HP\n",
       "yDwfmecj83zchzBfqeOcQggAALqgEBaMQlihUuc/9BmZ5yPzfGSejzmE+Uod5xRCAADQBYWwYBTC\n",
       "CpU6/6HPyDwfmecj83w9uQ9hVYWw1HFOIQQAALPBGcICUQgrVOr8hz4j83xkno/M8zGHMF+p45xC\n",
       "CAAAuqAQFoxCWKFS5z/0GZnnI/N8ZJ6vJ/chrEqp45xCCAAAuhhVCEctYwJRCCtU6vyHPiPzfGSe\n",
       "j8zzMYcwX6njnEIIAAC64LYzBaMQVqjU+Q99Rub5yDwfmecbU+ZVnyEsdZz3vhDa3sb2ObavsP01\n",
       "21tPs90y26tsX2n7yC772z663X6V7f0H1q9s113U/tl2Yb9KAAB6j0vGBet9IZR0lKRzImIXSV9v\n",
       "l9djexNJx0taJml3SQfZ3m2m/W3vLunl7fbLJH3K9tSgDkl/GBF7tX9+smBf3RiUOv+hz8g8H5nn\n",
       "I/N8zCHMV+o4n4RC+CJJJ7f/PlnSi0dss7ek1RGxJiLulXSqpAM3sP+Bkk6JiHsjYo2k1ZKePfCc\n",
       "VQ1wAAA2gEJYsEkohNtFxE3tv2+StN2IbRZLunZg+bp23Uz7L2q3G9xn0cDyye3l4ndtzMH3Uanz\n",
       "H/qMzPOReT4yz9eT+xBWVQhLHeebjvsAJMn2OZK2H/HQOwcXIiJsT/cup/WecsS6mfYf9oqIuMH2\n",
       "lpK+aPtVEfEPHfabaK7v/qIAgO4ohAXrRSGMiBdO95jtm2xvHxE/tP1YST8asdn1knYcWN6hXSdJ\n",
       "0+0/7T4RcUP79522v6DmkvTIQmh7haQ17eJtki6eml8w9VvEpCxfoau2uFVrpfZ/+nEfT0nLEbGy\n",
       "T8dTw/LUur4cTy3LU/pyPCzP3/KrpJ0+J7WLU/+9478Gl/t0vIPLKyWtkx6yrx74Aub8fJP0/by1\n",
       "VNISbYAj+n1WyPZfSro5Ij5s+yhJW0fEUUPbbCrp+5JeIOkGSRdKOigiLp9ufzdvKpkqe4sl/buk\n",
       "ndRcRn9URPzE9maSTpH0tYj42xHHFhFRzG9GH/I7L79WO+76ab3phYr493EfDwCgR+w9JV0k6RJF\n",
       "7Nms0haSbo7Qw8d6bDOxt5B0l6S1ithi3IczTjP1lkmYQ3ispBfavkLSvu2ybC+y/VVJioj7JB0m\n",
       "6WxJl0n6p4i4fKb9I+IySae1258p6dBo2vHDJJ1l+xI1A/9aSSdlfKFZhn+Tx8Ij83xkno/M840p\n",
       "cz7LuEC9uGQ8k4i4RdJ+I9bfIOm3BpbPVFPsOu3fPnaMpGOG1t0l6Zkbd9QAABSHzzIu2CScIcQ8\n",
       "G5xjhRxkno/M85F5vuTMeVOJyh3nFEIAANAFhbBgFMIKlTr/oc/IPB+Z5yPzfMmZUwhV7jinEAIA\n",
       "gC4ohAWjEFao1PkPfUbm+cg8H5nnYw5hvlLHOYUQAAB0Md0nhVVVCEtFIaxQqfMf+ozM85F5PjLP\n",
       "15P7EFZVCEsd5xRCAADQxXSXjFEACmGFSp3/0Gdkno/M85F5vnHPIYxo1tn1nCUsdZxTCAEAQBfT\n",
       "fVLJdOswQSiEFSp1/kOfkXk+Ms9H5vl6cB/CqfXVFMJSxzmFEAAAdDFTIcSEoxBWqNT5D31G5vnI\n",
       "PB+Z5xv3HMIB1ZwhLHWcUwgBAEAX050JrOqScakohBUqdf5Dn5F5PjLPR+b5enAfQqmyQljqOKcQ\n",
       "AgCALnhTScEohBUqdf5Dn5F5PjLPR+b5ejKHsKpCWOo4pxACAIAuKIQFoxBWqNT5D31G5vnIPB+Z\n",
       "5+M+hPlKHecUQgAA0AWFsGAUwgqVOv+hz8g8H5nnI/N8zCHMV+o4pxACAIAuuA9hwSiEFSp1/kOf\n",
       "kXk+Ms9H5vm4D2G+Usc5hRAPWMdwAABMj88yLhgNoEIzzX8w/18viFLnnPQZmecj83w9mUM43boi\n",
       "lTrOKYQAAKAL3lRSMAphhUqd/9BnZJ6PzPOReT7uQ5iv1HFOIQQAAF1QCAtGIaxQqfMf+ozM85F5\n",
       "PjLPN6Y5hKPWV1MISx3nFEIAADAbnCEsEIWwQqXOf+gzMs9H5vnIPB9zCPOVOs4phAAAoAsKYcEo\n",
       "hBUqdf5Dn5F5PjLPR+b5enIfwqoKYanjnEIIAAC6oBAWjEJYoVLnP/QZmecj83xkno85hPlKHecU\n",
       "QgAA0AWFsGAUwgqVOv+hz8g8H5nnI/N8PboPYTVKHecUQgAAMBujzgZyhnDCUQgrVOr8hz4j83xk\n",
       "no/M8zGHMF+p45xCCAAAuqAQFoxCWKFS5z/0GZnnI/N8ZJ6P+xDmK3WcUwgBAEAXFMKCUQgrVOr8\n",
       "hz4j83xkno/M8zGHMF+p45xCCAAAuqAQFoxCWKFS5z/0GZnnI/N8ZJ6vR/chrKYQljrOKYQAAGA2\n",
       "OENYIAphhUqd/9BnZJ6PzPOReT7mEOYrdZxTCAEAQBcUwoJRCCtU6vyHPiPzfGSej8zz9eg+hNUo\n",
       "dZxTCAEAQBfTFcLp1mGCUAgrVOr8hz4j83xkno/M8zGHMF+p45xCCAAAuuC2MwWjEFao1PkPfUbm\n",
       "+cg8H5nnS808gkKocsc5hRAAAMyOPVgAqyqEpaIQVqjU+Q99Rub5yDwfmecbY+bVFsJSxzmFEAAA\n",
       "dDXqjSVVFcJSUQgrVOr8hz4j83xkno/M840h8+oLYanjnEIIAAC6qr4QlopCWKFS5z/0GZnnI/N8\n",
       "ZJ5vDJlXXwhLHecUQgAA0FX1hbBUFMIKlTr/oc/IPB+Z5yPzfGOcQ7ihdcUqdZxTCAEAwGwNnxHk\n",
       "DOGEoxBWqNT5D31G5vnIPB+Z52MOYb5SxzmFEAAAdFV9ISwVhbBCpc5/6DMyz0fm+cg8H/chzFfq\n",
       "OKcQAgCArqovhKWiEFao1PkPfUbm+cg8H5nnYw5hvlLHOYUQAAB0Nd1tZ6ophKWiEFao1PkPfUbm\n",
       "+cg8H5nnG2Pm1Z4hLHWcUwgBAEBX1V8yLhWFsEKlzn/oMzLPR+b5yDwfcwjzlTrOKYQAAKCr6gth\n",
       "qTadryeyvZ2k35N0s6SvRMTa+XpuzK9S5z/0GZnnI/N8ZJ6P+xDmK3Wcz+cZwj+TdL+k50laaXuP\n",
       "eXxuAAAwftMVQky4+SyE50TEpyPiUEm/Ieml8/jcmEelzn/oMzLPR+b5yDxfT+YQjlouVqnjfD4L\n",
       "4dNsH237GZJ+LumyeXxu2V5me5XtK20fOc02n2gfv8T2Xhva1/Y2ts+xfYXtr9neeuCxo9vtV9ne\n",
       "fz6/FgAAJhT3ISzUBguh7Yd3fK77Jf1A0h9LukTSUbYPs/3RjTi+qWPYRNLxkpZJ2l3SQbZ3G9pm\n",
       "uaSdImJnSW+QdEKHfY9Sc2ZzF0lfb5dle3dJL2+3XybpU7aLeQNOqfMf+ozM85F5PjLPx30I85U6\n",
       "zruUnONtn2v7KNtPtz3df/SVkm6MiEMi4qmSflfSnZKeOw/Hubek1RGxJiLulXSqpAOHtnmRpJMl\n",
       "KSIukLS17e03sO8D+7R/v7j994GSTomIeyNijaTV7fMAAFCz6t9UUqouhfBQSb8kaXtJ+0p6kiTZ\n",
       "3tz2o6c2iojvRMS5A8s/iIgVkl41D8e5WNK1A8vXteu6bLNohn23i4ib2n/fJGm79t+L2u1mer2J\n",
       "Ver8hz4j83xkno/M8/VkDmFVhbDUcd7ltjNvk3RgRFw7tH6dpN+x/UhJn4iIdaN2jogrNvIYpe7v\n",
       "YOoyID3q+SIibM/0OiMfs71C0pp28TZJF0+dTp4aNH1bHjj29R6/UqsfcZvunPZxllmepGVJe9ru\n",
       "zfFUsrynmqtFfTme4penpL1++7NwH+m5F9i3tI+H9JY97Y/HuPOYbnmlpHXSQ/bNzqsf42OppCXa\n",
       "AEfM3LVsHxsRR83w+HaSXh8RH9rQi82V7X0kvTcilrXLR0taFxEfHtjm05JWRsSp7fIqNe92fsJ0\n",
       "+7bbLI2IH9p+rKRzI2JX20dJUkQc2+5zlqT3RHMpevC4IiKK+a3og37Xquu1+Ekn6ND9FPH1cR8P\n",
       "AKBn7B+quZq2SBE3Nqv0H5I+FKF+/tywt5B0l6S1ithi3IczTjP1li6XjLea6cFoLrmebnshbzPz\n",
       "bUk7215ie3M1b/g4fWib0yX9kfRAgbytPbaZ9j1d0qvbf79a0pcH1v+Bm8viT5C0s6QLF+ZLAwBg\n",
       "YlR/ybhUXQrhoza0QUT8j6Qnb/zhTPv890k6TNLZam5n808RcbntN9p+Y7vNGZKutr1a0olq5j5O\n",
       "u2/71MdKeqHtK9TMjzy23ecySae1258p6dDY0KnUCTJ8qQELj8zzkXk+Ms83hsyrL4SljvMucwgv\n",
       "tf27EfHFDWz3sPk4oOlExJlqytnguhOHlg/rum+7/hZJ+02zzzGSjpnr8QIAUCDuQ1ioLoXwk5Iu\n",
       "sP39iLh0hu22nadjwgIbmHSPJGSej8zzkXm+MWZe7RnCUsf5Bi8ZR8RP1XxO8Tdsv9Z+8H0I23l2\n",
       "FEIAAMrGZxkXqtOnb0TEv0p6s5pP/1ht+y9sv9T2frbfKuk8SR9fwOPEPCp1/kOfkXk+Ms9H5vl6\n",
       "Modw1HKxSh3nXS4ZS5Ii4h9sf0fNGy/+dGDfGyUdHhHfWIDjAwAA/VH9m0pK1bkQSg+8+/ZFtreW\n",
       "tJOkuyWtat/JiwlR6vyHPiPzfGSej8zzjSHz6gthqeN8VoVwSkTcpub+fgAAoB7VF8JSdZpDiLKU\n",
       "Ov+hz8g8H5nnI/N8PZlDWFUhLHWcUwgBAEBX3IewUBTCCpU6/6HPyDwfmecj83zchzBfqeOcQggA\n",
       "ALqq/pJxqSiEFSp1/kOfkXk+Ms9H5vmYQ5iv1HFOIQQAAF1VXwhLRSGsUKnzH/qMzPOReT4yz8d9\n",
       "CPOVOs4phAAAoKvqC2GpKIQVKnX+Q5+ReT4yz0fm+cY4h3BD64pV6jinEAIAgNkaPiPIGcIJRyGs\n",
       "UKnzH/qMzPOReT4yz8ccwnyljnMKIQAA6Kr6QlgqCmGFSp3/0Gdkno/M85F5Pu5DmK/UcU4hBAAA\n",
       "XVVfCEtFIaxQqfMf+ozM85F5PjLPxxzCfKWOcwohAADoqvpCWCoKYYVKnf/QZ2Sej8zzkXm+Ht2H\n",
       "sJpCWOo4pxACAIDZ4gxhYSiEFSp1/kOfkXk+Ms9H5vmYQ5iv1HFOIQQAAF1VXwhLRSGsUKnzH/qM\n",
       "zPOReT4yz9ej+xBWo9RxTiEEAABdjSqEo5YxYSiEFSp1/kOfkXk+Ms9H5vmYQ5iv1HFOIQQAAF1V\n",
       "XwhLRSGsUKnzH/qMzPOReT4yz8d9CPOVOs4phAAAYLY4Q1gYCmGFSp3/0Gdkno/M85F5PuYQ5it1\n",
       "nFMIAQBAV9UXwlJRCCtU6vyHPiPzfGSej8zz9eg+hNUUwlLHOYUQAAB0VX0hLBWFsEKlzn/oMzLP\n",
       "R+b5yDwfcwjzlTrOKYQAAKCr6gthqSiEFSp1/kOfkXk+Ms9H5vl6dB/CapQ6zimEAABgtvgs48JQ\n",
       "CCtU6vyHPiPzfGSej8zzMYcwX6njnEIIAAC6qr4QlopCWKFS5z/0GZnnI/N8ZJ6P+xDmK3WcUwgB\n",
       "AEBX1RfCUlEIK1Tq/Ic+I/N8ZJ6PzPMxhzBfqeOcQggAALqqvhCWikJYoVLnP/QZmecj83xknq9H\n",
       "9yGsphCWOs4phAAAYLY4Q1gYCmGFSp3/0Gdkno/M85F5PuYQ5it1nFMIAQBAV9UXwlJRCCtU6vyH\n",
       "PiPzfGSej8zzcR/CfKWOcwohHhD1/P8MAJib6QohJhyFsEIzzX8w/18viFLnnPQZmecj83w9mUM4\n",
       "arlYpY5zCiEAAOiq+tvOlIpCWKFS5z/0GZnnI/N8ZJ5vjJkzh7AwFEIAANBV9W8qKRWFsEKlzn/o\n",
       "MzLPR+b5yDxfT+YQVlUISx3nFEIAANBV9YWwVBTCCpU6/6HPyDwfmecj83zchzBfqeOcQggAALqq\n",
       "vhCWikJYoVLnP/QZmecj83xkno85hPlKHecUQgAA0BX3ISwUhbBCpc5/6DMyz0fm+cg8H/chzFfq\n",
       "OKcQAgCArvgs40JRCCtU6vyHPiPzfGSej8zz9WQO4ajlYpU6zimEAACgq+rfVFIqCmGFSp3/0Gdk\n",
       "no/M85F5Pu5DmK/UcU4hBAAAXVVfCEtFIaxQqfMf+ozM85F5PjLP15M5hFUVwlLHOYUQAAB0xX0I\n",
       "C0UhrFCp8x/6jMzzkXk+Ms/HfQjzlTrOKYQAAKCr6i8Zl4pCWKFS5z/0GZnnI/N8ZJ6POYT5Sh3n\n",
       "FEIAANBV9YWwVBNTCG0vs73K9pW2j5xmm0+0j19ie68N7Wt7G9vn2L7C9tdsb92uX2J7re2L2j+f\n",
       "WvivME+p8x/6jMzzkXk+Ms/HfQjzlTrOJ6IQ2t5E0vGSlknaXdJBtncb2ma5pJ0iYmdJb5B0Qod9\n",
       "j5J0TkTsIunr7fKU1RGxV/vn0IX76gAAmBjVF8JSTUQhlLS3moK2JiLulXSqpAOHtnmRpJMlKSIu\n",
       "kLS17e03sO8D+7R/v3hhv4x+KHX+Q5+ReT4yz0fm+Xo0h7AapY7zSSmEiyVdO7B8XbuuyzaLZth3\n",
       "u4i4qf3AYwPZAAAVx0lEQVT3TZK2G9juCe3l4pW2f20jjx8AgBJMV/44QzjhJqUQdv3to8uA9Kjn\n",
       "i4gYWH+DpB0jYi9Jb5P0BdtbdTyG3it1/kOfkXk+Ms9H5vm4D2G+Usf5puM+gI6ul7TjwPKOas70\n",
       "zbTNDu02m41Yf33775tsbx8RP7T9WEk/kqSIuEfSPe2//9v2VZJ2lvTfwwdme4WkNe3ibZIunjqd\n",
       "PDVo+rY8cOzrPX6lrtrip7pj2sdZZnmSliXtabs3x1PJ8p6S+nQ8xS9PSXv99sTJsdKuR9tL28dD\n",
       "WrGjffDScecx3fJKSeukh+ybnVc/xsdSSUu0AY7o/6V/25tK+r6kF6g5e3ehpIMi4vKBbZZLOiwi\n",
       "ltveR9LHImKfmfa1/ZeSbo6ID9s+StLWEXGU7W0l3RoR99v+FUnfkLRHRNw2dFwREcX8VvQB//n3\n",
       "b9Rjd/mU/uQFiviPcR8PAKBn7M9Keo2k1yni75tVequkx0foLeM8tGnZW0i6S9JaRWwx7sMZp5l6\n",
       "y0ScIYyI+2wfJulsSZtI+kxb6N7YPn5iRJxhe7nt1Wr+wx88077tUx8r6TTbr1Nzlu/32/XPk/R+\n",
       "2/dKWifpjcNlEACACvEu40JNRCGUpIg4U9KZQ+tOHFo+rOu+7fpbJO03Yv2XJH1pY463z/yL0/xI\n",
       "Qub5yDwfmecbQ+bVF8JSx/mkvKkEAACMX/WFsFQUwgqV+JtN35F5PjLPR+b5xpB59YWw1HFOIQQA\n",
       "AF2NeidqVYWwVBTCCg3frgALj8zzkXk+Ms83xsyrPUNY6jinEAIAgK6qv2RcKgphhUqd/9BnZJ6P\n",
       "zPOReb4ezSGsRqnjnEIIAAC6GlUIRy1jwlAIK1Tq/Ic+I/N8ZJ6PzPONIfPqLxmXOs4phAAAoKvq\n",
       "C2GpKIQVKnX+Q5+ReT4yz0fm+cY4h3B4XTWFsNRxTiEEAACzxRnCwlAIK1Tq/Ic+I/N8ZJ6PzPMx\n",
       "hzBfqeOcQggAALqqvhCWikJYoVLnP/QZmecj83xknq9H9yGsphCWOs4phAAAoKvqC2GpKIQVKnX+\n",
       "Q5+ReT4yz0fm+ZhDmK/UcU4hBAAAXVVfCEtFIaxQqfMf+ozM85F5PjLP16P7EFaj1HFOIQQAALPF\n",
       "ZxkXhkJYoVLnP/QZmecj83xkno85hPlKHecUQgAA0FX1hbBUFMIKlTr/oc/IPB+Z5yPzfNyHMF+p\n",
       "45xCCAAAuqq+EJaKQlihUuc/9BmZ5yPzfGSejzmE+Uod5xRCAADQVfWFsFQUwgqVOv+hz8g8H5nn\n",
       "I/N8PboPYTWFsNRxTiEEAACzxRnCwmw67gNAPttLS/0Np6/IfP7ZrurTEUoSEZSHeTKG7y3VXzIu\n",
       "9fs5hRDAxJqpWJT6TbvPumROkZ941RfCUnHJuEL8kMxH5vnIPB+Z5+M+hPlKHecUQgAA0NV0hRAT\n",
       "jkJYoVLvodRnZJ6PzPOReb6e3Idw1HKxSh3nFEIAwANsP9P2OtuPG/exoJeqv2RcKgphhUqd/9Bn\n",
       "ZJ6vxMxtL2nL2tPHfSyjlJh533EfwnyljnMKIQBMnhl/+NrePOtAUC3OEBaGQlihUuc/9BmZ51ts\n",
       "H3mAfdbv2ysPsM/aw14+1+faw14+X88lSbb/j+3Vtn9m+7u2X9Gu/4ztS20/rF3exPZ5tk9vd726\n",
       "/fu/2jOF/9Fut8L2v9o+0vZ1kq5p17/S9n/Zvt32TbZPs71o6FiW2V5le63tb0jaZcTxvtT2/9i+\n",
       "2/Y1tt8x4vHvto/fbHul7cdsTEbopidzCKsqhKV+P+c+hACKs4e9fH/p8M9Ki6fWHSI9cQ9bl0ac\n",
       "Mdvn+lXp4ydJO23sc0mS7Q9JeqmkQyV9X9JzJJ1k+1ZJh0u6SNJHJB0m6Z2Snijpqe3ue0u6UNJv\n",
       "SrpE0j0DT/0bkm6TtL9+8cN5M0l/LmmVpEdL+rCkU9ptZXtHSV+WdKKkT0p6mqS/0cBlQdvPkHSa\n",
       "pA9I+nx7DCfavj0ijre9vaRTJR0p6XpJ35P07NnmgolRfSEsFYWwQqXOf+gzMs+1o3TEYBmUpJOk\n",
       "nf5c+qo8u59bL5b0waF1J0k7LW/K26wKoe1HSHqrpBdGxDfb1T+w/WxJfxIRZ7RnC79p+xZJR0n6\n",
       "nYj4Sbvt1N83R8SPhp5+raTXRsS9Uysi4rMDj6+xfaiky2wviogbJL1J0pqIeHO7zRW2d1FT/qa8\n",
       "TdLKiHhfu7za9s5qCuDxkhap+VnyxYi4pt3me7PJBXPHfQjzlfr9nEvGAIqzlfSwUes3mcNzTfdb\n",
       "85bSw+fwdLurObazbd8x9UfSH0v6FUmKiG9L+pCkd0k6MSLO7vjclw6WQUmy/XTbX7G9xvbtkv6r\n",
       "fWjqHcS7STp/6HmGl3eV9M2hdd+UtNj2lpIulvTvki61/c+2/9j2th2PGZOn+kJYKgphhUqd/9Bn\n",
       "ZJ7rDunuUesvlM5ShGfz5wJpZCG7szkjN1tT33N/W83l2ak/u6u51CvblvTrku7XwGXqDn42uNCe\n",
       "jTy7OVS9UtIzJS1rH55600nXH+TTbRMRsS4i9m+P/3ZJr5N0pe2nTrMP5hFzCPOV+v2cQgigONdK\n",
       "nzi4mc/2gNdLV10jHTeX5zpEWj0fzyXpMkk/l7QkIq4e+nNtu83bJO2pphTuY/vwgf2n5gx2Odm5\n",
       "q6RflvSOiPjPiLhC0nZD21yuB8/322fENs8dWvdrkq6NiLumVkTE+ZI+FxHPknSDpJd3OEZMnuoL\n",
       "YamYQ1ihUuc/9BmZ57o04ow97Dcslw7fUnr4ndLaa6Tj5vImkPa5NB/PFRF32P6IpI+0ZwLPk7Sl\n",
       "mhJ2v5o3jHxQ0kERcX475+8ztr8eEZdJ+pGaM5PLbF8jaW1E3D7Ny12jpnwebvtTai4Pf2Bom09L\n",
       "+lPbH5N0gqSnSHrj0DZ/reZdze9R84aUZ6kprUdLku19JO0n6SxJV9s+UNKOYh5hCu5DmK/U7+cU\n",
       "QgBFagvbrEvbQj9XRPy57ZskvV1NCbtdzTuLj5P0j5I+HxFfbrc9xfYBkj5ve++IuNf2EZLeLek9\n",
       "kr4haV81P5Bj6HV+bPvVko6R9Cdq3pX8VklnDmxzre2XSvqomiL4bTVvZPmHgW0usv0ySe+T9A5J\n",
       "P5T0FxHxyXaT29S8U/owSVurKaLvj4gvzEde6C0+y7gwFMIK2V5a6m84fUXm+fqceUQcr+YdusP+\n",
       "bcS2fzS0/BlJnxlad/A0r3OamlvGDNpkaJtRZfcLQ9v8i6R/meY1VklaLvU781KNIXM+y7jQcc4c\n",
       "QgAA0BVzCAtFIaxQib/Z9B2Z5yPzfGSej/sQ5it1nFMIAQBAV9UXwlJRCCtU6j2U+ozM85F5PjLP\n",
       "x30I85U6zimEAACgq+pvO1MqCmGFSp3/0Gdkno/M85F5vjFmXu0ZwlLHOYUQAAB0Vf0l41JRCCtU\n",
       "6vyHPiPzfGSej8zzMYcwX6njnEIIAAC6qr4QlopCWKFS5z/0GZnn62PmtlfY/tdxH8cg23e2H3G3\n",
       "0fqYeem4D2G+Usc5hRAA8hwu6RVdN7a9xvafLuDxSCM+BxmYQfWFsFQUwgqVOv+hz8g8Xx8zj4g7\n",
       "IuL22eyyoQ1sP8R2L76X9zHz0vVoDmE1Sh3nvfgmAgDzb9Gz7QPOsn9/ZfP3Hsvn+kz2Hsvn47kG\n",
       "LxnbXmn7k7aPsf1j2zfZ/ivbnnpc0uMl/ZXtdbbvb9e/xvYdtg+wfamkn0va1fazbH+tfa6f2j7P\n",
       "9j5Dr79T+7prba+y/dsjjvEptv/d9s9s32z7s7YfOfT419vXuMP2xaX+gMRI05U/zhBOuE3HfQDI\n",
       "V+r8hz4j81xNYVv+eumknX6x9pAn2nso4tIzZv9cv/rx+XguPfjy7CskfUzSr0raS9IXJH1H0qmS\n",
       "XiLpEkmfkXTC0PM8TNK7JB0i6ceSfijpWZJOVnNZOtq/z7C9U0Tc0p5F/BdJN0vaR9IjJH1c0kN/\n",
       "8bX6EZLOlnR++3y/LOkkSX8v6ffazb4g6SJJb5J0n6SnSLpbYpyPA/chzFfqOKcQAijQjkesX+Ck\n",
       "Znn54ZJmWeLm87ke9EPzexHx3vbfq20fIukFkk6NiFvbs4J3RMSPhvbbRNJhEXHRwLpz13sh+whJ\n",
       "vyvpAEmfl7SfpN0kLYmI69pt3iLpvIHd/lDSFpJeFRF3tdu8QdK5tn8lIq6W9DhJfxURV7T7XD2r\n",
       "BDDpmENYKC4ZV4jLO/nIPNtWDxu9fu9ltmI2f6Rn/+bo59ry4fNwoN8dWr5R0mM67HefpIsHV9h+\n",
       "jO0TbX/f9m2Sbm+fa8d2k90kXT9VBlsXSlo3sLybpEumymDrW+02u7fLH5X0d+1l43fYftLAMSzt\n",
       "cOyYRz2aQ1hNISx1nFMIARTojrtHr7/wrAh5Nn+kC84e/Vx3rp2HA713aDnU7fvyzyNieC7XyZKe\n",
       "Iektai5B7ynpOkmbz/KYpvvBHpIUEe9TUw6/LOk5kr5r++BZvgYmV/WFsFQUwgqVOv+hz8g827Wf\n",
       "kA5Zvf66118lXXPceJ9r1u5Rc3m4i+dKOi4izoyIyyXdKemxA49fLmmx7R0G1u2t9X8OXCbpKba3\n",
       "HFj3nHaby6dWRMTqiDguIn5bzRzH17frV3Y8VswT7kOYr9RxzhxCAMWJuPQMew818/y2fHhzNu+a\n",
       "4+bwJpB5fa6Wp/n3KGskPc/25yXdExE/mWHbKyS9yvaFkraU9JdqCuWUcyStkvQ5229VM1fwb9Rc\n",
       "fp7yeUnva7d5t6RtJJ0o6YsRcbXth0v6iKTTJP1A0naSfk3Nm1BQh+oLYakohBWyvbTU33D6iszH\n",
       "4Xs/i7j0gPl4prb8zbUArvdU+sUP1FE3hB5e9241hewqNZd+NxnYbthrJf2tmncpXy/pvZK2feCJ\n",
       "I8L2S9S8a/gCNYXu7WreNTy1zVrbv6nmnc8Xqnn38Jclvbnd5D5JW0taoebs482S/rV9Hsb5GIwh\n",
       "8+oLYanjnEIIAEki4uCBfz9/psfb5QvUzAUcXLdCTSEb3ve7am4nM+jzQ9tcKWnp0DZbDW1zqZp3\n",
       "JI86/ns1i09aQZFG/TJSVSEsFXMIK1TibzZ9R+b5yDwfmefjPoT5Sh3nFEIAANBV9ZeMS0UhrFCp\n",
       "91DqMzLPR+b5yDxfj+5DWI1SxzmFEAAAdDWqEI5axoShEFao1PkPfUbm+cg8H5nn4z6E+Uod5xRC\n",
       "AADQVfWFsFQUwgqVOv+hz8g8H5nnI/N8PZpDWE0hLHWcUwgBAEBX3IewUNyYukKlzn/oMzJfGLZn\n",
       "fHejzc+obGSei/sQ5iv1+zmFEMBEiohqfgABPVL9JeNSTcwlY9vLbK+yfaXtI6fZ5hPt45fY3mtD\n",
       "+9p+me3v2b7f9tOHnuvodvtVtvdfuK8sX6nzH/qMzPOReT4yz8ccwnyljvOJKIS2N5F0vKRlknaX\n",
       "dJDt3Ya2WS5pp4jYWdIbJJ3QYd//kfQSSd8Yeq7dJb283X6ZpE/ZnoisOtpzw5tgnpF5PjLPR+b5\n",
       "sjOvvhCq0HE+KSVnb0mrI2JN++Hqp0o6cGibF0k6WXrgA+G3tr39TPtGxKqIuGLE6x0o6ZSIuDci\n",
       "1kha3T5PKbYe9wFUiMzzkXk+Ms+XnTmFsNBxPimFcLGkaweWr2vXddlmUYd9hy1qt5vNPgAAlI5C\n",
       "WKhJKYRdPydxIQdkSZ/VuGTcB1ChJeM+gAotGfcBVGjJuA+gQkuSX49CWOg4n5R3GV8vaceB5R21\n",
       "/hm8Udvs0G6zWYd9N/R6O7TrHmRDt73oK9uvnu6xE6Svi1tHzLuZMsfCIPN8ZJ5vTJm/TEM//+ze\n",
       "nzh5+PAxz1WJ43xSCuG3Je1se4mkG9S84eOgoW1Ol3SYpFNt7yPptoi4yfbNHfaV1v/t5nRJX7D9\n",
       "UTWXineWdOHwDtz2AgAAlGAiCmFE3Gf7MElnS9pE0mci4nLbb2wfPzEizrC93PZqSXdJOnimfSXJ\n",
       "9kskfULStpK+avuiiDggIi6zfZqkyyTdJ+nQiOj7bz4AAABzYnoOAABA3SblTSWYg425mTfmZkOZ\n",
       "235Fm/V3bX/T9lPHcZwl6TLO2+2eZfs+2y/NPL4SdfzestT2RbYvtb0y+RCL0+F7y7a2z7J9cZv5\n",
       "a8ZwmMWw/fe2b7L9PzNsU9TPTwphoTbmZt6Ymy6ZS7pa0vMi4qmSPiDpb3OPsiwdM5/a7sOSzlJd\n",
       "74acdx2/t2wt6ZOSfici9pD0e+kHWpCO4/wwSRdFxJ6Slkr6a9sTMS2spz6rJu+RSvz5SSEs11xv\n",
       "5r1d7mEWZYOZR8S3IuKn7eIFat7BjrnrMs4l6XBJ/yzpx5kHV6gumf+hpC9GxHWSFBE/ST7G0nTJ\n",
       "/EZJj2z//UhJN0fEfYnHWJSIOE/SrTNsUtzPTwphueZ6M28Kytx1yXzQ6ySdsaBHVL4NZm57sZof\n",
       "nlO/wTNxeuN0Gec7S9rG9rm2v237VWlHV6YumZ8k6cm2b5B0iaQ3Jx1brYr7+cnp5HLN9Wbe/LCc\n",
       "u87Z2X6+pNdKeu7CHU4VumT+MUlHRUTYtrhkvLG6ZL6ZpKdLeoGkLSR9y/b5EXHlgh5Zubpk/g5J\n",
       "F0fEUttPlHSO7adFxB0LfGw1K+rnJ4WwXHO9mffIG3Cjky6Zq30jyUmSlkXETJcksGFdMn+GmvuT\n",
       "Ss0tpg6wfW9EnJ5ziMXpkvm1kn4SEWslrbX9DUlPk0QhnJsumT9H0ockKSKusv2/kp6k5j6+mH/F\n",
       "/fzkknG5HriZt+3N1dyQe/gH4OmS/kiSBm/mnXuYRdlg5rYfJ+lLkl4ZEavHcIyl2WDmEfErEfGE\n",
       "iHiCmnmEb6IMbpQu31u+IunXbG9iewtJz1ZzX1fMTZfMV0naT5LauWxPUvMmNiyM4n5+coawUBtz\n",
       "M2/MTZfMJb1b0qMkndCesbo3IvYe1zFPuo6ZYx51/N6yyvZZkr4raZ2kkyKCQjhHHcf5MZI+a/sS\n",
       "NSd7/k9E3DK2g55wtk+R9BuStrV9raT3qJkKUezPT25MDQAAUDkuGQMAAFSOQggAAFA5CiEAAEDl\n",
       "KIQAAACVoxACAABUjkIIAABQOQohAABA5SiEAAAAlaMQAgAAVI5CCABjZvsRtlfZvsD2pgPr97e9\n",
       "zvabxnl8AMrHR9cBQA/Y3lPS+ZL+JiKOtr2dpEskfSsiXjLeowNQOgohAPSE7bdI+oik35T0Z5Ke\n",
       "LOlpEXHLWA8MQPEohADQI7a/KukFkjaV9MKIOHfMhwSgAswhBIB++UdJm0u6hDIIIAuFEAB6wvb2\n",
       "kj4u6TuS9rR9xJgPCUAlKIQA0AO2LelkSWsl7SfpY5I+bPspYz0wAFVgDiEA9IDtt0s6VtLzI+I8\n",
       "25upedfxQyU9MyLuHusBAigaZwgBYMxsP13SByUdExHnSVJE3CvpIElLJP31+I4OQA04QwgAAFA5\n",
       "zhACAABUjkIIAABQOQohAABA5SiEAAAAlaMQAgAAVI5CCAAAUDkKIQAAQOUohAAAAJWjEAIAAFTu\n",
       "/wPbDXa1JSykqwAAAABJRU5ErkJggg==\n"
      ],
      "text/plain": [
       "<matplotlib.figure.Figure at 0x7f7fd66d45d0>"
      ]
     },
     "metadata": {},
     "output_type": "display_data"
    }
   ],
   "source": [
    "# plots the surface pressure coefficient\n",
    "val_x, val_y = 0.1, 0.2\n",
    "x_min, x_max = min( panel.xa for panel in panels ), max( panel.xa for panel in panels )\n",
    "cp_min, cp_max = min( panel.cp for panel in panels ), max( panel.cp for panel in panels )\n",
    "x_start, x_end = x_min-val_x*(x_max-x_min), x_max+val_x*(x_max-x_min)\n",
    "y_start, y_end = cp_min-val_y*(cp_max-cp_min), cp_max+val_y*(cp_max-cp_min)\n",
    "\n",
    "pyplot.figure(figsize=(10, 6))\n",
    "pyplot.grid(True)\n",
    "pyplot.xlabel('x', fontsize=16)\n",
    "pyplot.ylabel('$C_p$', fontsize=16)\n",
    "pyplot.plot([panel.xc for panel in panels if panel.loc == 'extrados'], \n",
    "         [panel.cp for panel in panels if panel.loc == 'extrados'], \n",
    "         color='r', linestyle='-', linewidth=2, marker='o', markersize=6)\n",
    "pyplot.plot([panel.xc for panel in panels if panel.loc == 'intrados'], \n",
    "         [panel.cp for panel in panels if panel.loc == 'intrados'], \n",
    "         color='b', linestyle='-', linewidth=1, marker='o', markersize=6)\n",
    "pyplot.legend(['extrados', 'intrados'], loc='best', prop={'size':14})\n",
    "pyplot.xlim(x_start, x_end)\n",
    "pyplot.ylim(y_start, y_end)\n",
    "pyplot.gca().invert_yaxis()\n",
    "pyplot.title('Number of panels : %d' % N);"
   ]
  },
  {
   "cell_type": "markdown",
   "metadata": {},
   "source": [
    "##### Accuracy check"
   ]
  },
  {
   "cell_type": "markdown",
   "metadata": {},
   "source": [
    "For a closed body, the sum of all the source strengths must be zero. If not, it means the body would be adding or absorbing mass from the flow! Therfore, we should have\n",
    "\n",
    "$$\\sum_{i=1}^{N} \\sigma_i l_i = 0$$\n",
    "\n",
    "where $l_i$ is the length of the $i^{\\text{th}}$ panel.\n",
    "\n",
    "With this, we can get a measure of the accuracy of the source panel method."
   ]
  },
  {
   "cell_type": "code",
   "execution_count": 21,
   "metadata": {
    "collapsed": false
   },
   "outputs": [
    {
     "name": "stdout",
     "output_type": "stream",
     "text": [
      "--> sum of source/sink strengths: 0.00461703117528\n"
     ]
    }
   ],
   "source": [
    "# calculates the accuracy\n",
    "accuracy = sum([panel.sigma*panel.length for panel in panels])\n",
    "print '--> sum of source/sink strengths:', accuracy"
   ]
  },
  {
   "cell_type": "markdown",
   "metadata": {},
   "source": [
    "### Lift coefficient"
   ]
  },
  {
   "cell_type": "markdown",
   "metadata": {},
   "source": [
    "The lift  is given by the Kutta-Joukowski theorem, $L = \\rho \\Gamma U_\\infty$, \n",
    "where $\\rho$ is the fluid density. The total circulation $\\Gamma$ is given by:\n",
    "\n",
    "$$\\Gamma = \\sum_{i=1}^N \\gamma l_i$$\n",
    "\n",
    "Finally, the lift coefficient is given by:\n",
    "\n",
    "$$C_l = \\frac{\\sum_{i=1}^N \\gamma l_i}{\\frac{1}{2}U_\\infty c}$$\n",
    "\n",
    " with $c$ the chord-length of the airoil"
   ]
  },
  {
   "cell_type": "code",
   "execution_count": 22,
   "metadata": {
    "collapsed": false
   },
   "outputs": [
    {
     "name": "stdout",
     "output_type": "stream",
     "text": [
      "--> Lift coefficient: Cl = -0.013\n"
     ]
<<<<<<< HEAD
=======
    },
    {
     "cell_type": "code",
     "collapsed": false,
     "input": [
      "from IPython.core.display import HTML\n",
      "def css_styling():\n",
      "    styles = open('../styles/custom.css', 'r').read()\n",
      "    return HTML(styles)\n",
      "css_styling()"
     ],
     "language": "python",
     "metadata": {},
     "outputs": [
      {
       "html": [
        "<link href='http://fonts.googleapis.com/css?family=Fenix' rel='stylesheet' type='text/css'>\n",
        "<link href='http://fonts.googleapis.com/css?family=Alegreya+Sans:100,300,400,500,700,800,900,100italic,300italic,400italic,500italic,700italic,800italic,900italic' rel='stylesheet' type='text/css'>\n",
        "<link href='http://fonts.googleapis.com/css?family=Source+Code+Pro:300,400' rel='stylesheet' type='text/css'>\n",
        "<style>\n",
        "    @font-face {\n",
        "        font-family: \"Computer Modern\";\n",
        "        src: url('http://mirrors.ctan.org/fonts/cm-unicode/fonts/otf/cmunss.otf');\n",
        "    }\n",
        "    div.cell{\n",
        "        width:800px;\n",
        "        margin-left:16% !important;\n",
        "        margin-right:auto;\n",
        "    }\n",
        "    h1 {\n",
        "        font-family: 'Alegreya Sans', sans-serif;\n",
        "    }\n",
        "    h2 {\n",
        "        font-family: 'Fenix', serif;\n",
        "    }\n",
        "    h3{\n",
        "\t\tfont-family: 'Fenix', serif;\n",
        "        margin-top:12px;\n",
        "        margin-bottom: 3px;\n",
        "       }\n",
        "\th4{\n",
        "\t\tfont-family: 'Fenix', serif;\n",
        "       }\n",
        "    h5 {\n",
        "        font-family: 'Alegreya Sans', sans-serif;\n",
        "    }\t   \n",
        "    div.text_cell_render{\n",
        "        font-family: 'Alegreya Sans',Computer Modern, \"Helvetica Neue\", Arial, Helvetica, Geneva, sans-serif;\n",
        "        line-height: 135%;\n",
        "        font-size: 120%;\n",
        "        width:600px;\n",
        "        margin-left:auto;\n",
        "        margin-right:auto;\n",
        "    }\n",
        "    .CodeMirror{\n",
        "            font-family: \"Source Code Pro\";\n",
        "\t\t\tfont-size: 90%;\n",
        "    }\n",
        "/*    .prompt{\n",
        "        display: None;\n",
        "    }*/\n",
        "    .text_cell_render h1 {\n",
        "        font-weight: 200;\n",
        "        font-size: 50pt;\n",
        "\t\tline-height: 100%;\n",
        "        color:#CD2305;\n",
        "        margin-bottom: 0.5em;\n",
        "        margin-top: 0.5em;\n",
        "        display: block;\n",
        "    }\t\n",
        "    .text_cell_render h5 {\n",
        "        font-weight: 300;\n",
        "        font-size: 16pt;\n",
        "        color: #CD2305;\n",
        "        font-style: italic;\n",
        "        margin-bottom: .5em;\n",
        "        margin-top: 0.5em;\n",
        "        display: block;\n",
        "    }\n",
        "    \n",
        "    .warning{\n",
        "        color: rgb( 240, 20, 20 )\n",
        "        }  \n",
        "</style>\n",
        "<script>\n",
        "    MathJax.Hub.Config({\n",
        "                        TeX: {\n",
        "                           extensions: [\"AMSmath.js\"], \n",
        "                           equationNumbers: { autoNumber: \"AMS\", useLabelIds: true}\n",
        "                           },\n",
        "                tex2jax: {\n",
        "                    inlineMath: [ ['$','$'], [\"\\\\(\",\"\\\\)\"] ],\n",
        "                    displayMath: [ ['$$','$$'], [\"\\\\[\",\"\\\\]\"] ]\n",
        "                },\n",
        "                displayAlign: 'center', // Change this to 'center' to center equations.\n",
        "                \"HTML-CSS\": {\n",
        "                    styles: {'.MathJax_Display': {\"margin\": 4}}\n",
        "                }\n",
        "        });\n",
        "</script>\n"
       ],
       "metadata": {},
       "output_type": "pyout",
       "prompt_number": 23,
       "text": [
        "<IPython.core.display.HTML at 0x109e4d510>"
       ]
      }
     ],
     "prompt_number": 23
>>>>>>> upstream/master
    }
   ],
   "source": [
    "# calculates of the lift\n",
    "cl = gamma*sum(panel.length for panel in panels)/(0.5*freestream.u_inf*(x_max-x_min))\n",
    "print '--> Lift coefficient: Cl = %.3f' % cl"
   ]
  },
  {
   "cell_type": "markdown",
   "metadata": {},
   "source": [
    "##### Challenge task"
   ]
  },
  {
   "cell_type": "markdown",
   "metadata": {},
   "source": [
    "Based on what has been done in the previous notebook, compute and plot the streamlines and the pressure coefficient on a Cartesian grid."
   ]
  },
  {
   "cell_type": "markdown",
   "metadata": {},
   "source": [
    "---"
   ]
  },
  {
   "cell_type": "raw",
   "metadata": {},
   "source": [
    "Please ignore the cell below. It just loads our style for the notebook."
   ]
  },
  {
   "cell_type": "code",
   "execution_count": 23,
   "metadata": {
    "collapsed": false
   },
   "outputs": [
    {
     "data": {
      "text/html": [
       "<link href='http://fonts.googleapis.com/css?family=Fenix' rel='stylesheet' type='text/css'>\n",
       "<link href='http://fonts.googleapis.com/css?family=Alegreya+Sans:100,300,400,500,700,800,900,100italic,300italic,400italic,500italic,700italic,800italic,900italic' rel='stylesheet' type='text/css'>\n",
       "<link href='http://fonts.googleapis.com/css?family=Source+Code+Pro:300,400' rel='stylesheet' type='text/css'>\n",
       "<style>\n",
       "    @font-face {\n",
       "        font-family: \"Computer Modern\";\n",
       "        src: url('http://mirrors.ctan.org/fonts/cm-unicode/fonts/otf/cmunss.otf');\n",
       "    }\n",
       "    div.cell{\n",
       "        width:800px;\n",
       "        margin-left:16% !important;\n",
       "        margin-right:auto;\n",
       "    }\n",
       "    h1 {\n",
       "        font-family: 'Alegreya Sans', sans-serif;\n",
       "    }\n",
       "    h2 {\n",
       "        font-family: 'Fenix', serif;\n",
       "    }\n",
       "    h3{\n",
       "\t\tfont-family: 'Fenix', serif;\n",
       "        margin-top:12px;\n",
       "        margin-bottom: 3px;\n",
       "       }\n",
       "\th4{\n",
       "\t\tfont-family: 'Fenix', serif;\n",
       "       }\n",
       "    h5 {\n",
       "        font-family: 'Alegreya Sans', sans-serif;\n",
       "    }\t   \n",
       "    div.text_cell_render{\n",
       "        font-family: 'Alegreya Sans',Computer Modern, \"Helvetica Neue\", Arial, Helvetica, Geneva, sans-serif;\n",
       "        line-height: 135%;\n",
       "        font-size: 120%;\n",
       "        width:600px;\n",
       "        margin-left:auto;\n",
       "        margin-right:auto;\n",
       "    }\n",
       "    .CodeMirror{\n",
       "            font-family: \"Source Code Pro\";\n",
       "\t\t\tfont-size: 90%;\n",
       "    }\n",
       "/*    .prompt{\n",
       "        display: None;\n",
       "    }*/\n",
       "    .text_cell_render h1 {\n",
       "        font-weight: 200;\n",
       "        font-size: 50pt;\n",
       "\t\tline-height: 100%;\n",
       "        color:#CD2305;\n",
       "        margin-bottom: 0.5em;\n",
       "        margin-top: 0.5em;\n",
       "        display: block;\n",
       "    }\t\n",
       "    .text_cell_render h5 {\n",
       "        font-weight: 300;\n",
       "        font-size: 16pt;\n",
       "        color: #CD2305;\n",
       "        font-style: italic;\n",
       "        margin-bottom: .5em;\n",
       "        margin-top: 0.5em;\n",
       "        display: block;\n",
       "    }\n",
       "    \n",
       "    .warning{\n",
       "        color: rgb( 240, 20, 20 )\n",
       "        }  \n",
       "</style>\n",
       "<script>\n",
       "    MathJax.Hub.Config({\n",
       "                        TeX: {\n",
       "                           extensions: [\"AMSmath.js\"]\n",
       "                           },\n",
       "                tex2jax: {\n",
       "                    inlineMath: [ ['$','$'], [\"\\\\(\",\"\\\\)\"] ],\n",
       "                    displayMath: [ ['$$','$$'], [\"\\\\[\",\"\\\\]\"] ]\n",
       "                },\n",
       "                displayAlign: 'center', // Change this to 'center' to center equations.\n",
       "                \"HTML-CSS\": {\n",
       "                    styles: {'.MathJax_Display': {\"margin\": 4}}\n",
       "                }\n",
       "        });\n",
       "</script>\n"
      ],
      "text/plain": [
       "<IPython.core.display.HTML at 0x7f00121c56d0>"
      ]
     },
     "execution_count": 23,
     "metadata": {},
     "output_type": "execute_result"
    }
   ],
   "source": [
    "from IPython.core.display import HTML\n",
    "def css_styling():\n",
    "    styles = open('../styles/custom.css', 'r').read()\n",
    "    return HTML(styles)\n",
    "css_styling()"
   ]
  }
 ],
 "metadata": {
  "kernelspec": {
   "display_name": "Python 3",
   "language": "python",
   "name": "python3"
  },
  "language_info": {
   "codemirror_mode": {
    "name": "ipython",
    "version": 3
   },
   "file_extension": ".py",
   "mimetype": "text/x-python",
   "name": "python",
   "nbconvert_exporter": "python",
   "pygments_lexer": "ipython3",
   "version": "3.3.5"
  }
 },
 "nbformat": 4,
 "nbformat_minor": 0
}
